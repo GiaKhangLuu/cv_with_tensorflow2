{
 "cells": [
  {
   "cell_type": "code",
   "execution_count": 306,
   "id": "39c757f6",
   "metadata": {},
   "outputs": [],
   "source": [
    "import tensorflow as tf\n",
    "import os\n",
    "import matplotlib.pyplot as plt\n",
    "from skimage import io\n",
    "import numpy as np\n",
    "from tensorflow.keras.layers import MaxPooling2D, Flatten, Dense\n",
    "random_seed = 42"
   ]
  },
  {
   "cell_type": "code",
   "execution_count": 307,
   "id": "f04d84e9",
   "metadata": {},
   "outputs": [],
   "source": [
    "@tf.function\n",
    "def conv_function(inputs, kernel, s, p, bias):\n",
    "    z = tf.nn.conv2d(inputs, kernel, strides=[1, *s, 1], padding=p)\n",
    "    return tf.nn.relu(z + bias)\n",
    "\n",
    "class SimpleConvLayer(tf.keras.layers.Layer):\n",
    "    def __init__(self, num_kernels=32, kernel_size=(3, 3), strides=(1, 1), padding='VALID'):\n",
    "        super().__init__()\n",
    "        self.num_kernels = num_kernels\n",
    "        self.kernel_size = kernel_size\n",
    "        self.strides = strides\n",
    "        self.padding = padding\n",
    "        \n",
    "    def build(self, input_shape):\n",
    "        num_channels = input_shape[-1]\n",
    "        kernel_shape = (*self.kernel_size, num_channels, self.num_kernels)\n",
    "        glorot_uni_init = tf.initializers.GlorotUniform(random_seed)\n",
    "        self.kernels = self.add_weight(name='kernels', shape=kernel_shape, initializer=glorot_uni_init,\n",
    "                                      trainable=True)\n",
    "        self.bias = self.add_weight(name='bias', shape=(self.num_kernels, ), initializer='random_normal',\n",
    "                                   trainable=True)\n",
    "    \n",
    "    def call(self, inputs):\n",
    "        return conv_function(inputs, self.kernels, self.strides, self.padding, self.bias)"
   ]
  },
  {
   "cell_type": "code",
   "execution_count": 308,
   "id": "c66bba7d",
   "metadata": {},
   "outputs": [],
   "source": [
    "def l2_reg(coef=1e-2):\n",
    "    return lambda x: tf.reduce_sum(x ** 2) * coef"
   ]
  },
  {
   "cell_type": "code",
   "execution_count": 309,
   "id": "140ebfeb",
   "metadata": {},
   "outputs": [],
   "source": [
    "from functools import partial\n",
    "\n",
    "class ConvWithReg(SimpleConvLayer):\n",
    "    def __init__(self, kernel_regularizer=l2_reg(), bias_regularizer=l2_reg(), **kwargs):\n",
    "        super().__init__(**kwargs)\n",
    "        self.kernel_regularizer = kernel_regularizer\n",
    "        self.bias_regularizer = bias_regularizer\n",
    "        \n",
    "    def build(self, input_shape):\n",
    "        super().build(input_shape)\n",
    "        if self.kernel_regularizer is not None:\n",
    "            self.add_loss(partial(self.kernel_regularizer, self.kernels))\n",
    "        if self.bias_regularizer is not None:\n",
    "            self.add_loss(partial(self.bias_regularizer, self.bias))"
   ]
  },
  {
   "cell_type": "code",
   "execution_count": 310,
   "id": "1fd65970",
   "metadata": {},
   "outputs": [],
   "source": [
    "conv_with_reg = ConvWithReg()"
   ]
  },
  {
   "cell_type": "code",
   "execution_count": 311,
   "id": "0fba39e7",
   "metadata": {},
   "outputs": [],
   "source": [
    "conv_with_reg.build(input_shape=(1, 200, 200, 3))"
   ]
  },
  {
   "cell_type": "code",
   "execution_count": 312,
   "id": "2cfbd5b0",
   "metadata": {},
   "outputs": [
    {
     "data": {
      "text/plain": [
       "[<tf.Tensor: shape=(), dtype=float32, numpy=0.0560476>,\n",
       " <tf.Tensor: shape=(), dtype=float32, numpy=0.00065425213>]"
      ]
     },
     "execution_count": 312,
     "metadata": {},
     "output_type": "execute_result"
    }
   ],
   "source": [
    "conv_with_reg.losses"
   ]
  },
  {
   "cell_type": "code",
   "execution_count": 313,
   "id": "ed13430b",
   "metadata": {},
   "outputs": [],
   "source": [
    "class LeNet5(tf.keras.models.Model):\n",
    "    def __init__(self, num_classes):\n",
    "        super().__init__()\n",
    "        self.conv1 = ConvWithReg(num_kernels=6, kernel_size=(5, 5))\n",
    "        self.conv2 = ConvWithReg(num_kernels=16, kernel_size=(5, 5))\n",
    "        self.max_pool = MaxPooling2D(pool_size=(2, 2))\n",
    "        self.dense1 = Dense(128, activation='relu')\n",
    "        self.dense2 = Dense(64, activation='relu')\n",
    "        self.dense3 = Dense(num_classes, activation='softmax')\n",
    "        self.flatten = Flatten()\n",
    "        \n",
    "    def call(self, inputs):\n",
    "        x = self.max_pool(self.conv1(inputs))\n",
    "        x = self.max_pool(self.conv2(x))\n",
    "        x = self.flatten(x)\n",
    "        x = self.dense3(self.dense2(self.dense1(x)))\n",
    "        return x"
   ]
  },
  {
   "cell_type": "code",
   "execution_count": 314,
   "id": "717ef1a4",
   "metadata": {},
   "outputs": [],
   "source": [
    "lenet5 = LeNet5(num_classes)"
   ]
  },
  {
   "cell_type": "code",
   "execution_count": 315,
   "id": "b730d172",
   "metadata": {},
   "outputs": [],
   "source": [
    "lenet5.build(input_shape=(None, 100, 100, 3))"
   ]
  },
  {
   "cell_type": "code",
   "execution_count": 316,
   "id": "40fe7c9d",
   "metadata": {},
   "outputs": [
    {
     "name": "stdout",
     "output_type": "stream",
     "text": [
      "Model: \"le_net5_10\"\n",
      "_________________________________________________________________\n",
      "Layer (type)                 Output Shape              Param #   \n",
      "=================================================================\n",
      "conv_with_reg_37 (ConvWithRe multiple                  456       \n",
      "_________________________________________________________________\n",
      "conv_with_reg_38 (ConvWithRe multiple                  2416      \n",
      "_________________________________________________________________\n",
      "max_pooling2d_10 (MaxPooling multiple                  0         \n",
      "_________________________________________________________________\n",
      "dense_30 (Dense)             multiple                  991360    \n",
      "_________________________________________________________________\n",
      "dense_31 (Dense)             multiple                  8256      \n",
      "_________________________________________________________________\n",
      "dense_32 (Dense)             multiple                  650       \n",
      "_________________________________________________________________\n",
      "flatten_10 (Flatten)         multiple                  0         \n",
      "=================================================================\n",
      "Total params: 1,003,138\n",
      "Trainable params: 1,003,138\n",
      "Non-trainable params: 0\n",
      "_________________________________________________________________\n"
     ]
    }
   ],
   "source": [
    "lenet5.summary()"
   ]
  },
  {
   "cell_type": "code",
   "execution_count": 317,
   "id": "0e33c720",
   "metadata": {},
   "outputs": [],
   "source": [
    "x = tf.random.normal((100, 100, 3))\n",
    "x = tf.expand_dims(x, 0)"
   ]
  },
  {
   "cell_type": "code",
   "execution_count": 318,
   "id": "415aa849",
   "metadata": {},
   "outputs": [
    {
     "name": "stdout",
     "output_type": "stream",
     "text": [
      "WARNING:tensorflow:5 out of the last 7 calls to <function conv_function at 0x7fbd7e5f3e50> triggered tf.function retracing. Tracing is expensive and the excessive number of tracings could be due to (1) creating @tf.function repeatedly in a loop, (2) passing tensors with different shapes, (3) passing Python objects instead of tensors. For (1), please define your @tf.function outside of the loop. For (2), @tf.function has experimental_relax_shapes=True option that relaxes argument shapes that can avoid unnecessary retracing. For (3), please refer to https://www.tensorflow.org/guide/function#controlling_retracing and https://www.tensorflow.org/api_docs/python/tf/function for  more details.\n"
     ]
    }
   ],
   "source": [
    "y = lenet5(x)"
   ]
  },
  {
   "cell_type": "code",
   "execution_count": 319,
   "id": "d57a46cf",
   "metadata": {},
   "outputs": [
    {
     "data": {
      "text/plain": [
       "TensorShape([1, 10])"
      ]
     },
     "execution_count": 319,
     "metadata": {},
     "output_type": "execute_result"
    }
   ],
   "source": [
    "y.shape"
   ]
  },
  {
   "cell_type": "code",
   "execution_count": 320,
   "id": "9940c568",
   "metadata": {},
   "outputs": [],
   "source": [
    "conv = ConvWithReg()"
   ]
  },
  {
   "cell_type": "code",
   "execution_count": 321,
   "id": "72625814",
   "metadata": {},
   "outputs": [],
   "source": [
    "conv.build(input_shape=(None, 100, 100, 3))"
   ]
  },
  {
   "cell_type": "code",
   "execution_count": 322,
   "id": "ecd2f138",
   "metadata": {},
   "outputs": [
    {
     "name": "stdout",
     "output_type": "stream",
     "text": [
      "WARNING:tensorflow:6 out of the last 8 calls to <function conv_function at 0x7fbd7e5f3e50> triggered tf.function retracing. Tracing is expensive and the excessive number of tracings could be due to (1) creating @tf.function repeatedly in a loop, (2) passing tensors with different shapes, (3) passing Python objects instead of tensors. For (1), please define your @tf.function outside of the loop. For (2), @tf.function has experimental_relax_shapes=True option that relaxes argument shapes that can avoid unnecessary retracing. For (3), please refer to https://www.tensorflow.org/guide/function#controlling_retracing and https://www.tensorflow.org/api_docs/python/tf/function for  more details.\n"
     ]
    }
   ],
   "source": [
    "y = conv(x)"
   ]
  },
  {
   "cell_type": "code",
   "execution_count": 323,
   "id": "8e9c132d",
   "metadata": {},
   "outputs": [
    {
     "data": {
      "text/plain": [
       "TensorShape([1, 98, 98, 32])"
      ]
     },
     "execution_count": 323,
     "metadata": {},
     "output_type": "execute_result"
    }
   ],
   "source": [
    "y.shape"
   ]
  },
  {
   "cell_type": "code",
   "execution_count": 324,
   "id": "63c8e33a",
   "metadata": {},
   "outputs": [],
   "source": [
    "conv = ConvWithReg(num_kernels=10, kernel_size=(3, 3))"
   ]
  },
  {
   "cell_type": "code",
   "execution_count": null,
   "id": "2b41508f",
   "metadata": {},
   "outputs": [],
   "source": []
  }
 ],
 "metadata": {
  "kernelspec": {
   "display_name": "Python 3",
   "language": "python",
   "name": "python3"
  },
  "language_info": {
   "codemirror_mode": {
    "name": "ipython",
    "version": 3
   },
   "file_extension": ".py",
   "mimetype": "text/x-python",
   "name": "python",
   "nbconvert_exporter": "python",
   "pygments_lexer": "ipython3",
   "version": "3.8.8"
  }
 },
 "nbformat": 4,
 "nbformat_minor": 5
}
