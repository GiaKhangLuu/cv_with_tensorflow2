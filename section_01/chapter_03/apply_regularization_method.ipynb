{
  "nbformat": 4,
  "nbformat_minor": 0,
  "metadata": {
    "colab": {
      "name": "apply_regularization_method",
      "provenance": []
    },
    "kernelspec": {
      "name": "python3",
      "display_name": "Python 3"
    },
    "language_info": {
      "name": "python"
    },
    "accelerator": "GPU"
  },
  "cells": [
    {
      "cell_type": "markdown",
      "metadata": {
        "id": "g64r0dWF9nzM"
      },
      "source": [
        "# Import libs"
      ]
    },
    {
      "cell_type": "code",
      "metadata": {
        "colab": {
          "base_uri": "https://localhost:8080/"
        },
        "id": "4S1IdOp79PxS",
        "outputId": "1f52d78d-2be6-4020-d22f-15f838796c85"
      },
      "source": [
        "# Common libs\n",
        "import numpy as np\n",
        "import matplotlib.pyplot as plt\n",
        "\n",
        "# Tensorflow\n",
        "import tensorflow as tf\n",
        "from tensorflow.keras import Model, Sequential\n",
        "from tensorflow.keras.layers import Conv2D, Dense, MaxPooling2D, Flatten, Layer, Input, BatchNormalization, Dropout, Activation\n",
        "from tensorflow.keras.datasets import mnist\n",
        "from tensorflow.keras.optimizers import SGD, Adagrad, Adadelta, RMSprop, Adam\n",
        "from tensorflow.keras.regularizers import l1, l2\n",
        "\n",
        "print('Import succesfully')"
      ],
      "execution_count": 1,
      "outputs": [
        {
          "output_type": "stream",
          "text": [
            "Import succesfully\n"
          ],
          "name": "stdout"
        }
      ]
    },
    {
      "cell_type": "code",
      "metadata": {
        "id": "r3QiznmU6lMi"
      },
      "source": [
        "# Defining the seed for some random operations:\n",
        "random_seed = 42\n",
        "\n",
        "# Setting some variables to format the logs:\n",
        "log_begin_red, log_begin_blue, log_begin_green = '\\033[91m', '\\033[94m', '\\033[92m'\n",
        "log_begin_bold, log_begin_underline = '\\033[1m', '\\033[4m'\n",
        "log_end_format = '\\033[0m'"
      ],
      "execution_count": 2,
      "outputs": []
    },
    {
      "cell_type": "markdown",
      "metadata": {
        "id": "2a22f7wL-ixb"
      },
      "source": [
        "# Prepare dataset\n",
        "\n",
        "Download mnist dataset. The dataset contains 60,000 images for the training and 10,000 images for the testing. Then normalize the images from range [0, 255] to [0, 1] and resize to 28 x 28 x 1."
      ]
    },
    {
      "cell_type": "code",
      "metadata": {
        "id": "b1cTJxG693U6",
        "colab": {
          "base_uri": "https://localhost:8080/"
        },
        "outputId": "23893d62-f12a-4b4f-b156-b64ec0ca3b21"
      },
      "source": [
        "num_classes = 10\n",
        "img_rows, img_cols, img_channels = 28, 28, 1\n",
        "input_shape = (img_rows, img_cols, img_channels)\n",
        "\n",
        "(X_train, y_train), (X_test, y_test) = mnist.load_data()"
      ],
      "execution_count": 3,
      "outputs": [
        {
          "output_type": "stream",
          "text": [
            "Downloading data from https://storage.googleapis.com/tensorflow/tf-keras-datasets/mnist.npz\n",
            "11493376/11490434 [==============================] - 0s 0us/step\n"
          ],
          "name": "stdout"
        }
      ]
    },
    {
      "cell_type": "code",
      "metadata": {
        "id": "UJrNr-uP_g5r"
      },
      "source": [
        "X_train, X_test = X_train / 255.0, X_test / 255.0\n",
        "X_train = X_train.reshape(X_train.shape[0], *input_shape)\n",
        "X_test = X_test.reshape(X_test.shape[0], *input_shape)"
      ],
      "execution_count": 4,
      "outputs": []
    },
    {
      "cell_type": "markdown",
      "metadata": {
        "id": "1VqhhZrB2Hhy"
      },
      "source": [
        "To highlights the advantages of regularization, we will reduce the number of samples available for training"
      ]
    },
    {
      "cell_type": "code",
      "metadata": {
        "colab": {
          "base_uri": "https://localhost:8080/"
        },
        "id": "QBlstApR1kxS",
        "outputId": "8a2d3a53-b050-4d8d-a833-facdf2e7c73e"
      },
      "source": [
        "# Get 200 samples from train set instead of 60000\n",
        "X_train, y_train = X_train[:200], y_train[:200] \n",
        "\n",
        "print('Training set: ', X_train.shape)\n",
        "print('Test set: ', X_test.shape)"
      ],
      "execution_count": 5,
      "outputs": [
        {
          "output_type": "stream",
          "text": [
            "Training set:  (200, 28, 28, 1)\n",
            "Test set:  (10000, 28, 28, 1)\n"
          ],
          "name": "stdout"
        }
      ]
    },
    {
      "cell_type": "markdown",
      "metadata": {
        "id": "pFOcYkbH21iO"
      },
      "source": [
        "# Manually define Convolution layer and Regularization"
      ]
    },
    {
      "cell_type": "markdown",
      "metadata": {
        "id": "Gkl6bKAL3Mf5"
      },
      "source": [
        "## Define simple Conv layer without Regularization"
      ]
    },
    {
      "cell_type": "code",
      "metadata": {
        "id": "zFKLYCmI2xyf"
      },
      "source": [
        "@tf.function\n",
        "def conv_layer(inputs, kernels, bias, stride):\n",
        "  x = tf.nn.conv2d(inputs, kernels, strides=[1, stride, stride, 1], padding='VALID')\n",
        "  # Applying the bias and activation function\n",
        "  return tf.nn.relu(x + bias)\n",
        "\n",
        "class SimpleConvolutionLayer(Layer):\n",
        "  def __init__(self, num_kernels=32, kernel_size=(3, 3), stride=1):\n",
        "    \"\"\"Initialize the layer.\n",
        "    :param num_kernels: Number of kernels.\n",
        "    :param kernel_size: Kernel size (H x W).\n",
        "    :param stride: stride.\n",
        "    \"\"\"\n",
        "\n",
        "    super().__init__()\n",
        "    self.num_kernels = num_kernels\n",
        "    self.kernel_size = kernel_size\n",
        "    self.stride = stride\n",
        "\n",
        "  def build(self, input_shape):\n",
        "    \"\"\"Build the layer, initializing its parameters.\n",
        "    This will be internally called the 1st time the layer is used.\n",
        "    :param input_shape: Input shape for the layer (e.g. B x H x W x D).\n",
        "    \"\"\"\n",
        "\n",
        "    num_channels = input_shape[-1]\n",
        "    # Set the shape of kernel (e.g. H x W x D x N).\n",
        "    kernel_shape = (*self.kernel_size, num_channels, self.num_kernels)  \n",
        "    # Initialize the filter values e.g. from Glorot distributions:\n",
        "    glorot_init = tf.initializers.GlorotUniform()\n",
        "    # Initialize kernel and its weights.\n",
        "    self.kernels = self.add_weight(name='kernel', shape=kernel_shape, \n",
        "                                   initializer=glorot_init, trainable=True)\n",
        "    # Initialize bias from a normal distribution.\n",
        "    self.bias = self.add_weight(name='bias', shape=(self.num_kernels, ), \n",
        "                                initializer='random_normal', trainable=True)\n",
        "    \n",
        "  def call(self, inputs):\n",
        "    \"\"\"Call the layer, apply its operations to the input tensor.\n",
        "    :param inputs: batch of inputs.\n",
        "    \"\"\"\n",
        "    \n",
        "    return conv_layer(inputs, self.kernels, self.bias, self.stride)"
      ],
      "execution_count": 6,
      "outputs": []
    },
    {
      "cell_type": "markdown",
      "metadata": {
        "id": "B9aT2HaG8dQ6"
      },
      "source": [
        "We will extend this layer class to add kernel/bias regularization."
      ]
    },
    {
      "cell_type": "code",
      "metadata": {
        "id": "ORAOSABd62iD"
      },
      "source": [
        "from functools import partial\n",
        "\n",
        "def l2_reg(coef=1e-2):\n",
        "  \"\"\"Return a function computing a weighted L2 norm of a given tensor.\n",
        "  :param coef: Weight for the norm.\n",
        "  :return: loss function\n",
        "  \"\"\"\n",
        "\n",
        "  return lambda x: tf.reduce_sum(x ** 2) * coef\n",
        "\n",
        "class ConvWithRegularizers(SimpleConvolutionLayer):\n",
        "  def __init__(self, num_kernels=32, kernel_size=(3, 3), stride=1, \n",
        "               kernel_regularizer=l2_reg(), bias_regularizer=l2_reg()):\n",
        "    \"\"\"Initializer the layer.\n",
        "    :param num_kernels: Number of kernels.\n",
        "    :param kernel_size: Kernel size (H x W).\n",
        "    :param stride: stride.\n",
        "    :param kernel_regularizer: (opt.) Regularization loss for the kernel.\n",
        "    :param bias_regularizer: (opt.) Regularization loss for the bias.\n",
        "    \"\"\"\n",
        "\n",
        "    super().__init__(num_kernels, kernel_size, stride)\n",
        "    self.kernel_regularizer=kernel_regularizer\n",
        "    self.bias_regularizer=bias_regularizer\n",
        "\n",
        "  def build(self, input_shape):\n",
        "    \"\"\"Build the layer, initialize its component.\n",
        "    :param input_shape: Input shape for the layer (B x H x W x D).\n",
        "    \"\"\"\n",
        "\n",
        "    super().build(input_shape)\n",
        "    # Attaching the regularization losses to the variables.\n",
        "    if self.kernel_regularizer is not None:\n",
        "      self.add_loss(partial(self.kernel_regularizer, self.kernels))\n",
        "    if self.bias_regularizer is not None:\n",
        "      self.add_loss(partial(self.bias_regularizer, self.bias))"
      ],
      "execution_count": 7,
      "outputs": []
    },
    {
      "cell_type": "markdown",
      "metadata": {
        "id": "sBaR5ayjKD5n"
      },
      "source": [
        "When instantiating this layer, the regularizer passed as attributes will be attached to the layer. The loss values of these regularizers can be obtained whenever, simply calling the layer's property `.losses`."
      ]
    },
    {
      "cell_type": "code",
      "metadata": {
        "colab": {
          "base_uri": "https://localhost:8080/"
        },
        "id": "8CRSHAA9633f",
        "outputId": "2af369d5-b5cf-4d6c-a8f7-647d2424a75d"
      },
      "source": [
        "conv = ConvWithRegularizers(num_kernels=32, kernel_size=(3, 3), stride=1,\n",
        "                            kernel_regularizer=l2_reg(1.), bias_regularizer=l2_reg(1.))\n",
        "conv.build(input_shape=tf.TensorShape((None, *X_train[0].shape)))\n",
        "\n",
        "# Fetching the layer' losses:\n",
        "reg_losses = conv.losses\n",
        "print('Regularization losses over kernel and bias parameter: {}'.format(\n",
        "    [loss.numpy() for loss in reg_losses]\n",
        "))\n",
        "\n",
        "# Comparing with the L2 norms of its kernels and bias tensors:\n",
        "kernel_norm, bias_norm = tf.reduce_sum(conv.kernels ** 2).numpy(), tf.reduce_sum(conv.bias ** 2).numpy()\n",
        "print('L2 norms of kernel and bias parameters: {}'.format([kernel_norm, bias_norm]))"
      ],
      "execution_count": 8,
      "outputs": [
        {
          "output_type": "stream",
          "text": [
            "Regularization losses over kernel and bias parameter: [1.8983475, 0.11072562]\n",
            "L2 norms of kernel and bias parameters: [1.8983475, 0.11072562]\n"
          ],
          "name": "stdout"
        }
      ]
    },
    {
      "cell_type": "markdown",
      "metadata": {
        "id": "mNy2LJd9Fho5"
      },
      "source": [
        "The property `losses` also lists all the losses attached to all the layers and models composing an instance."
      ]
    },
    {
      "cell_type": "code",
      "metadata": {
        "id": "jVDBiYDaM-ze",
        "colab": {
          "base_uri": "https://localhost:8080/"
        },
        "outputId": "0e6c4599-3db1-4f87-d873-03b4a449ba33"
      },
      "source": [
        "# Creating model\n",
        "model = Sequential([Input(shape=tf.TensorShape((None, *input_shape))),\n",
        "                    ConvWithRegularizers(kernel_regularizer=l2_reg(1.), bias_regularizer=l2_reg(1.)),\n",
        "                    ConvWithRegularizers(kernel_regularizer=l2_reg(1.), bias_regularizer=l2_reg(1.)),\n",
        "                    ConvWithRegularizers(kernel_regularizer=l2_reg(1.), bias_regularizer=l2_reg(1.))])\n",
        "\n",
        "print('Losses attached to the model and its layers:\\n\\r{} ({} losses)'.format(\n",
        "    [loss.numpy() for loss in model.losses], len(model.losses)\n",
        "))"
      ],
      "execution_count": 9,
      "outputs": [
        {
          "output_type": "stream",
          "text": [
            "WARNING:tensorflow:Please add `keras.layers.InputLayer` instead of `keras.Input` to Sequential model. `keras.Input` is intended to be used by Functional model.\n",
            "Losses attached to the model and its layers:\n",
            "[2.0931308, 0.07003205, 31.58438, 0.10536526, 31.724579, 0.08345811] (6 losses)\n"
          ],
          "name": "stdout"
        }
      ]
    },
    {
      "cell_type": "markdown",
      "metadata": {
        "id": "5GHyEzjCNVNy"
      },
      "source": [
        "Building LeNet5 with out custom conv layer, and train it taking into account the regularization term."
      ]
    },
    {
      "cell_type": "code",
      "metadata": {
        "id": "XGVFsYKKQwCa"
      },
      "source": [
        "class LeNet5(Model):\n",
        "\n",
        "  def __init__(self, num_classes, \n",
        "               kernel_regularizer=l2_reg(), \n",
        "               bias_regularizer=l2_reg()):\n",
        "    \"\"\"Initialize the model.\n",
        "    :param num_classes: number of classes.\n",
        "    :param kernel_regularizer: (opt.) regularizaton for kernels.\n",
        "    :param bias_regularizer: (opt.) regularization for biass.\n",
        "    \"\"\"\n",
        "\n",
        "    super(LeNet5, self).__init__()\n",
        "    self.num_classes = num_classes\n",
        "    self.conv1 = ConvWithRegularizers(num_kernels=6, kernel_size=(5, 5),\n",
        "                                      kernel_regularizer=kernel_regularizer,\n",
        "                                      bias_regularizer=bias_regularizer)\n",
        "    self.conv2 = ConvWithRegularizers(num_kernels=16, kernel_size=(5, 5),\n",
        "                                      kernel_regularizer=kernel_regularizer,\n",
        "                                      bias_regularizer=bias_regularizer)\n",
        "    self.max_pool = MaxPooling2D(pool_size=(2, 2))\n",
        "    self.flatten = Flatten()\n",
        "    self.dense1 = Dense(120, activation='relu')\n",
        "    self.dense2 = Dense(84, activation='relu')\n",
        "    self.dense3 = Dense(num_classes, activation='sigmoid')\n",
        "\n",
        "  def call(self, inputs):\n",
        "    \"\"\"Run the operation of the layers in order to process the input.\n",
        "    :params inputs: input tensor (B x H x W x D).\n",
        "    :return outputs: ouput tensor.\n",
        "    \"\"\"\n",
        "\n",
        "    outputs = self.max_pool(self.conv1(inputs))  # conv1\n",
        "    outputs = self.max_pool(self.conv2(outputs))  # conv2\n",
        "    outputs = self.flatten(outputs)\n",
        "    outputs = self.dense3(self.dense2(self.dense1(outputs))) \n",
        "    return outputs"
      ],
      "execution_count": 10,
      "outputs": []
    },
    {
      "cell_type": "markdown",
      "metadata": {
        "id": "rFf6VwpirZWx"
      },
      "source": [
        "Training model with regularization"
      ]
    },
    {
      "cell_type": "code",
      "metadata": {
        "id": "ie7knAnDq6om"
      },
      "source": [
        "epochs = 200\n",
        "batch_size = 32\n",
        "dataset = tf.data.Dataset.from_tensor_slices((X_train, y_train)).batch(batch_size)\n",
        "optimizer = Adam()\n",
        "log_string_template = 'Epoch {0:3}/{1}: main loss = {6}{2:.4f}{7}; reg loss = {6}{3:.4f}{7}; ' + \\\n",
        "                      'total loss = {6}{4:.4f}{7}; val acc = {6}{5:.2f}%{7}'\n",
        "\n",
        "def train_on_mnist_dataset(model, log_frequency=10):\n",
        "  \"\"\"\n",
        "  Train model on mnist dataset.\n",
        "  Args:\n",
        "    model: model to train .\n",
        "    log_frequency: log interval.\n",
        "  Returns:\n",
        "    model: model was trained on.\n",
        "  \"\"\"\n",
        "\n",
        "  # These 2 variables is used to keep track and compute average\n",
        "  avg_main_loss = tf.keras.metrics.Mean(name='avg_main_loss', dtype=tf.float32)\n",
        "  avg_reg_loss = tf.keras.metrics.Mean(name='avg_reg_loss', dtype=tf.float32)\n",
        "\n",
        "  print('Training: {}start{}'.format(log_begin_red, log_end_format))\n",
        "\n",
        "  for epoch in range(epochs):\n",
        "    # Start new epoch\n",
        "    for (batch_imgs, batch_gts) in dataset:\n",
        "      # Start new batch\n",
        "      with tf.GradientTape() as gradient_tape:\n",
        "        y_hat_train = model(batch_imgs)  # feed forward\n",
        "        main_loss = tf.keras.losses.sparse_categorical_crossentropy(batch_gts, y_hat_train)  # compute main loss\n",
        "        reg_loss = sum(model.losses)  # compute reg loss\n",
        "        total_loss = main_loss + reg_loss  # compute total loss\n",
        "\n",
        "      # Backprop \n",
        "      grads = gradient_tape.gradient(total_loss, model.trainable_variables)\n",
        "      optimizer.apply_gradients(zip(grads, model.trainable_variables))\n",
        "\n",
        "      # Keep track main loss and reg loss\n",
        "      avg_main_loss.update_state(main_loss)\n",
        "      avg_reg_loss.update_state(reg_loss)\n",
        "      # End batch\n",
        "    \n",
        "    # Logging\n",
        "    if (epoch % log_frequency == 0) or (epoch == epochs - 1):\n",
        "      # Compute val acc\n",
        "      y_hat_test = model(X_test)\n",
        "      val_acc = tf.keras.metrics.sparse_categorical_accuracy(y_test, y_hat_test)\n",
        "      val_acc = tf.reduce_mean(val_acc).numpy() * 100\n",
        "\n",
        "      # Compute avg main loss, avg reg loss, avg total loss of epoch\n",
        "      epoch_main_loss, epoch_reg_loss = avg_main_loss.result(), avg_reg_loss.result()\n",
        "      epoch_total_loss = epoch_main_loss + epoch_reg_loss\n",
        "\n",
        "      print(log_string_template.format(epoch, epochs, epoch_main_loss, \n",
        "                                       epoch_reg_loss, epoch_total_loss, val_acc,\n",
        "                                       log_begin_blue, log_end_format))\n",
        "      \n",
        "    # Reset list\n",
        "    avg_main_loss.reset_states()\n",
        "    avg_reg_loss.reset_states()\n",
        "    # End epoch\n",
        "  \n",
        "  print('Training: {}end{}'.format(log_begin_green, log_end_format))\n",
        "  return model"
      ],
      "execution_count": 11,
      "outputs": []
    },
    {
      "cell_type": "code",
      "metadata": {
        "colab": {
          "base_uri": "https://localhost:8080/"
        },
        "id": "CnRL-T5CI8I4",
        "outputId": "b6123cd0-288d-4cd5-be3a-72714b207d12"
      },
      "source": [
        "# Instantiate model with regularization\n",
        "model_with_reg = LeNet5(num_classes, kernel_regularizer=l2_reg(), bias_regularizer=l2_reg())\n",
        "model_with_reg = train_on_mnist_dataset(model_with_reg)"
      ],
      "execution_count": 12,
      "outputs": [
        {
          "output_type": "stream",
          "text": [
            "Training: \u001b[91mstart\u001b[0m\n",
            "WARNING:tensorflow:5 out of the last 15 calls to <function conv_layer at 0x7f3f5e07bf80> triggered tf.function retracing. Tracing is expensive and the excessive number of tracings could be due to (1) creating @tf.function repeatedly in a loop, (2) passing tensors with different shapes, (3) passing Python objects instead of tensors. For (1), please define your @tf.function outside of the loop. For (2), @tf.function has experimental_relax_shapes=True option that relaxes argument shapes that can avoid unnecessary retracing. For (3), please refer to https://www.tensorflow.org/guide/function#controlling_retracing and https://www.tensorflow.org/api_docs/python/tf/function for  more details.\n",
            "Epoch   0/200: main loss = \u001b[94m2.2917\u001b[0m; reg loss = \u001b[94m0.1056\u001b[0m; total loss = \u001b[94m2.3973\u001b[0m; val acc = \u001b[94m35.64%\u001b[0m\n",
            "Epoch  10/200: main loss = \u001b[94m0.2303\u001b[0m; reg loss = \u001b[94m0.1152\u001b[0m; total loss = \u001b[94m0.3456\u001b[0m; val acc = \u001b[94m77.64%\u001b[0m\n",
            "Epoch  20/200: main loss = \u001b[94m0.0251\u001b[0m; reg loss = \u001b[94m0.1153\u001b[0m; total loss = \u001b[94m0.1404\u001b[0m; val acc = \u001b[94m80.22%\u001b[0m\n",
            "Epoch  30/200: main loss = \u001b[94m0.0102\u001b[0m; reg loss = \u001b[94m0.1023\u001b[0m; total loss = \u001b[94m0.1125\u001b[0m; val acc = \u001b[94m80.28%\u001b[0m\n",
            "Epoch  40/200: main loss = \u001b[94m0.0072\u001b[0m; reg loss = \u001b[94m0.0872\u001b[0m; total loss = \u001b[94m0.0943\u001b[0m; val acc = \u001b[94m80.53%\u001b[0m\n",
            "Epoch  50/200: main loss = \u001b[94m0.0060\u001b[0m; reg loss = \u001b[94m0.0736\u001b[0m; total loss = \u001b[94m0.0796\u001b[0m; val acc = \u001b[94m80.64%\u001b[0m\n",
            "Epoch  60/200: main loss = \u001b[94m0.0053\u001b[0m; reg loss = \u001b[94m0.0624\u001b[0m; total loss = \u001b[94m0.0677\u001b[0m; val acc = \u001b[94m80.69%\u001b[0m\n",
            "Epoch  70/200: main loss = \u001b[94m0.0048\u001b[0m; reg loss = \u001b[94m0.0534\u001b[0m; total loss = \u001b[94m0.0582\u001b[0m; val acc = \u001b[94m80.83%\u001b[0m\n",
            "Epoch  80/200: main loss = \u001b[94m0.0044\u001b[0m; reg loss = \u001b[94m0.0462\u001b[0m; total loss = \u001b[94m0.0507\u001b[0m; val acc = \u001b[94m80.92%\u001b[0m\n",
            "Epoch  90/200: main loss = \u001b[94m0.0040\u001b[0m; reg loss = \u001b[94m0.0405\u001b[0m; total loss = \u001b[94m0.0445\u001b[0m; val acc = \u001b[94m80.95%\u001b[0m\n",
            "Epoch 100/200: main loss = \u001b[94m0.0036\u001b[0m; reg loss = \u001b[94m0.0359\u001b[0m; total loss = \u001b[94m0.0395\u001b[0m; val acc = \u001b[94m81.01%\u001b[0m\n",
            "Epoch 110/200: main loss = \u001b[94m0.0033\u001b[0m; reg loss = \u001b[94m0.0320\u001b[0m; total loss = \u001b[94m0.0353\u001b[0m; val acc = \u001b[94m80.97%\u001b[0m\n",
            "Epoch 120/200: main loss = \u001b[94m0.0031\u001b[0m; reg loss = \u001b[94m0.0289\u001b[0m; total loss = \u001b[94m0.0319\u001b[0m; val acc = \u001b[94m80.97%\u001b[0m\n",
            "Epoch 130/200: main loss = \u001b[94m0.0029\u001b[0m; reg loss = \u001b[94m0.0262\u001b[0m; total loss = \u001b[94m0.0290\u001b[0m; val acc = \u001b[94m80.87%\u001b[0m\n",
            "Epoch 140/200: main loss = \u001b[94m0.0027\u001b[0m; reg loss = \u001b[94m0.0239\u001b[0m; total loss = \u001b[94m0.0266\u001b[0m; val acc = \u001b[94m80.87%\u001b[0m\n",
            "Epoch 150/200: main loss = \u001b[94m0.0025\u001b[0m; reg loss = \u001b[94m0.0220\u001b[0m; total loss = \u001b[94m0.0245\u001b[0m; val acc = \u001b[94m80.92%\u001b[0m\n",
            "Epoch 160/200: main loss = \u001b[94m0.0024\u001b[0m; reg loss = \u001b[94m0.0203\u001b[0m; total loss = \u001b[94m0.0227\u001b[0m; val acc = \u001b[94m80.75%\u001b[0m\n",
            "Epoch 170/200: main loss = \u001b[94m0.0023\u001b[0m; reg loss = \u001b[94m0.0189\u001b[0m; total loss = \u001b[94m0.0211\u001b[0m; val acc = \u001b[94m80.57%\u001b[0m\n",
            "Epoch 180/200: main loss = \u001b[94m0.0021\u001b[0m; reg loss = \u001b[94m0.0176\u001b[0m; total loss = \u001b[94m0.0197\u001b[0m; val acc = \u001b[94m80.60%\u001b[0m\n",
            "Epoch 190/200: main loss = \u001b[94m0.0020\u001b[0m; reg loss = \u001b[94m0.0165\u001b[0m; total loss = \u001b[94m0.0185\u001b[0m; val acc = \u001b[94m80.62%\u001b[0m\n",
            "Epoch 199/200: main loss = \u001b[94m0.0019\u001b[0m; reg loss = \u001b[94m0.0155\u001b[0m; total loss = \u001b[94m0.0175\u001b[0m; val acc = \u001b[94m80.49%\u001b[0m\n",
            "Training: \u001b[92mend\u001b[0m\n"
          ],
          "name": "stdout"
        }
      ]
    },
    {
      "cell_type": "markdown",
      "metadata": {
        "id": "ak6-mr5k1--U"
      },
      "source": [
        "From the log, we can see that at first, the regularization losses increase while the classification loss decrease. **As the value of the classification loss is much higher as first, the network basically focuses on minizing it, regardless of the values its kernels/biases are taking. Once the classificaion loss dropped low enough, then the regularization losses start being taken into account too.**"
      ]
    },
    {
      "cell_type": "code",
      "metadata": {
        "colab": {
          "base_uri": "https://localhost:8080/"
        },
        "id": "ZoV1wHDSIkW3",
        "outputId": "b2fcc0ba-3b74-44d5-d16c-9347b585b3f9"
      },
      "source": [
        "model_not_reg = LeNet5(num_classes, kernel_regularizer=None, bias_regularizer=None)\n",
        "model_not_reg = train_on_mnist_dataset(model_not_reg)"
      ],
      "execution_count": 13,
      "outputs": [
        {
          "output_type": "stream",
          "text": [
            "Training: \u001b[91mstart\u001b[0m\n",
            "WARNING:tensorflow:5 out of the last 15 calls to <function conv_layer at 0x7f3f5e07bf80> triggered tf.function retracing. Tracing is expensive and the excessive number of tracings could be due to (1) creating @tf.function repeatedly in a loop, (2) passing tensors with different shapes, (3) passing Python objects instead of tensors. For (1), please define your @tf.function outside of the loop. For (2), @tf.function has experimental_relax_shapes=True option that relaxes argument shapes that can avoid unnecessary retracing. For (3), please refer to https://www.tensorflow.org/guide/function#controlling_retracing and https://www.tensorflow.org/api_docs/python/tf/function for  more details.\n",
            "Epoch   0/200: main loss = \u001b[94m2.1998\u001b[0m; reg loss = \u001b[94m0.0000\u001b[0m; total loss = \u001b[94m2.1998\u001b[0m; val acc = \u001b[94m57.42%\u001b[0m\n",
            "Epoch  10/200: main loss = \u001b[94m0.0020\u001b[0m; reg loss = \u001b[94m0.0000\u001b[0m; total loss = \u001b[94m0.0020\u001b[0m; val acc = \u001b[94m81.22%\u001b[0m\n",
            "Epoch  20/200: main loss = \u001b[94m0.0006\u001b[0m; reg loss = \u001b[94m0.0000\u001b[0m; total loss = \u001b[94m0.0006\u001b[0m; val acc = \u001b[94m81.14%\u001b[0m\n",
            "Epoch  30/200: main loss = \u001b[94m0.0003\u001b[0m; reg loss = \u001b[94m0.0000\u001b[0m; total loss = \u001b[94m0.0003\u001b[0m; val acc = \u001b[94m81.25%\u001b[0m\n",
            "Epoch  40/200: main loss = \u001b[94m0.0002\u001b[0m; reg loss = \u001b[94m0.0000\u001b[0m; total loss = \u001b[94m0.0002\u001b[0m; val acc = \u001b[94m81.24%\u001b[0m\n",
            "Epoch  50/200: main loss = \u001b[94m0.0002\u001b[0m; reg loss = \u001b[94m0.0000\u001b[0m; total loss = \u001b[94m0.0002\u001b[0m; val acc = \u001b[94m81.29%\u001b[0m\n",
            "Epoch  60/200: main loss = \u001b[94m0.0002\u001b[0m; reg loss = \u001b[94m0.0000\u001b[0m; total loss = \u001b[94m0.0002\u001b[0m; val acc = \u001b[94m81.35%\u001b[0m\n",
            "Epoch  70/200: main loss = \u001b[94m0.0001\u001b[0m; reg loss = \u001b[94m0.0000\u001b[0m; total loss = \u001b[94m0.0001\u001b[0m; val acc = \u001b[94m81.33%\u001b[0m\n",
            "Epoch  80/200: main loss = \u001b[94m0.0001\u001b[0m; reg loss = \u001b[94m0.0000\u001b[0m; total loss = \u001b[94m0.0001\u001b[0m; val acc = \u001b[94m81.30%\u001b[0m\n",
            "Epoch  90/200: main loss = \u001b[94m0.0001\u001b[0m; reg loss = \u001b[94m0.0000\u001b[0m; total loss = \u001b[94m0.0001\u001b[0m; val acc = \u001b[94m81.27%\u001b[0m\n",
            "Epoch 100/200: main loss = \u001b[94m0.0001\u001b[0m; reg loss = \u001b[94m0.0000\u001b[0m; total loss = \u001b[94m0.0001\u001b[0m; val acc = \u001b[94m81.28%\u001b[0m\n",
            "Epoch 110/200: main loss = \u001b[94m0.0001\u001b[0m; reg loss = \u001b[94m0.0000\u001b[0m; total loss = \u001b[94m0.0001\u001b[0m; val acc = \u001b[94m81.25%\u001b[0m\n",
            "Epoch 120/200: main loss = \u001b[94m0.0001\u001b[0m; reg loss = \u001b[94m0.0000\u001b[0m; total loss = \u001b[94m0.0001\u001b[0m; val acc = \u001b[94m81.26%\u001b[0m\n",
            "Epoch 130/200: main loss = \u001b[94m0.0001\u001b[0m; reg loss = \u001b[94m0.0000\u001b[0m; total loss = \u001b[94m0.0001\u001b[0m; val acc = \u001b[94m81.28%\u001b[0m\n",
            "Epoch 140/200: main loss = \u001b[94m0.0000\u001b[0m; reg loss = \u001b[94m0.0000\u001b[0m; total loss = \u001b[94m0.0000\u001b[0m; val acc = \u001b[94m81.26%\u001b[0m\n",
            "Epoch 150/200: main loss = \u001b[94m0.0000\u001b[0m; reg loss = \u001b[94m0.0000\u001b[0m; total loss = \u001b[94m0.0000\u001b[0m; val acc = \u001b[94m81.26%\u001b[0m\n",
            "Epoch 160/200: main loss = \u001b[94m0.0000\u001b[0m; reg loss = \u001b[94m0.0000\u001b[0m; total loss = \u001b[94m0.0000\u001b[0m; val acc = \u001b[94m81.22%\u001b[0m\n",
            "Epoch 170/200: main loss = \u001b[94m0.0000\u001b[0m; reg loss = \u001b[94m0.0000\u001b[0m; total loss = \u001b[94m0.0000\u001b[0m; val acc = \u001b[94m81.16%\u001b[0m\n",
            "Epoch 180/200: main loss = \u001b[94m0.0000\u001b[0m; reg loss = \u001b[94m0.0000\u001b[0m; total loss = \u001b[94m0.0000\u001b[0m; val acc = \u001b[94m81.13%\u001b[0m\n",
            "Epoch 190/200: main loss = \u001b[94m0.0000\u001b[0m; reg loss = \u001b[94m0.0000\u001b[0m; total loss = \u001b[94m0.0000\u001b[0m; val acc = \u001b[94m81.17%\u001b[0m\n",
            "Epoch 199/200: main loss = \u001b[94m0.0000\u001b[0m; reg loss = \u001b[94m0.0000\u001b[0m; total loss = \u001b[94m0.0000\u001b[0m; val acc = \u001b[94m81.20%\u001b[0m\n",
            "Training: \u001b[92mend\u001b[0m\n"
          ],
          "name": "stdout"
        }
      ]
    },
    {
      "cell_type": "markdown",
      "metadata": {
        "id": "A1zKjyCFWjFv"
      },
      "source": [
        "From the dataset, `X_train` just has 200 data points, this means model is easy to overfit.\n",
        "\n",
        "Look at the log of 2 model with & without regularization, we can see that the model with regularization generalizes data better. The `val_acc` of model withou reg is decreasing but `total_loss` is still improve. The accuracy of model with reg is better than model without reg although `total_loss` is higher."
      ]
    },
    {
      "cell_type": "markdown",
      "metadata": {
        "id": "Y_8YeuLZJ3fq"
      },
      "source": [
        "# Applying various regularization methods"
      ]
    },
    {
      "cell_type": "code",
      "metadata": {
        "id": "4IIx5IlsJ9D0"
      },
      "source": [
        "def lenet(name='lenet', input_shape=input_shape, use_dropout=None,\n",
        "          use_batchnorm=False, regularizer=None):\n",
        "  \"\"\"\n",
        "  Creat a model Lenet5 model, with optional regularization schemes.\n",
        "  Args:\n",
        "    name: Name for the model.\n",
        "    input_shape: model's input shape.\n",
        "    use_dropout: Flag to add Dropout layer.\n",
        "    use_batchnorm: Flag to add BatchNorm layer.\n",
        "    regularizer: Regularizaton function to be applied to the layers' kernel\n",
        "  Returns:\n",
        "    LeNet5 model\n",
        "  \"\"\"\n",
        "\n",
        "  layers = []\n",
        "\n",
        "  # Conv1\n",
        "  layers += [Conv2D(filters=6, kernel_size=(5, 5), kernel_regularizer=regularizer)]\n",
        "  if use_batchnorm:\n",
        "    layers += [BatchNormalization()]\n",
        "  layers += [Activation('relu'), \n",
        "             MaxPooling2D(pool_size=(2, 2))]\n",
        "  if use_dropout:\n",
        "    layers += [Dropout(.25)]\n",
        "  \n",
        "  # Conv2\n",
        "  layers += [Conv2D(filters=16, kernel_size=(5, 5), kernel_regularizer=regularizer)]\n",
        "  if use_batchnorm:\n",
        "    layers += [BatchNormalization()]\n",
        "  layers += [Activation('relu'),\n",
        "             MaxPooling2D(pool_size=(2, 2))]\n",
        "  if use_dropout:\n",
        "    layers += [Dropout(.25)]\n",
        "\n",
        "  # Flatten\n",
        "  layers += [Flatten()]\n",
        "\n",
        "  # FC1\n",
        "  layers += [Dense(120, kernel_regularizer=regularizer)]\n",
        "  if use_batchnorm:\n",
        "    layers += [BatchNormalization()]\n",
        "  layers += [Activation('relu')]\n",
        "  if use_dropout:\n",
        "    layers += [Dropout(.25)]\n",
        "\n",
        "  # FC2\n",
        "  layers += [Dense(84, kernel_regularizer=regularizer)]\n",
        "  if use_batchnorm:\n",
        "    layers += [BatchNormalization()]\n",
        "  layers += [Activation('relu')]\n",
        "  if use_dropout:\n",
        "    layers += [Dropout(.25)]\n",
        "\n",
        "  # FC3\n",
        "  layers += [Dense(num_classes, activation='softmax')]\n",
        "\n",
        "  model = Sequential(layers, name=name)\n",
        "  return model"
      ],
      "execution_count": 14,
      "outputs": []
    },
    {
      "cell_type": "markdown",
      "metadata": {
        "id": "1vbwiqjyygm2"
      },
      "source": [
        "To showcase the effect of regularization, we will create several similer LeNet5 instance, and train each with a different combination of regularization techniques."
      ]
    },
    {
      "cell_type": "code",
      "metadata": {
        "id": "ngcxfOchL8i9"
      },
      "source": [
        "configurations = {\n",
        "    'none': {'use_dropout': False, 'use_batchnorm': False, 'regularizer': None},\n",
        "    'l1': {'use_dropout': False, 'use_batchnorm': False, 'regularizer': l1(0.01)},\n",
        "    'l2': {'use_dropout': False, 'use_batchnorm': False, 'regularizer': l2(0.01)},\n",
        "    'dropout': {'use_dropout': True, 'use_batchnorm': False, 'regularizer': None},\n",
        "    'bn': {'use_dropout': False, 'use_batchnorm': True, 'regularizer': None},\n",
        "    'l2_dropout_bn': {'use_dropout': True, 'use_batchnorm': True, 'regularizer': l2(0.01)}\n",
        "}"
      ],
      "execution_count": 25,
      "outputs": []
    },
    {
      "cell_type": "markdown",
      "metadata": {
        "id": "MLRyKFaI5yVO"
      },
      "source": [
        "Training model with these configurations"
      ]
    },
    {
      "cell_type": "code",
      "metadata": {
        "colab": {
          "base_uri": "https://localhost:8080/"
        },
        "id": "xs0e0Ob8zPpJ",
        "outputId": "e3a43e89-e17b-49da-b16c-81d4f463834f"
      },
      "source": [
        "history_per_config = {}\n",
        "\n",
        "print('Experiment: {0}start{1} (training logs = off)'.format(log_begin_red, log_end_format))\n",
        "\n",
        "for config_name in configurations:\n",
        "  # Reset random seed to reduce the impact of randomness on the comparison.\n",
        "  np.random.seed(random_seed)\n",
        "  tf.random.set_seed(random_seed)\n",
        "  # Creating model\n",
        "  model = lenet(name='lenet_{}'.format(config_name), **configurations[config_name])\n",
        "  model.compile(loss='sparse_categorical_crossentropy', metrics=['accuracy'], optimizer='sgd')\n",
        "  # Launching the training (we set `verbose=0`, so the training won't generate any logs).\n",
        "  print('\\t>Trainig with {0}{1}{2}: {3}start{4}'.format(log_begin_bold, config_name, \n",
        "                                                     log_end_format, log_begin_red, \n",
        "                                                     log_end_format))\n",
        "  history = model.fit(X_train, y_train, batch_size=32, epochs=300, verbose=0, \n",
        "                      validation_data=(X_test, y_test))\n",
        "  # Keep track history of model\n",
        "  history_per_config[config_name] = history\n",
        "  print('\\t>Trainig with {0}{1}{2}: {3}done{4}'.format(log_begin_bold, config_name, \n",
        "                                                     log_end_format, log_begin_green, \n",
        "                                                     log_end_format))\n",
        "  \n",
        "print('Experiment: {}done{}'.format(log_begin_green, log_end_format))"
      ],
      "execution_count": 26,
      "outputs": [
        {
          "output_type": "stream",
          "text": [
            "Experiment: \u001b[91mstart\u001b[0m (training logs = off)\n",
            "\t>Trainig with \u001b[1mnone\u001b[0m: \u001b[91mstart\u001b[0m\n",
            "\t>Trainig with \u001b[1mnone\u001b[0m: \u001b[92mdone\u001b[0m\n",
            "\t>Trainig with \u001b[1ml1\u001b[0m: \u001b[91mstart\u001b[0m\n",
            "\t>Trainig with \u001b[1ml1\u001b[0m: \u001b[92mdone\u001b[0m\n",
            "\t>Trainig with \u001b[1ml2\u001b[0m: \u001b[91mstart\u001b[0m\n",
            "\t>Trainig with \u001b[1ml2\u001b[0m: \u001b[92mdone\u001b[0m\n",
            "\t>Trainig with \u001b[1mdropout\u001b[0m: \u001b[91mstart\u001b[0m\n",
            "\t>Trainig with \u001b[1mdropout\u001b[0m: \u001b[92mdone\u001b[0m\n",
            "\t>Trainig with \u001b[1mbn\u001b[0m: \u001b[91mstart\u001b[0m\n",
            "\t>Trainig with \u001b[1mbn\u001b[0m: \u001b[92mdone\u001b[0m\n",
            "\t>Trainig with \u001b[1ml2_dropout_bn\u001b[0m: \u001b[91mstart\u001b[0m\n",
            "\t>Trainig with \u001b[1ml2_dropout_bn\u001b[0m: \u001b[92mdone\u001b[0m\n",
            "Experiment: \u001b[92mdone\u001b[0m\n"
          ],
          "name": "stdout"
        }
      ]
    },
    {
      "cell_type": "markdown",
      "metadata": {
        "id": "Qr-HiGHc_neV"
      },
      "source": [
        "Finally, plot the training and validation loss, accuracy for comparision"
      ]
    },
    {
      "cell_type": "code",
      "metadata": {
        "colab": {
          "base_uri": "https://localhost:8080/",
          "height": 662
        },
        "id": "oQQ-yohM7swn",
        "outputId": "6c04c79a-a03b-44d1-faf1-36daad3c1b22"
      },
      "source": [
        "fig, axs = plt.subplots(2, 2, figsize=(11, 11))\n",
        "axs[0, 0].set_title('Training loss')\n",
        "axs[0, 1].set_title('Validation loss')\n",
        "axs[1, 0].set_title('Training accuracy')\n",
        "axs[1, 1].set_title('Validation accuracy')\n",
        "\n",
        "lines, labels = [], []\n",
        "for config_name in history_per_config:\n",
        "  history = history_per_config[config_name].history\n",
        "  axs[0, 0].plot(history['loss'])\n",
        "  axs[0, 1].plot(history['val_loss'])\n",
        "  axs[1, 0].plot(history['accuracy'])\n",
        "  line = axs[1, 1].plot(history['val_accuracy'])\n",
        "  lines.append(line[0])\n",
        "  labels.append(config_name)\n",
        "\n",
        "fig.legend(lines, labels, loc='center right', fontsize='large', borderaxespad=0.5)\n",
        "plt.subplots_adjust(right=.83)"
      ],
      "execution_count": 27,
      "outputs": [
        {
          "output_type": "display_data",
          "data": {
            "image/png": "[encoded data removed]",
            "text/plain": [
              "<Figure size 792x792 with 4 Axes>"
            ]
          },
          "metadata": {
            "tags": [],
            "needs_background": "light"
          }
        }
      ]
    },
    {
      "cell_type": "code",
      "metadata": {
        "colab": {
          "base_uri": "https://localhost:8080/"
        },
        "id": "HVZaUL_xDueU",
        "outputId": "726b045c-5830-4c76-9c8c-ff4ea4dcb6a0"
      },
      "source": [
        "for config_name in history_per_config:\n",
        "  max_val_acc = max(history_per_config[config_name].history['val_accuracy']) * 100\n",
        "  print('Max validation accuracy of {0}: {1:.2f}%'.format(config_name, max_val_acc))"
      ],
      "execution_count": 28,
      "outputs": [
        {
          "output_type": "stream",
          "text": [
            "Max validation accuracy of none: 79.97%\n",
            "Max validation accuracy of l1: 80.29%\n",
            "Max validation accuracy of l2: 81.44%\n",
            "Max validation accuracy of dropout: 85.84%\n",
            "Max validation accuracy of bn: 81.22%\n",
            "Max validation accuracy of l2_dropout_bn: 87.38%\n"
          ],
          "name": "stdout"
        }
      ]
    },
    {
      "cell_type": "code",
      "metadata": {
        "id": "Qe05lH2XGeNw"
      },
      "source": [
        ""
      ],
      "execution_count": null,
      "outputs": []
    }
  ]
}