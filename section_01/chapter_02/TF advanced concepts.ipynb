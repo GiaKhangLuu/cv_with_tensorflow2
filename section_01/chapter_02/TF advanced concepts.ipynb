{
 "cells": [
  {
   "cell_type": "code",
   "execution_count": 2,
   "id": "0343b2b0",
   "metadata": {},
   "outputs": [],
   "source": [
    "import tensorflow as tf"
   ]
  },
  {
   "cell_type": "code",
   "execution_count": 4,
   "id": "b5df0e85",
   "metadata": {},
   "outputs": [],
   "source": [
    "# See how tf.function works\n",
    "@tf.function\n",
    "def identity(x):\n",
    "    print('Creating graph!')\n",
    "    return x\n",
    "\n",
    "# This function will print a message every time TF creates a graph corresponding to its operation.\n",
    "# In this case, since TF is caching a graph, it will print sth only the first time it is run"
   ]
  },
  {
   "cell_type": "code",
   "execution_count": 10,
   "id": "0b1066fa",
   "metadata": {},
   "outputs": [
    {
     "name": "stdout",
     "output_type": "stream",
     "text": [
      "Creating graph!\n"
     ]
    }
   ],
   "source": [
    "x1 = tf.random.uniform((2, 2))\n",
    "x2 = tf.random.uniform((2, 2))\n",
    "\n",
    "result1 = identity(x1)  # Prints `Creating graph!`\n",
    "result2 = identity(x2)  # Nothing is printed"
   ]
  },
  {
   "cell_type": "code",
   "execution_count": 13,
   "id": "5c490326",
   "metadata": {},
   "outputs": [
    {
     "name": "stdout",
     "output_type": "stream",
     "text": [
      "Creating graph!\n"
     ]
    }
   ],
   "source": [
    "# However, if we change the input type, TF wil re-create a graph\n",
    "x3 = tf.random.uniform((3, 3))\n",
    "result3 = identity(x3)"
   ]
  },
  {
   "cell_type": "code",
   "execution_count": 18,
   "id": "5802190d",
   "metadata": {},
   "outputs": [
    {
     "name": "stdout",
     "output_type": "stream",
     "text": [
      "Creating graph!\n"
     ]
    }
   ],
   "source": [
    "\"\"\"\n",
    "TF graphs are defined by their operations and the shapes and types of the inputs.\n",
    "There for, when the input type or shape changes, a new graph needs to be created.\n",
    "\"\"\"\n",
    "x4 = tf.random.uniform((4, 4), dtype=tf.float16)\n",
    "result4 = identity(x4)"
   ]
  },
  {
   "cell_type": "code",
   "execution_count": 19,
   "id": "c6b0b2d7",
   "metadata": {},
   "outputs": [
    {
     "name": "stdout",
     "output_type": "stream",
     "text": [
      "Running identity\n",
      "Running identity\n"
     ]
    }
   ],
   "source": [
    "\"\"\"\n",
    "Nevertheless, to log information every time a concrete function is run not just \n",
    "the 1st time. To do so, use tf.print\n",
    "\"\"\"\n",
    "@tf.function\n",
    "def identity(x):\n",
    "    tf.print('Running identity')\n",
    "    return x\n",
    "\n",
    "result1 = identity(x1)\n",
    "result2 = identity(x2)"
   ]
  },
  {
   "cell_type": "code",
   "execution_count": 28,
   "id": "d79388bd",
   "metadata": {},
   "outputs": [
    {
     "name": "stdout",
     "output_type": "stream",
     "text": [
      "<tf.Variable 'my_var:0' shape=() dtype=int32, numpy=3>\n"
     ]
    }
   ],
   "source": [
    "# Variables in TF2\n",
    "a = tf.Variable(3, name='my_var')\n",
    "print(a)"
   ]
  },
  {
   "cell_type": "code",
   "execution_count": 30,
   "id": "af39740b",
   "metadata": {},
   "outputs": [
    {
     "name": "stdout",
     "output_type": "stream",
     "text": [
      "<tf.Variable 'my_var:0' shape=() dtype=int32, numpy=5>\n",
      "5\n"
     ]
    }
   ],
   "source": [
    "# Change the value of a variable, use the `Variable.assign` method\n",
    "a.assign(a + 1)\n",
    "print(a)\n",
    "print(a.numpy())"
   ]
  },
  {
   "cell_type": "code",
   "execution_count": 31,
   "id": "e0c89433",
   "metadata": {},
   "outputs": [
    {
     "name": "stdout",
     "output_type": "stream",
     "text": [
      "tf.Tensor(6, shape=(), dtype=int32)\n"
     ]
    }
   ],
   "source": [
    "# Dont use `assign()` method would create a new Tensor method\n",
    "b = a + 1\n",
    "print(b)"
   ]
  },
  {
   "cell_type": "code",
   "execution_count": null,
   "id": "d6c38be5",
   "metadata": {},
   "outputs": [],
   "source": []
  }
 ],
 "metadata": {
  "kernelspec": {
   "display_name": "Python 3",
   "language": "python",
   "name": "python3"
  },
  "language_info": {
   "codemirror_mode": {
    "name": "ipython",
    "version": 3
   },
   "file_extension": ".py",
   "mimetype": "text/x-python",
   "name": "python",
   "nbconvert_exporter": "python",
   "pygments_lexer": "ipython3",
   "version": "3.8.8"
  }
 },
 "nbformat": 4,
 "nbformat_minor": 5
}
