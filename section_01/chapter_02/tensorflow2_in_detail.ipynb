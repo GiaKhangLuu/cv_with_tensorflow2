{
 "cells": [
  {
   "cell_type": "code",
   "execution_count": 3,
   "id": "44c56526",
   "metadata": {},
   "outputs": [],
   "source": [
    "import tensorflow as tf"
   ]
  },
  {
   "cell_type": "code",
   "execution_count": 9,
   "id": "c90b2475",
   "metadata": {},
   "outputs": [
    {
     "name": "stdout",
     "output_type": "stream",
     "text": [
      "tf.Tensor([1 2 4], shape=(3,), dtype=int32)\n",
      "[1 2 4]\n"
     ]
    }
   ],
   "source": [
    "# Eager execution, default mode in tf2\n",
    "a = tf.constant([1, 2, 3])\n",
    "b = tf.constant([0, 0, 1])\n",
    "c = tf.add(a, b)\n",
    "print(c)\n",
    "print(c.numpy())"
   ]
  },
  {
   "cell_type": "code",
   "execution_count": 12,
   "id": "61b3c210",
   "metadata": {},
   "outputs": [
    {
     "data": {
      "text/plain": [
       "(<tf.Tensor: shape=(3,), dtype=int32, numpy=array([1, 2, 7], dtype=int32)>,\n",
       " <tf.Tensor: shape=(3,), dtype=int32, numpy=array([ 0,  0, 12], dtype=int32)>)"
      ]
     },
     "execution_count": 12,
     "metadata": {},
     "output_type": "execute_result"
    }
   ],
   "source": [
    "# Eager execution\n",
    "def compute(a, b, c):\n",
    "    d = a * b + c\n",
    "    e = a * b * c\n",
    "    return d, e\n",
    "\n",
    "# At the 1st time the function is called, the eager mode will compute the value instead of create graph\n",
    "compute(a, b, c)"
   ]
  },
  {
   "cell_type": "code",
   "execution_count": 15,
   "id": "0cf3a7d1",
   "metadata": {},
   "outputs": [
    {
     "data": {
      "text/plain": [
       "(<tf.Tensor: shape=(3,), dtype=int32, numpy=array([1, 2, 7], dtype=int32)>,\n",
       " <tf.Tensor: shape=(3,), dtype=int32, numpy=array([ 0,  0, 12], dtype=int32)>)"
      ]
     },
     "execution_count": 15,
     "metadata": {},
     "output_type": "execute_result"
    }
   ],
   "source": [
    "# Creating graph, it will turn eager code into a graph, allowing automatic optimization\n",
    "@tf.function\n",
    "def compute(a, b, c):\n",
    "    d = a * b + c\n",
    "    e = a * b * c\n",
    "    return d, e\n",
    "\n",
    "compute(a, b, c)"
   ]
  },
  {
   "cell_type": "code",
   "execution_count": 49,
   "id": "8398cb56",
   "metadata": {},
   "outputs": [
    {
     "name": "stdout",
     "output_type": "stream",
     "text": [
      "tf.Tensor(54.0, shape=(), dtype=float32)\n"
     ]
    }
   ],
   "source": [
    "# Backpropagating errors using the gradient tape\n",
    "A, B = tf.constant(3.0), tf.constant(6.0)\n",
    "X = tf.Variable(20.0)\n",
    "loss = tf.math.abs(A * X - B)\n",
    "print(loss)"
   ]
  },
  {
   "cell_type": "code",
   "execution_count": 50,
   "id": "65b0f12d",
   "metadata": {},
   "outputs": [
    {
     "name": "stdout",
     "output_type": "stream",
     "text": [
      "X = 20.00, dX = 3.00, loss = 54.00\n",
      "X = 17.00, dX = 3.00, loss = 45.00\n",
      "X = 14.00, dX = 3.00, loss = 36.00\n",
      "X = 11.00, dX = 3.00, loss = 27.00\n",
      "X = 8.00, dX = 3.00, loss = 18.00\n",
      "X = 5.00, dX = 3.00, loss = 9.00\n",
      "X = 2.00, dX = 0.00, loss = 0.00\n"
     ]
    }
   ],
   "source": [
    "def train_step():\n",
    "    with tf.GradientTape() as tape:\n",
    "        loss = tf.math.abs(A * X - B)\n",
    "    dX = tape.gradient(loss, X)\n",
    "    print('X = {:.2f}, dX = {:.2f}, loss = {:.2f}'.format(X.numpy(), dX, loss))\n",
    "    X.assign(X - dX)\n",
    "    \n",
    "for i in range(7):\n",
    "    train_step()"
   ]
  },
  {
   "cell_type": "code",
   "execution_count": null,
   "id": "e38ac15b",
   "metadata": {},
   "outputs": [],
   "source": []
  }
 ],
 "metadata": {
  "kernelspec": {
   "display_name": "Python 3",
   "language": "python",
   "name": "python3"
  },
  "language_info": {
   "codemirror_mode": {
    "name": "ipython",
    "version": 3
   },
   "file_extension": ".py",
   "mimetype": "text/x-python",
   "name": "python",
   "nbconvert_exporter": "python",
   "pygments_lexer": "ipython3",
   "version": "3.8.8"
  }
 },
 "nbformat": 4,
 "nbformat_minor": 5
}
