{
 "cells": [
  {
   "cell_type": "code",
   "execution_count": 27,
   "id": "d761fe23",
   "metadata": {},
   "outputs": [],
   "source": [
    "import tensorflow as tf\n",
    "from tensorflow.keras.layers import Input, Conv2D, Reshape\n",
    "from tensorflow.keras.applications import InceptionV3\n",
    "\n",
    "input_shape = (224, 224, 3)\n",
    "BOX = 5\n",
    "CLASS = 5"
   ]
  },
  {
   "cell_type": "code",
   "execution_count": 15,
   "id": "85029b22",
   "metadata": {},
   "outputs": [],
   "source": [
    "input_image = Input(shape=input_shape)\n",
    "\n",
    "inception = InceptionV3(input_shape=input_shape, weights='imagenet',\n",
    "                       include_top=False)"
   ]
  },
  {
   "cell_type": "code",
   "execution_count": 16,
   "id": "6a8af12d",
   "metadata": {},
   "outputs": [],
   "source": [
    "features = inception(input_image)"
   ]
  },
  {
   "cell_type": "code",
   "execution_count": 17,
   "id": "ce096055",
   "metadata": {},
   "outputs": [
    {
     "name": "stdout",
     "output_type": "stream",
     "text": [
      "5 5\n"
     ]
    }
   ],
   "source": [
    "GRID_H, GRID_W = inception.get_output_shape_at(-1)[1:3]\n",
    "print(GRID_H, GRID_W)"
   ]
  },
  {
   "cell_type": "code",
   "execution_count": 66,
   "id": "91ed3868",
   "metadata": {},
   "outputs": [
    {
     "name": "stdout",
     "output_type": "stream",
     "text": [
      "(None, 5, 5, 50)\n"
     ]
    }
   ],
   "source": [
    "output = Conv2D(BOX * (4 + 1 + CLASS), 1, 1, 'same',\n",
    "              name='DetectionLayer', \n",
    "              kernel_initializer='lecun_normal')(features)\n",
    "print(output.shape)"
   ]
  },
  {
   "cell_type": "code",
   "execution_count": 67,
   "id": "28c023d1",
   "metadata": {},
   "outputs": [
    {
     "name": "stdout",
     "output_type": "stream",
     "text": [
      "(None, 5, 5, 5, 10)\n"
     ]
    }
   ],
   "source": [
    "output = Reshape((GRID_H, GRID_W, BOX, 4 + 1 + CLASS))(output)\n",
    "print(output.shape)"
   ]
  },
  {
   "cell_type": "code",
   "execution_count": null,
   "id": "249523de",
   "metadata": {},
   "outputs": [],
   "source": []
  }
 ],
 "metadata": {
  "kernelspec": {
   "display_name": "Python 3",
   "language": "python",
   "name": "python3"
  },
  "language_info": {
   "codemirror_mode": {
    "name": "ipython",
    "version": 3
   },
   "file_extension": ".py",
   "mimetype": "text/x-python",
   "name": "python",
   "nbconvert_exporter": "python",
   "pygments_lexer": "ipython3",
   "version": "3.8.8"
  }
 },
 "nbformat": 4,
 "nbformat_minor": 5
}
