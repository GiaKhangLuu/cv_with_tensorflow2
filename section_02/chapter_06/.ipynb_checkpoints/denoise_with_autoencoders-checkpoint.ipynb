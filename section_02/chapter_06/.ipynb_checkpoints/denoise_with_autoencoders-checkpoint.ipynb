{
 "cells": [
  {
   "cell_type": "code",
   "execution_count": 1,
   "id": "308916bd",
   "metadata": {},
   "outputs": [],
   "source": [
    "import tensorflow as tf\n",
    "import os\n",
    "import math\n",
    "import numpy as np\n",
    "import matplotlib.pyplot as plt\n",
    "\n",
    "batch_size = 32\n",
    "num_epochs = 50\n",
    "random_seed = 42"
   ]
  },
  {
   "cell_type": "markdown",
   "id": "9f51b0e5",
   "metadata": {},
   "source": [
    "## **Preparing the Dataset**"
   ]
  },
  {
   "cell_type": "code",
   "execution_count": 2,
   "id": "59ffb34c",
   "metadata": {},
   "outputs": [
    {
     "name": "stdout",
     "output_type": "stream",
     "text": [
      "Shape of training set: (60000, 28, 28, 1)\n",
      "Shape of testing set: (10000, 28, 28, 1)\n"
     ]
    }
   ],
   "source": [
    "(x_train, y_train), (x_test, y_test) = tf.keras.datasets.mnist.load_data()\n",
    "img_height, img_width = x_train.shape[1:]\n",
    "img_channels = 1\n",
    "input_shape = (img_height, img_width, img_channels)\n",
    "\n",
    "# For the following experiments, we will however not use the class labels\n",
    "del y_train\n",
    "del y_test\n",
    "\n",
    "# Normalizing the img data\n",
    "x_train, x_test = x_train / 255.0, x_test / 255.0\n",
    "\n",
    "# Even though we will use again a basic fully-connected network, we need to preserve\n",
    "# the image format of the sample this time, to use the Keras image pre-processing\n",
    "# tool to add noise. Therefore, the augmented images will be flattened by the network\n",
    "# itself via a initial Flatten() layer\n",
    "x_train = x_train.reshape((-1, img_height, img_width, img_channels))\n",
    "x_test = x_test.reshape((-1, img_height, img_width, img_channels))\n",
    "\n",
    "print(\"Shape of training set: {}\".format(x_train.shape))\n",
    "print(\"Shape of testing set: {}\".format(x_test.shape))\n",
    "\n",
    "# Setting some variables\n",
    "batch_size = 64\n",
    "train_steps_per_epoch = len(x_train) // batch_size\n",
    "val_steps_per_epoch = len(x_test) // batch_size"
   ]
  },
  {
   "cell_type": "markdown",
   "id": "93b97d11",
   "metadata": {},
   "source": [
    "## **Building an Auto-Encoder for Image Denoising**\n",
    "\n",
    "Denoising auto-encoders are normal auto-encoders, but **fed with corrupted samples** while still trying to recover the original images. Therefore, we need to instantiate our network, and build a method to corrupt our images"
   ]
  },
  {
   "cell_type": "markdown",
   "id": "a41866ab",
   "metadata": {},
   "source": [
    "### **Simple auto-encoder**"
   ]
  },
  {
   "cell_type": "code",
   "execution_count": 3,
   "id": "e2badc02",
   "metadata": {},
   "outputs": [],
   "source": [
    "code_size = 32"
   ]
  },
  {
   "cell_type": "code",
   "execution_count": 4,
   "id": "e671d026",
   "metadata": {},
   "outputs": [
    {
     "name": "stdout",
     "output_type": "stream",
     "text": [
      "Model: \"model\"\n",
      "_________________________________________________________________\n",
      "Layer (type)                 Output Shape              Param #   \n",
      "=================================================================\n",
      "input (InputLayer)           [(None, 28, 28, 1)]       0         \n",
      "_________________________________________________________________\n",
      "flatten (Flatten)            (None, 784)               0         \n",
      "_________________________________________________________________\n",
      "enc_dense1 (Dense)           (None, 128)               100480    \n",
      "_________________________________________________________________\n",
      "enc_dense2 (Dense)           (None, 64)                8256      \n",
      "_________________________________________________________________\n",
      "enc_dense3 (Dense)           (None, 32)                2080      \n",
      "_________________________________________________________________\n",
      "dec_dense1 (Dense)           (None, 64)                2112      \n",
      "_________________________________________________________________\n",
      "dec_dense2 (Dense)           (None, 128)               8320      \n",
      "_________________________________________________________________\n",
      "dec_dense3 (Dense)           (None, 784)               101136    \n",
      "_________________________________________________________________\n",
      "reshape (Reshape)            (None, 28, 28, 1)         0         \n",
      "=================================================================\n",
      "Total params: 222,384\n",
      "Trainable params: 222,384\n",
      "Non-trainable params: 0\n",
      "_________________________________________________________________\n"
     ]
    }
   ],
   "source": [
    "from tensorflow.keras.models import Model\n",
    "from tensorflow.keras.layers import Dense, Input, Flatten, Reshape\n",
    "\n",
    "inputs = Input(shape=input_shape, name='input')\n",
    "\n",
    "# As previously mentioned, the image flattening is done here\n",
    "inputs_flat = Flatten()(inputs)\n",
    "\n",
    "# Encoding layers\n",
    "enc_1 = Dense(128, activation='relu', name='enc_dense1')(inputs_flat)\n",
    "enc_2 = Dense(64, activation='relu', name='enc_dense2')(enc_1)\n",
    "code = Dense(code_size, activation='relu', name='enc_dense3')(enc_2)\n",
    "\n",
    "# Decoding layers\n",
    "dec_1 = Dense(64, activation='relu', name='dec_dense1')(code)\n",
    "dec_2 = Dense(128, activation='relu', name='dec_dense2')(dec_1)\n",
    "decoded = Dense(np.prod(input_shape), activation='sigmoid', name='dec_dense3')(dec_2)\n",
    "# Note: we use a sigmoid for the last activation, as we want the output values\n",
    "# to be between 0 and 1, like the input ones\n",
    "\n",
    "# Finally, we reshape the decoded data so it has the same shape as the input samples\n",
    "decoded_reshape = Reshape(input_shape)(decoded)\n",
    "\n",
    "# Auto-encoder model:\n",
    "autoencoder = Model(inputs, decoded_reshape)\n",
    "autoencoder.summary()"
   ]
  },
  {
   "cell_type": "markdown",
   "id": "abee3f77",
   "metadata": {},
   "source": [
    "### **Generator of noisy images**\n",
    "\n",
    "We now set up our input pipeline, adding a pre-processing step to corrupt our images. We will use this simple function for that:"
   ]
  },
  {
   "cell_type": "code",
   "execution_count": 5,
   "id": "19841153",
   "metadata": {},
   "outputs": [],
   "source": [
    "def add_noise(img, min_noise_factor=.3, max_noise_factor=.6):\n",
    "    \"\"\"\n",
    "    Add some random noise to an image, from a uniform distribution\n",
    "    :param img: Image to corrupt\n",
    "    :param min_noise_factor: Min. value for the noise random avg. amplitude\n",
    "    :param max_noise_factor: Max. value for the noise random avg. amplitude\n",
    "    :return : Corrupted image\n",
    "    \"\"\"\n",
    "    \n",
    "    # Generating and applying noise to image\n",
    "    noise_factor = np.random.uniform(min_noise_factor, max_noise_factor)\n",
    "    noise = np.random.normal(loc=0.0, scale=noise_factor, size=img.shape)\n",
    "    img_noisy = img + noise\n",
    "    \n",
    "    # Making sure the image value are still in the proper range\n",
    "    img_noisy = np.clip(img_noisy, 0., 1.)\n",
    "    \n",
    "    return img_noisy"
   ]
  },
  {
   "cell_type": "markdown",
   "id": "fa001e9e",
   "metadata": {},
   "source": [
    "Let us have a look how this affects our images. To visualize some results, we first implement the following method to draw grids to results"
   ]
  },
  {
   "cell_type": "code",
   "execution_count": 6,
   "id": "6b5b6a89",
   "metadata": {},
   "outputs": [],
   "source": [
    "import matplotlib.pyplot as plt\n",
    "import matplotlib.gridspec as gridspec\n",
    "\n",
    "def plot_image_grid(images, titles=None, figure=None,\n",
    "                   grayscale=False, transpose=False):\n",
    "    \"\"\"\n",
    "    Plot a grid of n x m images\n",
    "    :param images: Images in a n x m array\n",
    "    :param titles: (opt.) List of m titles for each iamge column\n",
    "    :param figure: (opt.) Pyplot figure (if None, will be created)\n",
    "    :param grayscale: (opt.) Flag to draw the images in grayscale\n",
    "    :param transpose: (opt.) Flag to transpose the grid\n",
    "    :return : Pyplot figure filled with the images\n",
    "    \"\"\"\n",
    "    \n",
    "    num_cols, num_rows = len(images), len(images[0])\n",
    "    img_ratio = images[0][0].shape[1] / images[0][0].shape[0]\n",
    "    \n",
    "    if transpose:\n",
    "        vert_grid_shape, hori_grid_shape = (1, num_rows), (num_cols, 1)\n",
    "        figsize = (int(num_rows * 5 * img_ratio), num_cols * 5)\n",
    "        wspace, hspace = 0.2, 0.\n",
    "    else:\n",
    "        vert_grid_shape, hori_grid_shape = (num_rows, 1), (1, num_cols)\n",
    "        figsize = (int(num_cols * 5 * img_ratio), num_rows * 5)\n",
    "        hspace, wspace = 0.2, 0.\n",
    "        \n",
    "    if figure is None:\n",
    "        figure = plt.figure(figsize=figsize)\n",
    "    imshow_params = {'cmap': plt.get_cmap('gray')} if grayscale else {}\n",
    "    grid_spec = gridspec.GridSpec(*hori_grid_shape, wspace=0, hspace=0)\n",
    "    \n",
    "    for j in range(num_cols):\n",
    "        grid_spec_j = gridspec.GridSpecFromSubplotSpec(\n",
    "            *vert_grid_shape, subplot_spec=grid_spec[j], \n",
    "            wspace=wspace, hspace=hspace)\n",
    "        \n",
    "        for i in range(num_rows):\n",
    "            ax_img = figure.add_subplot(grid_spec_j[i])\n",
    "            #ax_img.axis('off')\n",
    "            ax_img.set_yticks([])\n",
    "            ax_img.set_xticks([])\n",
    "            if titles is not None:\n",
    "                if transpose:\n",
    "                    ax_img.set_ylabel(titles[j], fontsize=25)\n",
    "                else:\n",
    "                    ax_img.set_title(titles[j], fontsize=15)\n",
    "                    \n",
    "            ax_img.imshow(images[j][i], **imshow_params)\n",
    "            \n",
    "    figure.tight_layout()\n",
    "    \n",
    "    return figure"
   ]
  },
  {
   "cell_type": "code",
   "execution_count": 7,
   "id": "e6d93a43",
   "metadata": {},
   "outputs": [
    {
     "data": {
      "image/png": "[encoded data removed]",
      "text/plain": [
       "<Figure size 4320x720 with 24 Axes>"
      ]
     },
     "metadata": {},
     "output_type": "display_data"
    }
   ],
   "source": [
    "num_show = 12\n",
    "random_image_indices = np.random.choice(len(x_test), size=num_show)\n",
    "\n",
    "orig_samples = x_test[random_image_indices]\n",
    "noisy_samples = add_noise(orig_samples)\n",
    "\n",
    "fig = plot_image_grid([np.squeeze(orig_samples), np.squeeze(noisy_samples)], \n",
    "                     grayscale=True, transpose=True)"
   ]
  },
  {
   "cell_type": "markdown",
   "id": "886fbb69",
   "metadata": {},
   "source": [
    "Our corrupting function is doing its job, adding some *salt-and-pepper* noise. Some digits are even hard to recognize. Let us see how our denoising model will manage\n",
    "\n",
    "We now have a choice. We could simply apply our noise function to the whole training set `x_noisy = add_noise(x_train)` and pass it to our model for training `autoencoder.fit(x_noisy, x_train)`. While straightforward, this solution has one inconvenient: each original image has only one noisy version. Epoxh after epoch, the network will receive the same noisy images. There is thus a risk that it may overfit some of the data\n",
    "\n",
    "Another solution would be to corrupt each batch of images at each iteration, thus creating different corrupted versions each time. While a bit heavier, this solution provides our network with new samples each time, making it more robust. We will therefore opt for this solution\n",
    "\n",
    "To implement it, we will use a ***generator***, a Python object yielding new elements each time it is called. Keras models can be trained directly on datasets `model.fit(...)`, or on generators `model.fit_generator(...)`. Though less advanced that Tensorflow `tf.data.Dataset`, generators share some common advantages (e.g., for datasets too big to be loaded at once, a generator can be used to load only the images for the next batches)\n",
    "\n",
    "Keras offers several pre-implemented generators, to iterate over image folders, image arrays, etc. Here, we will use `ImageDataGenerator`, which can iterate over numpy arrays to generate batches. This generator can also be configured to pre-process each batch before yielding it. This is exactly what we need:"
   ]
  },
  {
   "cell_type": "code",
   "execution_count": 8,
   "id": "8a1b7e84",
   "metadata": {},
   "outputs": [
    {
     "data": {
      "text/plain": [
       "<tensorflow.python.keras.preprocessing.image.NumpyArrayIterator at 0x7fb496328e80>"
      ]
     },
     "execution_count": 8,
     "metadata": {},
     "output_type": "execute_result"
    }
   ],
   "source": [
    "from tensorflow.keras.preprocessing.image import ImageDataGenerator\n",
    "\n",
    "# We define our Keras generator, passing our noisy function as pre-processing step:\n",
    "train_datagen = ImageDataGenerator(preprocessing_function=add_noise)\n",
    "\n",
    "# The we pass our dataset to the generator and specify how the yielded batch \n",
    "# should be (batchsize, shuffling or not, etc.)\n",
    "train_generator = train_datagen.flow(x_train, x_train, batch_size=batch_size,\n",
    "                                    shuffle=True)\n",
    "\n",
    "train_generator"
   ]
  },
  {
   "cell_type": "markdown",
   "id": "78e42f3f",
   "metadata": {},
   "source": [
    "Our input pipeline is ready, though we need to prepare the validation data too\n",
    "\n",
    "To be able to consistently compare metrics from one epoch to another, we augment the validation images with noise only once, and saved the resulting images so thay can be reused for each epoch"
   ]
  },
  {
   "cell_type": "code",
   "execution_count": 9,
   "id": "81f21bfc",
   "metadata": {},
   "outputs": [],
   "source": [
    "x_test_noisy = add_noise(x_test)\n",
    "\n",
    "val_datagen = ImageDataGenerator()\n",
    "val_generator = train_datagen.flow(x_test_noisy, x_test, batch_size=batch_size,\n",
    "                                  shuffle=False)"
   ]
  },
  {
   "cell_type": "markdown",
   "id": "889f62dc",
   "metadata": {},
   "source": [
    "## **Training and Monitoring**\n",
    "\n",
    "\n",
    "### **PSNR as custom metric**\n",
    "\n",
    "We reuse PSNR,to evaluate how well our model recovered the corrupted sampled, compared to the original ones"
   ]
  },
  {
   "cell_type": "code",
   "execution_count": 10,
   "id": "6bc70057",
   "metadata": {},
   "outputs": [],
   "source": [
    "import functools\n",
    "\n",
    "psnr_metric = functools.partial(tf.image.psnr, max_val=1.)\n",
    "psnr_metric.__name__ = 'psnr'"
   ]
  },
  {
   "cell_type": "code",
   "execution_count": 11,
   "id": "a6f38a6d",
   "metadata": {},
   "outputs": [],
   "source": [
    "from tensorflow.keras.callbacks import Callback\n",
    "import collections\n",
    "\n",
    "class SimpleLogCallback(Callback):\n",
    "    \"\"\" Keras callback for simple, denser console logs \"\"\"\n",
    "    \n",
    "    def __init_(self, metrics_dict, num_epochs='?', log_frequency=1,\n",
    "               metric_string_template='\\033[1m[[name]]\\033[0m = \\033[94m{[[value]]:5.3f}\\033[0m'):\n",
    "        \"\"\"\n",
    "        Initialize the Callback\n",
    "        :param metrics_dict: Dictionary containing mappings for metrics names/keys\n",
    "                                e.g. {\"accuracy\": \"acc\", \"val.accuracy\": \"val_acc\"}\n",
    "        :param num_epochs: Number of training epochs\n",
    "        :param log_frequency: Log frequency (in epochs)\n",
    "        :param metric_string_template: (opt.) String template to print each metric\n",
    "        \"\"\"\n",
    "        \n",
    "        super().__init__()\n",
    "        \n",
    "        self.metrics_dict = collections.OrderedDict(metrics_dict)\n",
    "        self.num_epochs = num_epochs\n",
    "        self.log_frequency = log_frequency\n",
    "        \n",
    "        # We build a format string to later print the metrics, (e.g.: \"Epoch 0/9: loss = 1.00; val-loss = 2.00\")\n",
    "        log_string_template = 'Epoch {0:2}/{1}: '\n",
    "        separator = ';'\n",
    "        \n",
    "        i = 2\n",
    "        for metric_name in self.metrics_dict:\n",
    "            temp1 = metric_string_template.replace('[[name]]', metric_name).replace('[[value]]', str(i))\n",
    "            log_string_template += temp1 + separator\n",
    "            i += 1\n",
    "            \n",
    "        # We remove the \"; \" after the last element\n",
    "        log_string_template = log_string_template[:-len(separator)]\n",
    "        self.log_string_template = log_string_template\n",
    "        \n",
    "    def on_train_begin(self, logs=None):\n",
    "        print(\"Training: \\033[92mstart\\033[0m.\")\n",
    "        \n",
    "    def on_train_end(self, logs=None):\n",
    "        print(\"Training: \\033[91mend\\033[0m.\")\n",
    "        \n",
    "    def on_epoch_end(self, epoch, logs={}):\n",
    "        if (epoch - 1) % self.log_frequency == 0 or epoch == self.num_epochs:\n",
    "            values = [logs[self.metrics_dict[metric_name]] for metric_name in self.metrics_dict]\n",
    "            print(self.log_string_template.format(epoch, self.num_epochs, *values))"
   ]
  },
  {
   "cell_type": "markdown",
   "id": "4d2f0552",
   "metadata": {},
   "source": [
    "### **Training and results**"
   ]
  },
  {
   "cell_type": "code",
   "execution_count": 14,
   "id": "6819ce45",
   "metadata": {},
   "outputs": [
    {
     "ename": "TypeError",
     "evalue": "__init__() got an unexpected keyword argument 'num_epochs'",
     "output_type": "error",
     "traceback": [
      "\u001b[0;31m---------------------------------------------------------------------------\u001b[0m",
      "\u001b[0;31mTypeError\u001b[0m                                 Traceback (most recent call last)",
      "\u001b[0;32m<ipython-input-14-b52df48215e2>\u001b[0m in \u001b[0;36m<module>\u001b[0;34m\u001b[0m\n\u001b[1;32m      8\u001b[0m callbacks = [tf.keras.callbacks.EarlyStopping(patience=5, monitor='val_loss',\n\u001b[1;32m      9\u001b[0m                                               restore_best_weights=True),\n\u001b[0;32m---> 10\u001b[0;31m              SimpleLogCallback(metrics_to_print, num_epochs=num_epochs,\n\u001b[0m\u001b[1;32m     11\u001b[0m                                log_frequency=1)]\n",
      "\u001b[0;31mTypeError\u001b[0m: __init__() got an unexpected keyword argument 'num_epochs'"
     ]
    }
   ],
   "source": [
    "model_dir = os.path.join('.', 'models', 'ae_denoising_mnist')\n",
    "\n",
    "metrics_to_print = collections.OrderedDict([(\"loss\", \"loss\"),\n",
    "                                            (\"v-loss\", \"val_loss\"),\n",
    "                                            (\"psnr\", \"psnr\"),\n",
    "                                            (\"v-psnr\", \"val_psnr\")])\n",
    "\n",
    "callbacks = [tf.keras.callbacks.EarlyStopping(patience=5, monitor='val_loss',\n",
    "                                              restore_best_weights=True)]"
   ]
  },
  {
   "cell_type": "code",
   "execution_count": null,
   "id": "0187abe8",
   "metadata": {},
   "outputs": [],
   "source": []
  },
  {
   "cell_type": "code",
   "execution_count": null,
   "id": "d0e85ff3",
   "metadata": {},
   "outputs": [],
   "source": []
  },
  {
   "cell_type": "code",
   "execution_count": null,
   "id": "2e641bce",
   "metadata": {},
   "outputs": [],
   "source": []
  }
 ],
 "metadata": {
  "kernelspec": {
   "display_name": "Python 3",
   "language": "python",
   "name": "python3"
  },
  "language_info": {
   "codemirror_mode": {
    "name": "ipython",
    "version": 3
   },
   "file_extension": ".py",
   "mimetype": "text/x-python",
   "name": "python",
   "nbconvert_exporter": "python",
   "pygments_lexer": "ipython3",
   "version": "3.8.8"
  }
 },
 "nbformat": 4,
 "nbformat_minor": 5
}
