{
  "nbformat": 4,
  "nbformat_minor": 0,
  "metadata": {
    "colab": {
      "name": "implement_resnet_from_scratch",
      "provenance": [],
      "collapsed_sections": []
    },
    "kernelspec": {
      "name": "python3",
      "display_name": "Python 3"
    },
    "language_info": {
      "name": "python"
    },
    "widgets": {
      "application/vnd.jupyter.widget-state+json": {
        "49cc3d7e2fcf48f9afa83edd381a8938": {
          "model_module": "@jupyter-widgets/controls",
          "model_name": "HBoxModel",
          "model_module_version": "1.5.0",
          "state": {
            "_view_name": "HBoxView",
            "_dom_classes": [],
            "_model_name": "HBoxModel",
            "_view_module": "@jupyter-widgets/controls",
            "_model_module_version": "1.5.0",
            "_view_count": null,
            "_view_module_version": "1.5.0",
            "box_style": "",
            "layout": "IPY_MODEL_69b10c63b1bd4e2a9c6463aac3363bc2",
            "_model_module": "@jupyter-widgets/controls",
            "children": [
              "IPY_MODEL_03857ae4298443f7945ac82abecd9e16",
              "IPY_MODEL_e7534ccf0b0c4756a291d264ace836bb",
              "IPY_MODEL_c2945ea4d8454a898ef6040ea4d0a778"
            ]
          }
        },
        "69b10c63b1bd4e2a9c6463aac3363bc2": {
          "model_module": "@jupyter-widgets/base",
          "model_name": "LayoutModel",
          "model_module_version": "1.2.0",
          "state": {
            "_view_name": "LayoutView",
            "grid_template_rows": null,
            "right": null,
            "justify_content": null,
            "_view_module": "@jupyter-widgets/base",
            "overflow": null,
            "_model_module_version": "1.2.0",
            "_view_count": null,
            "flex_flow": null,
            "width": null,
            "min_width": null,
            "border": null,
            "align_items": null,
            "bottom": null,
            "_model_module": "@jupyter-widgets/base",
            "top": null,
            "grid_column": null,
            "overflow_y": null,
            "overflow_x": null,
            "grid_auto_flow": null,
            "grid_area": null,
            "grid_template_columns": null,
            "flex": null,
            "_model_name": "LayoutModel",
            "justify_items": null,
            "grid_row": null,
            "max_height": null,
            "align_content": null,
            "visibility": null,
            "align_self": null,
            "height": null,
            "min_height": null,
            "padding": null,
            "grid_auto_rows": null,
            "grid_gap": null,
            "max_width": null,
            "order": null,
            "_view_module_version": "1.2.0",
            "grid_template_areas": null,
            "object_position": null,
            "object_fit": null,
            "grid_auto_columns": null,
            "margin": null,
            "display": null,
            "left": null
          }
        },
        "03857ae4298443f7945ac82abecd9e16": {
          "model_module": "@jupyter-widgets/controls",
          "model_name": "HTMLModel",
          "model_module_version": "1.5.0",
          "state": {
            "_view_name": "HTMLView",
            "style": "IPY_MODEL_b64e180462964c6ca47dc848c9b34728",
            "_dom_classes": [],
            "description": "",
            "_model_name": "HTMLModel",
            "placeholder": "​",
            "_view_module": "@jupyter-widgets/controls",
            "_model_module_version": "1.5.0",
            "value": "Dl Completed...: 100%",
            "_view_count": null,
            "_view_module_version": "1.5.0",
            "description_tooltip": null,
            "_model_module": "@jupyter-widgets/controls",
            "layout": "IPY_MODEL_40eeb560c23a426eb0531ce0ab9587d3"
          }
        },
        "e7534ccf0b0c4756a291d264ace836bb": {
          "model_module": "@jupyter-widgets/controls",
          "model_name": "FloatProgressModel",
          "model_module_version": "1.5.0",
          "state": {
            "_view_name": "ProgressView",
            "style": "IPY_MODEL_071a15c69cca45d8b0dc2413d7cba9ce",
            "_dom_classes": [],
            "description": "",
            "_model_name": "FloatProgressModel",
            "bar_style": "success",
            "max": 1,
            "_view_module": "@jupyter-widgets/controls",
            "_model_module_version": "1.5.0",
            "value": 1,
            "_view_count": null,
            "_view_module_version": "1.5.0",
            "orientation": "horizontal",
            "min": 0,
            "description_tooltip": null,
            "_model_module": "@jupyter-widgets/controls",
            "layout": "IPY_MODEL_eb3fe0a46a24454f8d13479df4c45efb"
          }
        },
        "c2945ea4d8454a898ef6040ea4d0a778": {
          "model_module": "@jupyter-widgets/controls",
          "model_name": "HTMLModel",
          "model_module_version": "1.5.0",
          "state": {
            "_view_name": "HTMLView",
            "style": "IPY_MODEL_6f34924b33da4680a1dcd13b39f688a7",
            "_dom_classes": [],
            "description": "",
            "_model_name": "HTMLModel",
            "placeholder": "​",
            "_view_module": "@jupyter-widgets/controls",
            "_model_module_version": "1.5.0",
            "value": " 1/1 [00:04&lt;00:00,  3.05s/ url]",
            "_view_count": null,
            "_view_module_version": "1.5.0",
            "description_tooltip": null,
            "_model_module": "@jupyter-widgets/controls",
            "layout": "IPY_MODEL_fa677ad0d47b4061bd587a40339457ec"
          }
        },
        "b64e180462964c6ca47dc848c9b34728": {
          "model_module": "@jupyter-widgets/controls",
          "model_name": "DescriptionStyleModel",
          "model_module_version": "1.5.0",
          "state": {
            "_view_name": "StyleView",
            "_model_name": "DescriptionStyleModel",
            "description_width": "",
            "_view_module": "@jupyter-widgets/base",
            "_model_module_version": "1.5.0",
            "_view_count": null,
            "_view_module_version": "1.2.0",
            "_model_module": "@jupyter-widgets/controls"
          }
        },
        "40eeb560c23a426eb0531ce0ab9587d3": {
          "model_module": "@jupyter-widgets/base",
          "model_name": "LayoutModel",
          "model_module_version": "1.2.0",
          "state": {
            "_view_name": "LayoutView",
            "grid_template_rows": null,
            "right": null,
            "justify_content": null,
            "_view_module": "@jupyter-widgets/base",
            "overflow": null,
            "_model_module_version": "1.2.0",
            "_view_count": null,
            "flex_flow": null,
            "width": null,
            "min_width": null,
            "border": null,
            "align_items": null,
            "bottom": null,
            "_model_module": "@jupyter-widgets/base",
            "top": null,
            "grid_column": null,
            "overflow_y": null,
            "overflow_x": null,
            "grid_auto_flow": null,
            "grid_area": null,
            "grid_template_columns": null,
            "flex": null,
            "_model_name": "LayoutModel",
            "justify_items": null,
            "grid_row": null,
            "max_height": null,
            "align_content": null,
            "visibility": null,
            "align_self": null,
            "height": null,
            "min_height": null,
            "padding": null,
            "grid_auto_rows": null,
            "grid_gap": null,
            "max_width": null,
            "order": null,
            "_view_module_version": "1.2.0",
            "grid_template_areas": null,
            "object_position": null,
            "object_fit": null,
            "grid_auto_columns": null,
            "margin": null,
            "display": null,
            "left": null
          }
        },
        "071a15c69cca45d8b0dc2413d7cba9ce": {
          "model_module": "@jupyter-widgets/controls",
          "model_name": "ProgressStyleModel",
          "model_module_version": "1.5.0",
          "state": {
            "_view_name": "StyleView",
            "_model_name": "ProgressStyleModel",
            "description_width": "",
            "_view_module": "@jupyter-widgets/base",
            "_model_module_version": "1.5.0",
            "_view_count": null,
            "_view_module_version": "1.2.0",
            "bar_color": null,
            "_model_module": "@jupyter-widgets/controls"
          }
        },
        "eb3fe0a46a24454f8d13479df4c45efb": {
          "model_module": "@jupyter-widgets/base",
          "model_name": "LayoutModel",
          "model_module_version": "1.2.0",
          "state": {
            "_view_name": "LayoutView",
            "grid_template_rows": null,
            "right": null,
            "justify_content": null,
            "_view_module": "@jupyter-widgets/base",
            "overflow": null,
            "_model_module_version": "1.2.0",
            "_view_count": null,
            "flex_flow": null,
            "width": "20px",
            "min_width": null,
            "border": null,
            "align_items": null,
            "bottom": null,
            "_model_module": "@jupyter-widgets/base",
            "top": null,
            "grid_column": null,
            "overflow_y": null,
            "overflow_x": null,
            "grid_auto_flow": null,
            "grid_area": null,
            "grid_template_columns": null,
            "flex": null,
            "_model_name": "LayoutModel",
            "justify_items": null,
            "grid_row": null,
            "max_height": null,
            "align_content": null,
            "visibility": null,
            "align_self": null,
            "height": null,
            "min_height": null,
            "padding": null,
            "grid_auto_rows": null,
            "grid_gap": null,
            "max_width": null,
            "order": null,
            "_view_module_version": "1.2.0",
            "grid_template_areas": null,
            "object_position": null,
            "object_fit": null,
            "grid_auto_columns": null,
            "margin": null,
            "display": null,
            "left": null
          }
        },
        "6f34924b33da4680a1dcd13b39f688a7": {
          "model_module": "@jupyter-widgets/controls",
          "model_name": "DescriptionStyleModel",
          "model_module_version": "1.5.0",
          "state": {
            "_view_name": "StyleView",
            "_model_name": "DescriptionStyleModel",
            "description_width": "",
            "_view_module": "@jupyter-widgets/base",
            "_model_module_version": "1.5.0",
            "_view_count": null,
            "_view_module_version": "1.2.0",
            "_model_module": "@jupyter-widgets/controls"
          }
        },
        "fa677ad0d47b4061bd587a40339457ec": {
          "model_module": "@jupyter-widgets/base",
          "model_name": "LayoutModel",
          "model_module_version": "1.2.0",
          "state": {
            "_view_name": "LayoutView",
            "grid_template_rows": null,
            "right": null,
            "justify_content": null,
            "_view_module": "@jupyter-widgets/base",
            "overflow": null,
            "_model_module_version": "1.2.0",
            "_view_count": null,
            "flex_flow": null,
            "width": null,
            "min_width": null,
            "border": null,
            "align_items": null,
            "bottom": null,
            "_model_module": "@jupyter-widgets/base",
            "top": null,
            "grid_column": null,
            "overflow_y": null,
            "overflow_x": null,
            "grid_auto_flow": null,
            "grid_area": null,
            "grid_template_columns": null,
            "flex": null,
            "_model_name": "LayoutModel",
            "justify_items": null,
            "grid_row": null,
            "max_height": null,
            "align_content": null,
            "visibility": null,
            "align_self": null,
            "height": null,
            "min_height": null,
            "padding": null,
            "grid_auto_rows": null,
            "grid_gap": null,
            "max_width": null,
            "order": null,
            "_view_module_version": "1.2.0",
            "grid_template_areas": null,
            "object_position": null,
            "object_fit": null,
            "grid_auto_columns": null,
            "margin": null,
            "display": null,
            "left": null
          }
        },
        "a3188348c5034684a19a75b68dcfffd1": {
          "model_module": "@jupyter-widgets/controls",
          "model_name": "HBoxModel",
          "model_module_version": "1.5.0",
          "state": {
            "_view_name": "HBoxView",
            "_dom_classes": [],
            "_model_name": "HBoxModel",
            "_view_module": "@jupyter-widgets/controls",
            "_model_module_version": "1.5.0",
            "_view_count": null,
            "_view_module_version": "1.5.0",
            "box_style": "",
            "layout": "IPY_MODEL_ff4764badd0b48b19b31be5f59d5eaf5",
            "_model_module": "@jupyter-widgets/controls",
            "children": [
              "IPY_MODEL_b69b359722bd4f57b2e8cc710dadddbc",
              "IPY_MODEL_2e82f4c140ef4892bbdb8f662221209a",
              "IPY_MODEL_41bfedf65cc64d0495535826a5418839"
            ]
          }
        },
        "ff4764badd0b48b19b31be5f59d5eaf5": {
          "model_module": "@jupyter-widgets/base",
          "model_name": "LayoutModel",
          "model_module_version": "1.2.0",
          "state": {
            "_view_name": "LayoutView",
            "grid_template_rows": null,
            "right": null,
            "justify_content": null,
            "_view_module": "@jupyter-widgets/base",
            "overflow": null,
            "_model_module_version": "1.2.0",
            "_view_count": null,
            "flex_flow": null,
            "width": null,
            "min_width": null,
            "border": null,
            "align_items": null,
            "bottom": null,
            "_model_module": "@jupyter-widgets/base",
            "top": null,
            "grid_column": null,
            "overflow_y": null,
            "overflow_x": null,
            "grid_auto_flow": null,
            "grid_area": null,
            "grid_template_columns": null,
            "flex": null,
            "_model_name": "LayoutModel",
            "justify_items": null,
            "grid_row": null,
            "max_height": null,
            "align_content": null,
            "visibility": null,
            "align_self": null,
            "height": null,
            "min_height": null,
            "padding": null,
            "grid_auto_rows": null,
            "grid_gap": null,
            "max_width": null,
            "order": null,
            "_view_module_version": "1.2.0",
            "grid_template_areas": null,
            "object_position": null,
            "object_fit": null,
            "grid_auto_columns": null,
            "margin": null,
            "display": null,
            "left": null
          }
        },
        "b69b359722bd4f57b2e8cc710dadddbc": {
          "model_module": "@jupyter-widgets/controls",
          "model_name": "HTMLModel",
          "model_module_version": "1.5.0",
          "state": {
            "_view_name": "HTMLView",
            "style": "IPY_MODEL_c15dcebf7d6943ffbc882c3e1f4da19a",
            "_dom_classes": [],
            "description": "",
            "_model_name": "HTMLModel",
            "placeholder": "​",
            "_view_module": "@jupyter-widgets/controls",
            "_model_module_version": "1.5.0",
            "value": "Dl Size...: 100%",
            "_view_count": null,
            "_view_module_version": "1.5.0",
            "description_tooltip": null,
            "_model_module": "@jupyter-widgets/controls",
            "layout": "IPY_MODEL_eeb8878ebce44a39836062c47cd2ec63"
          }
        },
        "2e82f4c140ef4892bbdb8f662221209a": {
          "model_module": "@jupyter-widgets/controls",
          "model_name": "FloatProgressModel",
          "model_module_version": "1.5.0",
          "state": {
            "_view_name": "ProgressView",
            "style": "IPY_MODEL_e05f331bc301468ba02d00d355cccab7",
            "_dom_classes": [],
            "description": "",
            "_model_name": "FloatProgressModel",
            "bar_style": "success",
            "max": 1,
            "_view_module": "@jupyter-widgets/controls",
            "_model_module_version": "1.5.0",
            "value": 1,
            "_view_count": null,
            "_view_module_version": "1.5.0",
            "orientation": "horizontal",
            "min": 0,
            "description_tooltip": null,
            "_model_module": "@jupyter-widgets/controls",
            "layout": "IPY_MODEL_3b20eb1c48c34f50842104d32a7fd839"
          }
        },
        "41bfedf65cc64d0495535826a5418839": {
          "model_module": "@jupyter-widgets/controls",
          "model_name": "HTMLModel",
          "model_module_version": "1.5.0",
          "state": {
            "_view_name": "HTMLView",
            "style": "IPY_MODEL_7000a05ec2d4445da987e00718dc965a",
            "_dom_classes": [],
            "description": "",
            "_model_name": "HTMLModel",
            "placeholder": "​",
            "_view_module": "@jupyter-widgets/controls",
            "_model_module_version": "1.5.0",
            "value": " 160/160 [00:04&lt;00:00, 56.30 MiB/s]",
            "_view_count": null,
            "_view_module_version": "1.5.0",
            "description_tooltip": null,
            "_model_module": "@jupyter-widgets/controls",
            "layout": "IPY_MODEL_1c24c4f4dd444aec84ee7c1659393578"
          }
        },
        "c15dcebf7d6943ffbc882c3e1f4da19a": {
          "model_module": "@jupyter-widgets/controls",
          "model_name": "DescriptionStyleModel",
          "model_module_version": "1.5.0",
          "state": {
            "_view_name": "StyleView",
            "_model_name": "DescriptionStyleModel",
            "description_width": "",
            "_view_module": "@jupyter-widgets/base",
            "_model_module_version": "1.5.0",
            "_view_count": null,
            "_view_module_version": "1.2.0",
            "_model_module": "@jupyter-widgets/controls"
          }
        },
        "eeb8878ebce44a39836062c47cd2ec63": {
          "model_module": "@jupyter-widgets/base",
          "model_name": "LayoutModel",
          "model_module_version": "1.2.0",
          "state": {
            "_view_name": "LayoutView",
            "grid_template_rows": null,
            "right": null,
            "justify_content": null,
            "_view_module": "@jupyter-widgets/base",
            "overflow": null,
            "_model_module_version": "1.2.0",
            "_view_count": null,
            "flex_flow": null,
            "width": null,
            "min_width": null,
            "border": null,
            "align_items": null,
            "bottom": null,
            "_model_module": "@jupyter-widgets/base",
            "top": null,
            "grid_column": null,
            "overflow_y": null,
            "overflow_x": null,
            "grid_auto_flow": null,
            "grid_area": null,
            "grid_template_columns": null,
            "flex": null,
            "_model_name": "LayoutModel",
            "justify_items": null,
            "grid_row": null,
            "max_height": null,
            "align_content": null,
            "visibility": null,
            "align_self": null,
            "height": null,
            "min_height": null,
            "padding": null,
            "grid_auto_rows": null,
            "grid_gap": null,
            "max_width": null,
            "order": null,
            "_view_module_version": "1.2.0",
            "grid_template_areas": null,
            "object_position": null,
            "object_fit": null,
            "grid_auto_columns": null,
            "margin": null,
            "display": null,
            "left": null
          }
        },
        "e05f331bc301468ba02d00d355cccab7": {
          "model_module": "@jupyter-widgets/controls",
          "model_name": "ProgressStyleModel",
          "model_module_version": "1.5.0",
          "state": {
            "_view_name": "StyleView",
            "_model_name": "ProgressStyleModel",
            "description_width": "",
            "_view_module": "@jupyter-widgets/base",
            "_model_module_version": "1.5.0",
            "_view_count": null,
            "_view_module_version": "1.2.0",
            "bar_color": null,
            "_model_module": "@jupyter-widgets/controls"
          }
        },
        "3b20eb1c48c34f50842104d32a7fd839": {
          "model_module": "@jupyter-widgets/base",
          "model_name": "LayoutModel",
          "model_module_version": "1.2.0",
          "state": {
            "_view_name": "LayoutView",
            "grid_template_rows": null,
            "right": null,
            "justify_content": null,
            "_view_module": "@jupyter-widgets/base",
            "overflow": null,
            "_model_module_version": "1.2.0",
            "_view_count": null,
            "flex_flow": null,
            "width": "20px",
            "min_width": null,
            "border": null,
            "align_items": null,
            "bottom": null,
            "_model_module": "@jupyter-widgets/base",
            "top": null,
            "grid_column": null,
            "overflow_y": null,
            "overflow_x": null,
            "grid_auto_flow": null,
            "grid_area": null,
            "grid_template_columns": null,
            "flex": null,
            "_model_name": "LayoutModel",
            "justify_items": null,
            "grid_row": null,
            "max_height": null,
            "align_content": null,
            "visibility": null,
            "align_self": null,
            "height": null,
            "min_height": null,
            "padding": null,
            "grid_auto_rows": null,
            "grid_gap": null,
            "max_width": null,
            "order": null,
            "_view_module_version": "1.2.0",
            "grid_template_areas": null,
            "object_position": null,
            "object_fit": null,
            "grid_auto_columns": null,
            "margin": null,
            "display": null,
            "left": null
          }
        },
        "7000a05ec2d4445da987e00718dc965a": {
          "model_module": "@jupyter-widgets/controls",
          "model_name": "DescriptionStyleModel",
          "model_module_version": "1.5.0",
          "state": {
            "_view_name": "StyleView",
            "_model_name": "DescriptionStyleModel",
            "description_width": "",
            "_view_module": "@jupyter-widgets/base",
            "_model_module_version": "1.5.0",
            "_view_count": null,
            "_view_module_version": "1.2.0",
            "_model_module": "@jupyter-widgets/controls"
          }
        },
        "1c24c4f4dd444aec84ee7c1659393578": {
          "model_module": "@jupyter-widgets/base",
          "model_name": "LayoutModel",
          "model_module_version": "1.2.0",
          "state": {
            "_view_name": "LayoutView",
            "grid_template_rows": null,
            "right": null,
            "justify_content": null,
            "_view_module": "@jupyter-widgets/base",
            "overflow": null,
            "_model_module_version": "1.2.0",
            "_view_count": null,
            "flex_flow": null,
            "width": null,
            "min_width": null,
            "border": null,
            "align_items": null,
            "bottom": null,
            "_model_module": "@jupyter-widgets/base",
            "top": null,
            "grid_column": null,
            "overflow_y": null,
            "overflow_x": null,
            "grid_auto_flow": null,
            "grid_area": null,
            "grid_template_columns": null,
            "flex": null,
            "_model_name": "LayoutModel",
            "justify_items": null,
            "grid_row": null,
            "max_height": null,
            "align_content": null,
            "visibility": null,
            "align_self": null,
            "height": null,
            "min_height": null,
            "padding": null,
            "grid_auto_rows": null,
            "grid_gap": null,
            "max_width": null,
            "order": null,
            "_view_module_version": "1.2.0",
            "grid_template_areas": null,
            "object_position": null,
            "object_fit": null,
            "grid_auto_columns": null,
            "margin": null,
            "display": null,
            "left": null
          }
        },
        "6e2fc7b32bb940fc80f1a7ecc7b6ceb4": {
          "model_module": "@jupyter-widgets/controls",
          "model_name": "HBoxModel",
          "model_module_version": "1.5.0",
          "state": {
            "_view_name": "HBoxView",
            "_dom_classes": [],
            "_model_name": "HBoxModel",
            "_view_module": "@jupyter-widgets/controls",
            "_model_module_version": "1.5.0",
            "_view_count": null,
            "_view_module_version": "1.5.0",
            "box_style": "",
            "layout": "IPY_MODEL_2f43fdabeba6407fbbaa0fd7ef23444f",
            "_model_module": "@jupyter-widgets/controls",
            "children": [
              "IPY_MODEL_708e2441515245c0be0606a74b85c2bf",
              "IPY_MODEL_28fefa43c72845d7aee407eee96565b4",
              "IPY_MODEL_48c2f723a18047efa6a8f0fb31718c3a"
            ]
          }
        },
        "2f43fdabeba6407fbbaa0fd7ef23444f": {
          "model_module": "@jupyter-widgets/base",
          "model_name": "LayoutModel",
          "model_module_version": "1.2.0",
          "state": {
            "_view_name": "LayoutView",
            "grid_template_rows": null,
            "right": null,
            "justify_content": null,
            "_view_module": "@jupyter-widgets/base",
            "overflow": null,
            "_model_module_version": "1.2.0",
            "_view_count": null,
            "flex_flow": null,
            "width": null,
            "min_width": null,
            "border": null,
            "align_items": null,
            "bottom": null,
            "_model_module": "@jupyter-widgets/base",
            "top": null,
            "grid_column": null,
            "overflow_y": null,
            "overflow_x": null,
            "grid_auto_flow": null,
            "grid_area": null,
            "grid_template_columns": null,
            "flex": null,
            "_model_name": "LayoutModel",
            "justify_items": null,
            "grid_row": null,
            "max_height": null,
            "align_content": null,
            "visibility": null,
            "align_self": null,
            "height": null,
            "min_height": null,
            "padding": null,
            "grid_auto_rows": null,
            "grid_gap": null,
            "max_width": null,
            "order": null,
            "_view_module_version": "1.2.0",
            "grid_template_areas": null,
            "object_position": null,
            "object_fit": null,
            "grid_auto_columns": null,
            "margin": null,
            "display": null,
            "left": null
          }
        },
        "708e2441515245c0be0606a74b85c2bf": {
          "model_module": "@jupyter-widgets/controls",
          "model_name": "HTMLModel",
          "model_module_version": "1.5.0",
          "state": {
            "_view_name": "HTMLView",
            "style": "IPY_MODEL_1dc9deac19fd40e59ca4b8a3ad39c552",
            "_dom_classes": [],
            "description": "",
            "_model_name": "HTMLModel",
            "placeholder": "​",
            "_view_module": "@jupyter-widgets/controls",
            "_model_module_version": "1.5.0",
            "value": "Extraction completed...: 100%",
            "_view_count": null,
            "_view_module_version": "1.5.0",
            "description_tooltip": null,
            "_model_module": "@jupyter-widgets/controls",
            "layout": "IPY_MODEL_e46fe354e5d24679802e5b242f1a1161"
          }
        },
        "28fefa43c72845d7aee407eee96565b4": {
          "model_module": "@jupyter-widgets/controls",
          "model_name": "FloatProgressModel",
          "model_module_version": "1.5.0",
          "state": {
            "_view_name": "ProgressView",
            "style": "IPY_MODEL_0d27918334ed4a24bea02baef547a8ee",
            "_dom_classes": [],
            "description": "",
            "_model_name": "FloatProgressModel",
            "bar_style": "success",
            "max": 1,
            "_view_module": "@jupyter-widgets/controls",
            "_model_module_version": "1.5.0",
            "value": 1,
            "_view_count": null,
            "_view_module_version": "1.5.0",
            "orientation": "horizontal",
            "min": 0,
            "description_tooltip": null,
            "_model_module": "@jupyter-widgets/controls",
            "layout": "IPY_MODEL_2de39b68f1d14e2d8cd9c2d9f3f71c0f"
          }
        },
        "48c2f723a18047efa6a8f0fb31718c3a": {
          "model_module": "@jupyter-widgets/controls",
          "model_name": "HTMLModel",
          "model_module_version": "1.5.0",
          "state": {
            "_view_name": "HTMLView",
            "style": "IPY_MODEL_58b17a7e3a1e45f3aa32b0596c7e3687",
            "_dom_classes": [],
            "description": "",
            "_model_name": "HTMLModel",
            "placeholder": "​",
            "_view_module": "@jupyter-widgets/controls",
            "_model_module_version": "1.5.0",
            "value": " 1/1 [00:04&lt;00:00,  4.87s/ file]",
            "_view_count": null,
            "_view_module_version": "1.5.0",
            "description_tooltip": null,
            "_model_module": "@jupyter-widgets/controls",
            "layout": "IPY_MODEL_987bf42e208a43e48a4f476eeb3d6d7c"
          }
        },
        "1dc9deac19fd40e59ca4b8a3ad39c552": {
          "model_module": "@jupyter-widgets/controls",
          "model_name": "DescriptionStyleModel",
          "model_module_version": "1.5.0",
          "state": {
            "_view_name": "StyleView",
            "_model_name": "DescriptionStyleModel",
            "description_width": "",
            "_view_module": "@jupyter-widgets/base",
            "_model_module_version": "1.5.0",
            "_view_count": null,
            "_view_module_version": "1.2.0",
            "_model_module": "@jupyter-widgets/controls"
          }
        },
        "e46fe354e5d24679802e5b242f1a1161": {
          "model_module": "@jupyter-widgets/base",
          "model_name": "LayoutModel",
          "model_module_version": "1.2.0",
          "state": {
            "_view_name": "LayoutView",
            "grid_template_rows": null,
            "right": null,
            "justify_content": null,
            "_view_module": "@jupyter-widgets/base",
            "overflow": null,
            "_model_module_version": "1.2.0",
            "_view_count": null,
            "flex_flow": null,
            "width": null,
            "min_width": null,
            "border": null,
            "align_items": null,
            "bottom": null,
            "_model_module": "@jupyter-widgets/base",
            "top": null,
            "grid_column": null,
            "overflow_y": null,
            "overflow_x": null,
            "grid_auto_flow": null,
            "grid_area": null,
            "grid_template_columns": null,
            "flex": null,
            "_model_name": "LayoutModel",
            "justify_items": null,
            "grid_row": null,
            "max_height": null,
            "align_content": null,
            "visibility": null,
            "align_self": null,
            "height": null,
            "min_height": null,
            "padding": null,
            "grid_auto_rows": null,
            "grid_gap": null,
            "max_width": null,
            "order": null,
            "_view_module_version": "1.2.0",
            "grid_template_areas": null,
            "object_position": null,
            "object_fit": null,
            "grid_auto_columns": null,
            "margin": null,
            "display": null,
            "left": null
          }
        },
        "0d27918334ed4a24bea02baef547a8ee": {
          "model_module": "@jupyter-widgets/controls",
          "model_name": "ProgressStyleModel",
          "model_module_version": "1.5.0",
          "state": {
            "_view_name": "StyleView",
            "_model_name": "ProgressStyleModel",
            "description_width": "",
            "_view_module": "@jupyter-widgets/base",
            "_model_module_version": "1.5.0",
            "_view_count": null,
            "_view_module_version": "1.2.0",
            "bar_color": null,
            "_model_module": "@jupyter-widgets/controls"
          }
        },
        "2de39b68f1d14e2d8cd9c2d9f3f71c0f": {
          "model_module": "@jupyter-widgets/base",
          "model_name": "LayoutModel",
          "model_module_version": "1.2.0",
          "state": {
            "_view_name": "LayoutView",
            "grid_template_rows": null,
            "right": null,
            "justify_content": null,
            "_view_module": "@jupyter-widgets/base",
            "overflow": null,
            "_model_module_version": "1.2.0",
            "_view_count": null,
            "flex_flow": null,
            "width": "20px",
            "min_width": null,
            "border": null,
            "align_items": null,
            "bottom": null,
            "_model_module": "@jupyter-widgets/base",
            "top": null,
            "grid_column": null,
            "overflow_y": null,
            "overflow_x": null,
            "grid_auto_flow": null,
            "grid_area": null,
            "grid_template_columns": null,
            "flex": null,
            "_model_name": "LayoutModel",
            "justify_items": null,
            "grid_row": null,
            "max_height": null,
            "align_content": null,
            "visibility": null,
            "align_self": null,
            "height": null,
            "min_height": null,
            "padding": null,
            "grid_auto_rows": null,
            "grid_gap": null,
            "max_width": null,
            "order": null,
            "_view_module_version": "1.2.0",
            "grid_template_areas": null,
            "object_position": null,
            "object_fit": null,
            "grid_auto_columns": null,
            "margin": null,
            "display": null,
            "left": null
          }
        },
        "58b17a7e3a1e45f3aa32b0596c7e3687": {
          "model_module": "@jupyter-widgets/controls",
          "model_name": "DescriptionStyleModel",
          "model_module_version": "1.5.0",
          "state": {
            "_view_name": "StyleView",
            "_model_name": "DescriptionStyleModel",
            "description_width": "",
            "_view_module": "@jupyter-widgets/base",
            "_model_module_version": "1.5.0",
            "_view_count": null,
            "_view_module_version": "1.2.0",
            "_model_module": "@jupyter-widgets/controls"
          }
        },
        "987bf42e208a43e48a4f476eeb3d6d7c": {
          "model_module": "@jupyter-widgets/base",
          "model_name": "LayoutModel",
          "model_module_version": "1.2.0",
          "state": {
            "_view_name": "LayoutView",
            "grid_template_rows": null,
            "right": null,
            "justify_content": null,
            "_view_module": "@jupyter-widgets/base",
            "overflow": null,
            "_model_module_version": "1.2.0",
            "_view_count": null,
            "flex_flow": null,
            "width": null,
            "min_width": null,
            "border": null,
            "align_items": null,
            "bottom": null,
            "_model_module": "@jupyter-widgets/base",
            "top": null,
            "grid_column": null,
            "overflow_y": null,
            "overflow_x": null,
            "grid_auto_flow": null,
            "grid_area": null,
            "grid_template_columns": null,
            "flex": null,
            "_model_name": "LayoutModel",
            "justify_items": null,
            "grid_row": null,
            "max_height": null,
            "align_content": null,
            "visibility": null,
            "align_self": null,
            "height": null,
            "min_height": null,
            "padding": null,
            "grid_auto_rows": null,
            "grid_gap": null,
            "max_width": null,
            "order": null,
            "_view_module_version": "1.2.0",
            "grid_template_areas": null,
            "object_position": null,
            "object_fit": null,
            "grid_auto_columns": null,
            "margin": null,
            "display": null,
            "left": null
          }
        },
        "d6d88eef944f4275841b14d69d01e844": {
          "model_module": "@jupyter-widgets/controls",
          "model_name": "HBoxModel",
          "model_module_version": "1.5.0",
          "state": {
            "_view_name": "HBoxView",
            "_dom_classes": [],
            "_model_name": "HBoxModel",
            "_view_module": "@jupyter-widgets/controls",
            "_model_module_version": "1.5.0",
            "_view_count": null,
            "_view_module_version": "1.5.0",
            "box_style": "",
            "layout": "IPY_MODEL_04d40d5322924ced9a1e536b86a3b95b",
            "_model_module": "@jupyter-widgets/controls",
            "children": [
              "IPY_MODEL_b764383fe8f44f33a0c198ee49649fc0",
              "IPY_MODEL_ee912e18472b4ba9a56eaa6575c0f1dd",
              "IPY_MODEL_7b341d193cac456cbec3ad8ac73cd379"
            ]
          }
        },
        "04d40d5322924ced9a1e536b86a3b95b": {
          "model_module": "@jupyter-widgets/base",
          "model_name": "LayoutModel",
          "model_module_version": "1.2.0",
          "state": {
            "_view_name": "LayoutView",
            "grid_template_rows": null,
            "right": null,
            "justify_content": null,
            "_view_module": "@jupyter-widgets/base",
            "overflow": null,
            "_model_module_version": "1.2.0",
            "_view_count": null,
            "flex_flow": null,
            "width": null,
            "min_width": null,
            "border": null,
            "align_items": null,
            "bottom": null,
            "_model_module": "@jupyter-widgets/base",
            "top": null,
            "grid_column": null,
            "overflow_y": null,
            "overflow_x": null,
            "grid_auto_flow": null,
            "grid_area": null,
            "grid_template_columns": null,
            "flex": null,
            "_model_name": "LayoutModel",
            "justify_items": null,
            "grid_row": null,
            "max_height": null,
            "align_content": null,
            "visibility": null,
            "align_self": null,
            "height": null,
            "min_height": null,
            "padding": null,
            "grid_auto_rows": null,
            "grid_gap": null,
            "max_width": null,
            "order": null,
            "_view_module_version": "1.2.0",
            "grid_template_areas": null,
            "object_position": null,
            "object_fit": null,
            "grid_auto_columns": null,
            "margin": null,
            "display": null,
            "left": null
          }
        },
        "b764383fe8f44f33a0c198ee49649fc0": {
          "model_module": "@jupyter-widgets/controls",
          "model_name": "HTMLModel",
          "model_module_version": "1.5.0",
          "state": {
            "_view_name": "HTMLView",
            "style": "IPY_MODEL_04a5fc279d9a41e7bc191e8baa0b9017",
            "_dom_classes": [],
            "description": "",
            "_model_name": "HTMLModel",
            "placeholder": "​",
            "_view_module": "@jupyter-widgets/controls",
            "_model_module_version": "1.5.0",
            "value": "",
            "_view_count": null,
            "_view_module_version": "1.5.0",
            "description_tooltip": null,
            "_model_module": "@jupyter-widgets/controls",
            "layout": "IPY_MODEL_c4f4059a27b74dcca7e24c98bdbb82ec"
          }
        },
        "ee912e18472b4ba9a56eaa6575c0f1dd": {
          "model_module": "@jupyter-widgets/controls",
          "model_name": "FloatProgressModel",
          "model_module_version": "1.5.0",
          "state": {
            "_view_name": "ProgressView",
            "style": "IPY_MODEL_c1cc56f04fc7429aa50962bac2842c5c",
            "_dom_classes": [],
            "description": "",
            "_model_name": "FloatProgressModel",
            "bar_style": "info",
            "max": 1,
            "_view_module": "@jupyter-widgets/controls",
            "_model_module_version": "1.5.0",
            "value": 1,
            "_view_count": null,
            "_view_module_version": "1.5.0",
            "orientation": "horizontal",
            "min": 0,
            "description_tooltip": null,
            "_model_module": "@jupyter-widgets/controls",
            "layout": "IPY_MODEL_23f86cbc84f04f13818a006e635ae97e"
          }
        },
        "7b341d193cac456cbec3ad8ac73cd379": {
          "model_module": "@jupyter-widgets/controls",
          "model_name": "HTMLModel",
          "model_module_version": "1.5.0",
          "state": {
            "_view_name": "HTMLView",
            "style": "IPY_MODEL_1fe5c8ce6bf6430e9f71b2dc2ca19c5d",
            "_dom_classes": [],
            "description": "",
            "_model_name": "HTMLModel",
            "placeholder": "​",
            "_view_module": "@jupyter-widgets/controls",
            "_model_module_version": "1.5.0",
            "value": " 49972/0 [00:51&lt;00:00, 1138.68 examples/s]",
            "_view_count": null,
            "_view_module_version": "1.5.0",
            "description_tooltip": null,
            "_model_module": "@jupyter-widgets/controls",
            "layout": "IPY_MODEL_9ec80c98903d412b95903845e47748c2"
          }
        },
        "04a5fc279d9a41e7bc191e8baa0b9017": {
          "model_module": "@jupyter-widgets/controls",
          "model_name": "DescriptionStyleModel",
          "model_module_version": "1.5.0",
          "state": {
            "_view_name": "StyleView",
            "_model_name": "DescriptionStyleModel",
            "description_width": "",
            "_view_module": "@jupyter-widgets/base",
            "_model_module_version": "1.5.0",
            "_view_count": null,
            "_view_module_version": "1.2.0",
            "_model_module": "@jupyter-widgets/controls"
          }
        },
        "c4f4059a27b74dcca7e24c98bdbb82ec": {
          "model_module": "@jupyter-widgets/base",
          "model_name": "LayoutModel",
          "model_module_version": "1.2.0",
          "state": {
            "_view_name": "LayoutView",
            "grid_template_rows": null,
            "right": null,
            "justify_content": null,
            "_view_module": "@jupyter-widgets/base",
            "overflow": null,
            "_model_module_version": "1.2.0",
            "_view_count": null,
            "flex_flow": null,
            "width": null,
            "min_width": null,
            "border": null,
            "align_items": null,
            "bottom": null,
            "_model_module": "@jupyter-widgets/base",
            "top": null,
            "grid_column": null,
            "overflow_y": null,
            "overflow_x": null,
            "grid_auto_flow": null,
            "grid_area": null,
            "grid_template_columns": null,
            "flex": null,
            "_model_name": "LayoutModel",
            "justify_items": null,
            "grid_row": null,
            "max_height": null,
            "align_content": null,
            "visibility": null,
            "align_self": null,
            "height": null,
            "min_height": null,
            "padding": null,
            "grid_auto_rows": null,
            "grid_gap": null,
            "max_width": null,
            "order": null,
            "_view_module_version": "1.2.0",
            "grid_template_areas": null,
            "object_position": null,
            "object_fit": null,
            "grid_auto_columns": null,
            "margin": null,
            "display": null,
            "left": null
          }
        },
        "c1cc56f04fc7429aa50962bac2842c5c": {
          "model_module": "@jupyter-widgets/controls",
          "model_name": "ProgressStyleModel",
          "model_module_version": "1.5.0",
          "state": {
            "_view_name": "StyleView",
            "_model_name": "ProgressStyleModel",
            "description_width": "",
            "_view_module": "@jupyter-widgets/base",
            "_model_module_version": "1.5.0",
            "_view_count": null,
            "_view_module_version": "1.2.0",
            "bar_color": null,
            "_model_module": "@jupyter-widgets/controls"
          }
        },
        "23f86cbc84f04f13818a006e635ae97e": {
          "model_module": "@jupyter-widgets/base",
          "model_name": "LayoutModel",
          "model_module_version": "1.2.0",
          "state": {
            "_view_name": "LayoutView",
            "grid_template_rows": null,
            "right": null,
            "justify_content": null,
            "_view_module": "@jupyter-widgets/base",
            "overflow": null,
            "_model_module_version": "1.2.0",
            "_view_count": null,
            "flex_flow": null,
            "width": "20px",
            "min_width": null,
            "border": null,
            "align_items": null,
            "bottom": null,
            "_model_module": "@jupyter-widgets/base",
            "top": null,
            "grid_column": null,
            "overflow_y": null,
            "overflow_x": null,
            "grid_auto_flow": null,
            "grid_area": null,
            "grid_template_columns": null,
            "flex": null,
            "_model_name": "LayoutModel",
            "justify_items": null,
            "grid_row": null,
            "max_height": null,
            "align_content": null,
            "visibility": null,
            "align_self": null,
            "height": null,
            "min_height": null,
            "padding": null,
            "grid_auto_rows": null,
            "grid_gap": null,
            "max_width": null,
            "order": null,
            "_view_module_version": "1.2.0",
            "grid_template_areas": null,
            "object_position": null,
            "object_fit": null,
            "grid_auto_columns": null,
            "margin": null,
            "display": null,
            "left": null
          }
        },
        "1fe5c8ce6bf6430e9f71b2dc2ca19c5d": {
          "model_module": "@jupyter-widgets/controls",
          "model_name": "DescriptionStyleModel",
          "model_module_version": "1.5.0",
          "state": {
            "_view_name": "StyleView",
            "_model_name": "DescriptionStyleModel",
            "description_width": "",
            "_view_module": "@jupyter-widgets/base",
            "_model_module_version": "1.5.0",
            "_view_count": null,
            "_view_module_version": "1.2.0",
            "_model_module": "@jupyter-widgets/controls"
          }
        },
        "9ec80c98903d412b95903845e47748c2": {
          "model_module": "@jupyter-widgets/base",
          "model_name": "LayoutModel",
          "model_module_version": "1.2.0",
          "state": {
            "_view_name": "LayoutView",
            "grid_template_rows": null,
            "right": null,
            "justify_content": null,
            "_view_module": "@jupyter-widgets/base",
            "overflow": null,
            "_model_module_version": "1.2.0",
            "_view_count": null,
            "flex_flow": null,
            "width": null,
            "min_width": null,
            "border": null,
            "align_items": null,
            "bottom": null,
            "_model_module": "@jupyter-widgets/base",
            "top": null,
            "grid_column": null,
            "overflow_y": null,
            "overflow_x": null,
            "grid_auto_flow": null,
            "grid_area": null,
            "grid_template_columns": null,
            "flex": null,
            "_model_name": "LayoutModel",
            "justify_items": null,
            "grid_row": null,
            "max_height": null,
            "align_content": null,
            "visibility": null,
            "align_self": null,
            "height": null,
            "min_height": null,
            "padding": null,
            "grid_auto_rows": null,
            "grid_gap": null,
            "max_width": null,
            "order": null,
            "_view_module_version": "1.2.0",
            "grid_template_areas": null,
            "object_position": null,
            "object_fit": null,
            "grid_auto_columns": null,
            "margin": null,
            "display": null,
            "left": null
          }
        },
        "cd8cefc942b54dd2861ef2778994d4f2": {
          "model_module": "@jupyter-widgets/controls",
          "model_name": "HBoxModel",
          "model_module_version": "1.5.0",
          "state": {
            "_view_name": "HBoxView",
            "_dom_classes": [],
            "_model_name": "HBoxModel",
            "_view_module": "@jupyter-widgets/controls",
            "_model_module_version": "1.5.0",
            "_view_count": null,
            "_view_module_version": "1.5.0",
            "box_style": "",
            "layout": "IPY_MODEL_5db9d89f7e834a4a87dfc0cb978b018b",
            "_model_module": "@jupyter-widgets/controls",
            "children": [
              "IPY_MODEL_5b46c620628b4cde919cf20ca9596060",
              "IPY_MODEL_92450e0dea1446bb90a29c0007c4687c",
              "IPY_MODEL_ce92c22843a84f299fa4afb943f683d4"
            ]
          }
        },
        "5db9d89f7e834a4a87dfc0cb978b018b": {
          "model_module": "@jupyter-widgets/base",
          "model_name": "LayoutModel",
          "model_module_version": "1.2.0",
          "state": {
            "_view_name": "LayoutView",
            "grid_template_rows": null,
            "right": null,
            "justify_content": null,
            "_view_module": "@jupyter-widgets/base",
            "overflow": null,
            "_model_module_version": "1.2.0",
            "_view_count": null,
            "flex_flow": null,
            "width": null,
            "min_width": null,
            "border": null,
            "align_items": null,
            "bottom": null,
            "_model_module": "@jupyter-widgets/base",
            "top": null,
            "grid_column": null,
            "overflow_y": null,
            "overflow_x": null,
            "grid_auto_flow": null,
            "grid_area": null,
            "grid_template_columns": null,
            "flex": null,
            "_model_name": "LayoutModel",
            "justify_items": null,
            "grid_row": null,
            "max_height": null,
            "align_content": null,
            "visibility": null,
            "align_self": null,
            "height": null,
            "min_height": null,
            "padding": null,
            "grid_auto_rows": null,
            "grid_gap": null,
            "max_width": null,
            "order": null,
            "_view_module_version": "1.2.0",
            "grid_template_areas": null,
            "object_position": null,
            "object_fit": null,
            "grid_auto_columns": null,
            "margin": null,
            "display": null,
            "left": null
          }
        },
        "5b46c620628b4cde919cf20ca9596060": {
          "model_module": "@jupyter-widgets/controls",
          "model_name": "HTMLModel",
          "model_module_version": "1.5.0",
          "state": {
            "_view_name": "HTMLView",
            "style": "IPY_MODEL_9bd7c551d8b046dcb1b26267553ca53a",
            "_dom_classes": [],
            "description": "",
            "_model_name": "HTMLModel",
            "placeholder": "​",
            "_view_module": "@jupyter-widgets/controls",
            "_model_module_version": "1.5.0",
            "value": "100%",
            "_view_count": null,
            "_view_module_version": "1.5.0",
            "description_tooltip": null,
            "_model_module": "@jupyter-widgets/controls",
            "layout": "IPY_MODEL_5f8656e86e5142ae9ed0ae019dd360e8"
          }
        },
        "92450e0dea1446bb90a29c0007c4687c": {
          "model_module": "@jupyter-widgets/controls",
          "model_name": "FloatProgressModel",
          "model_module_version": "1.5.0",
          "state": {
            "_view_name": "ProgressView",
            "style": "IPY_MODEL_23cb1133c68d478da94657eaea6d0e88",
            "_dom_classes": [],
            "description": "",
            "_model_name": "FloatProgressModel",
            "bar_style": "danger",
            "max": 50000,
            "_view_module": "@jupyter-widgets/controls",
            "_model_module_version": "1.5.0",
            "value": 49999,
            "_view_count": null,
            "_view_module_version": "1.5.0",
            "orientation": "horizontal",
            "min": 0,
            "description_tooltip": null,
            "_model_module": "@jupyter-widgets/controls",
            "layout": "IPY_MODEL_ceeae8e34b3c4ad083856ce487ef13a7"
          }
        },
        "ce92c22843a84f299fa4afb943f683d4": {
          "model_module": "@jupyter-widgets/controls",
          "model_name": "HTMLModel",
          "model_module_version": "1.5.0",
          "state": {
            "_view_name": "HTMLView",
            "style": "IPY_MODEL_fbb8af7586a349749a34b298e8a3d60d",
            "_dom_classes": [],
            "description": "",
            "_model_name": "HTMLModel",
            "placeholder": "​",
            "_view_module": "@jupyter-widgets/controls",
            "_model_module_version": "1.5.0",
            "value": " 49999/50000 [00:00&lt;00:00, 163058.01 examples/s]",
            "_view_count": null,
            "_view_module_version": "1.5.0",
            "description_tooltip": null,
            "_model_module": "@jupyter-widgets/controls",
            "layout": "IPY_MODEL_f07210ef9d804d7a9bf6da86dfbce25d"
          }
        },
        "9bd7c551d8b046dcb1b26267553ca53a": {
          "model_module": "@jupyter-widgets/controls",
          "model_name": "DescriptionStyleModel",
          "model_module_version": "1.5.0",
          "state": {
            "_view_name": "StyleView",
            "_model_name": "DescriptionStyleModel",
            "description_width": "",
            "_view_module": "@jupyter-widgets/base",
            "_model_module_version": "1.5.0",
            "_view_count": null,
            "_view_module_version": "1.2.0",
            "_model_module": "@jupyter-widgets/controls"
          }
        },
        "5f8656e86e5142ae9ed0ae019dd360e8": {
          "model_module": "@jupyter-widgets/base",
          "model_name": "LayoutModel",
          "model_module_version": "1.2.0",
          "state": {
            "_view_name": "LayoutView",
            "grid_template_rows": null,
            "right": null,
            "justify_content": null,
            "_view_module": "@jupyter-widgets/base",
            "overflow": null,
            "_model_module_version": "1.2.0",
            "_view_count": null,
            "flex_flow": null,
            "width": null,
            "min_width": null,
            "border": null,
            "align_items": null,
            "bottom": null,
            "_model_module": "@jupyter-widgets/base",
            "top": null,
            "grid_column": null,
            "overflow_y": null,
            "overflow_x": null,
            "grid_auto_flow": null,
            "grid_area": null,
            "grid_template_columns": null,
            "flex": null,
            "_model_name": "LayoutModel",
            "justify_items": null,
            "grid_row": null,
            "max_height": null,
            "align_content": null,
            "visibility": null,
            "align_self": null,
            "height": null,
            "min_height": null,
            "padding": null,
            "grid_auto_rows": null,
            "grid_gap": null,
            "max_width": null,
            "order": null,
            "_view_module_version": "1.2.0",
            "grid_template_areas": null,
            "object_position": null,
            "object_fit": null,
            "grid_auto_columns": null,
            "margin": null,
            "display": null,
            "left": null
          }
        },
        "23cb1133c68d478da94657eaea6d0e88": {
          "model_module": "@jupyter-widgets/controls",
          "model_name": "ProgressStyleModel",
          "model_module_version": "1.5.0",
          "state": {
            "_view_name": "StyleView",
            "_model_name": "ProgressStyleModel",
            "description_width": "",
            "_view_module": "@jupyter-widgets/base",
            "_model_module_version": "1.5.0",
            "_view_count": null,
            "_view_module_version": "1.2.0",
            "bar_color": null,
            "_model_module": "@jupyter-widgets/controls"
          }
        },
        "ceeae8e34b3c4ad083856ce487ef13a7": {
          "model_module": "@jupyter-widgets/base",
          "model_name": "LayoutModel",
          "model_module_version": "1.2.0",
          "state": {
            "_view_name": "LayoutView",
            "grid_template_rows": null,
            "right": null,
            "justify_content": null,
            "_view_module": "@jupyter-widgets/base",
            "overflow": null,
            "_model_module_version": "1.2.0",
            "_view_count": null,
            "flex_flow": null,
            "width": null,
            "min_width": null,
            "border": null,
            "align_items": null,
            "bottom": null,
            "_model_module": "@jupyter-widgets/base",
            "top": null,
            "grid_column": null,
            "overflow_y": null,
            "overflow_x": null,
            "grid_auto_flow": null,
            "grid_area": null,
            "grid_template_columns": null,
            "flex": null,
            "_model_name": "LayoutModel",
            "justify_items": null,
            "grid_row": null,
            "max_height": null,
            "align_content": null,
            "visibility": null,
            "align_self": null,
            "height": null,
            "min_height": null,
            "padding": null,
            "grid_auto_rows": null,
            "grid_gap": null,
            "max_width": null,
            "order": null,
            "_view_module_version": "1.2.0",
            "grid_template_areas": null,
            "object_position": null,
            "object_fit": null,
            "grid_auto_columns": null,
            "margin": null,
            "display": null,
            "left": null
          }
        },
        "fbb8af7586a349749a34b298e8a3d60d": {
          "model_module": "@jupyter-widgets/controls",
          "model_name": "DescriptionStyleModel",
          "model_module_version": "1.5.0",
          "state": {
            "_view_name": "StyleView",
            "_model_name": "DescriptionStyleModel",
            "description_width": "",
            "_view_module": "@jupyter-widgets/base",
            "_model_module_version": "1.5.0",
            "_view_count": null,
            "_view_module_version": "1.2.0",
            "_model_module": "@jupyter-widgets/controls"
          }
        },
        "f07210ef9d804d7a9bf6da86dfbce25d": {
          "model_module": "@jupyter-widgets/base",
          "model_name": "LayoutModel",
          "model_module_version": "1.2.0",
          "state": {
            "_view_name": "LayoutView",
            "grid_template_rows": null,
            "right": null,
            "justify_content": null,
            "_view_module": "@jupyter-widgets/base",
            "overflow": null,
            "_model_module_version": "1.2.0",
            "_view_count": null,
            "flex_flow": null,
            "width": null,
            "min_width": null,
            "border": null,
            "align_items": null,
            "bottom": null,
            "_model_module": "@jupyter-widgets/base",
            "top": null,
            "grid_column": null,
            "overflow_y": null,
            "overflow_x": null,
            "grid_auto_flow": null,
            "grid_area": null,
            "grid_template_columns": null,
            "flex": null,
            "_model_name": "LayoutModel",
            "justify_items": null,
            "grid_row": null,
            "max_height": null,
            "align_content": null,
            "visibility": null,
            "align_self": null,
            "height": null,
            "min_height": null,
            "padding": null,
            "grid_auto_rows": null,
            "grid_gap": null,
            "max_width": null,
            "order": null,
            "_view_module_version": "1.2.0",
            "grid_template_areas": null,
            "object_position": null,
            "object_fit": null,
            "grid_auto_columns": null,
            "margin": null,
            "display": null,
            "left": null
          }
        },
        "9ee1ea43c13340319b4b4960df62d939": {
          "model_module": "@jupyter-widgets/controls",
          "model_name": "HBoxModel",
          "model_module_version": "1.5.0",
          "state": {
            "_view_name": "HBoxView",
            "_dom_classes": [],
            "_model_name": "HBoxModel",
            "_view_module": "@jupyter-widgets/controls",
            "_model_module_version": "1.5.0",
            "_view_count": null,
            "_view_module_version": "1.5.0",
            "box_style": "",
            "layout": "IPY_MODEL_96cda02ecddf4ae1aa1d4ce92386f60c",
            "_model_module": "@jupyter-widgets/controls",
            "children": [
              "IPY_MODEL_2cc3d08ed7604ad7ad66b9ccaf47c496",
              "IPY_MODEL_3d90cf0733ad4cefae40f83540120062",
              "IPY_MODEL_b10b8791a6714e768c91d1dd874c8ba9"
            ]
          }
        },
        "96cda02ecddf4ae1aa1d4ce92386f60c": {
          "model_module": "@jupyter-widgets/base",
          "model_name": "LayoutModel",
          "model_module_version": "1.2.0",
          "state": {
            "_view_name": "LayoutView",
            "grid_template_rows": null,
            "right": null,
            "justify_content": null,
            "_view_module": "@jupyter-widgets/base",
            "overflow": null,
            "_model_module_version": "1.2.0",
            "_view_count": null,
            "flex_flow": null,
            "width": null,
            "min_width": null,
            "border": null,
            "align_items": null,
            "bottom": null,
            "_model_module": "@jupyter-widgets/base",
            "top": null,
            "grid_column": null,
            "overflow_y": null,
            "overflow_x": null,
            "grid_auto_flow": null,
            "grid_area": null,
            "grid_template_columns": null,
            "flex": null,
            "_model_name": "LayoutModel",
            "justify_items": null,
            "grid_row": null,
            "max_height": null,
            "align_content": null,
            "visibility": null,
            "align_self": null,
            "height": null,
            "min_height": null,
            "padding": null,
            "grid_auto_rows": null,
            "grid_gap": null,
            "max_width": null,
            "order": null,
            "_view_module_version": "1.2.0",
            "grid_template_areas": null,
            "object_position": null,
            "object_fit": null,
            "grid_auto_columns": null,
            "margin": null,
            "display": null,
            "left": null
          }
        },
        "2cc3d08ed7604ad7ad66b9ccaf47c496": {
          "model_module": "@jupyter-widgets/controls",
          "model_name": "HTMLModel",
          "model_module_version": "1.5.0",
          "state": {
            "_view_name": "HTMLView",
            "style": "IPY_MODEL_811c38cafb5c4d3cad18467ee198d976",
            "_dom_classes": [],
            "description": "",
            "_model_name": "HTMLModel",
            "placeholder": "​",
            "_view_module": "@jupyter-widgets/controls",
            "_model_module_version": "1.5.0",
            "value": "",
            "_view_count": null,
            "_view_module_version": "1.5.0",
            "description_tooltip": null,
            "_model_module": "@jupyter-widgets/controls",
            "layout": "IPY_MODEL_fe6e2845ceba4112a33192fe784a7c58"
          }
        },
        "3d90cf0733ad4cefae40f83540120062": {
          "model_module": "@jupyter-widgets/controls",
          "model_name": "FloatProgressModel",
          "model_module_version": "1.5.0",
          "state": {
            "_view_name": "ProgressView",
            "style": "IPY_MODEL_4ce466338930455b8d3b7859f2df7795",
            "_dom_classes": [],
            "description": "",
            "_model_name": "FloatProgressModel",
            "bar_style": "info",
            "max": 1,
            "_view_module": "@jupyter-widgets/controls",
            "_model_module_version": "1.5.0",
            "value": 1,
            "_view_count": null,
            "_view_module_version": "1.5.0",
            "orientation": "horizontal",
            "min": 0,
            "description_tooltip": null,
            "_model_module": "@jupyter-widgets/controls",
            "layout": "IPY_MODEL_76942c4c664349b0aeb09d1dc4ea24c4"
          }
        },
        "b10b8791a6714e768c91d1dd874c8ba9": {
          "model_module": "@jupyter-widgets/controls",
          "model_name": "HTMLModel",
          "model_module_version": "1.5.0",
          "state": {
            "_view_name": "HTMLView",
            "style": "IPY_MODEL_20593bb3899943749fe2d62e8175be0e",
            "_dom_classes": [],
            "description": "",
            "_model_name": "HTMLModel",
            "placeholder": "​",
            "_view_module": "@jupyter-widgets/controls",
            "_model_module_version": "1.5.0",
            "value": " 9955/0 [00:09&lt;00:00, 1090.01 examples/s]",
            "_view_count": null,
            "_view_module_version": "1.5.0",
            "description_tooltip": null,
            "_model_module": "@jupyter-widgets/controls",
            "layout": "IPY_MODEL_8a67cb9e4ae34ebfb03f28100235904a"
          }
        },
        "811c38cafb5c4d3cad18467ee198d976": {
          "model_module": "@jupyter-widgets/controls",
          "model_name": "DescriptionStyleModel",
          "model_module_version": "1.5.0",
          "state": {
            "_view_name": "StyleView",
            "_model_name": "DescriptionStyleModel",
            "description_width": "",
            "_view_module": "@jupyter-widgets/base",
            "_model_module_version": "1.5.0",
            "_view_count": null,
            "_view_module_version": "1.2.0",
            "_model_module": "@jupyter-widgets/controls"
          }
        },
        "fe6e2845ceba4112a33192fe784a7c58": {
          "model_module": "@jupyter-widgets/base",
          "model_name": "LayoutModel",
          "model_module_version": "1.2.0",
          "state": {
            "_view_name": "LayoutView",
            "grid_template_rows": null,
            "right": null,
            "justify_content": null,
            "_view_module": "@jupyter-widgets/base",
            "overflow": null,
            "_model_module_version": "1.2.0",
            "_view_count": null,
            "flex_flow": null,
            "width": null,
            "min_width": null,
            "border": null,
            "align_items": null,
            "bottom": null,
            "_model_module": "@jupyter-widgets/base",
            "top": null,
            "grid_column": null,
            "overflow_y": null,
            "overflow_x": null,
            "grid_auto_flow": null,
            "grid_area": null,
            "grid_template_columns": null,
            "flex": null,
            "_model_name": "LayoutModel",
            "justify_items": null,
            "grid_row": null,
            "max_height": null,
            "align_content": null,
            "visibility": null,
            "align_self": null,
            "height": null,
            "min_height": null,
            "padding": null,
            "grid_auto_rows": null,
            "grid_gap": null,
            "max_width": null,
            "order": null,
            "_view_module_version": "1.2.0",
            "grid_template_areas": null,
            "object_position": null,
            "object_fit": null,
            "grid_auto_columns": null,
            "margin": null,
            "display": null,
            "left": null
          }
        },
        "4ce466338930455b8d3b7859f2df7795": {
          "model_module": "@jupyter-widgets/controls",
          "model_name": "ProgressStyleModel",
          "model_module_version": "1.5.0",
          "state": {
            "_view_name": "StyleView",
            "_model_name": "ProgressStyleModel",
            "description_width": "",
            "_view_module": "@jupyter-widgets/base",
            "_model_module_version": "1.5.0",
            "_view_count": null,
            "_view_module_version": "1.2.0",
            "bar_color": null,
            "_model_module": "@jupyter-widgets/controls"
          }
        },
        "76942c4c664349b0aeb09d1dc4ea24c4": {
          "model_module": "@jupyter-widgets/base",
          "model_name": "LayoutModel",
          "model_module_version": "1.2.0",
          "state": {
            "_view_name": "LayoutView",
            "grid_template_rows": null,
            "right": null,
            "justify_content": null,
            "_view_module": "@jupyter-widgets/base",
            "overflow": null,
            "_model_module_version": "1.2.0",
            "_view_count": null,
            "flex_flow": null,
            "width": "20px",
            "min_width": null,
            "border": null,
            "align_items": null,
            "bottom": null,
            "_model_module": "@jupyter-widgets/base",
            "top": null,
            "grid_column": null,
            "overflow_y": null,
            "overflow_x": null,
            "grid_auto_flow": null,
            "grid_area": null,
            "grid_template_columns": null,
            "flex": null,
            "_model_name": "LayoutModel",
            "justify_items": null,
            "grid_row": null,
            "max_height": null,
            "align_content": null,
            "visibility": null,
            "align_self": null,
            "height": null,
            "min_height": null,
            "padding": null,
            "grid_auto_rows": null,
            "grid_gap": null,
            "max_width": null,
            "order": null,
            "_view_module_version": "1.2.0",
            "grid_template_areas": null,
            "object_position": null,
            "object_fit": null,
            "grid_auto_columns": null,
            "margin": null,
            "display": null,
            "left": null
          }
        },
        "20593bb3899943749fe2d62e8175be0e": {
          "model_module": "@jupyter-widgets/controls",
          "model_name": "DescriptionStyleModel",
          "model_module_version": "1.5.0",
          "state": {
            "_view_name": "StyleView",
            "_model_name": "DescriptionStyleModel",
            "description_width": "",
            "_view_module": "@jupyter-widgets/base",
            "_model_module_version": "1.5.0",
            "_view_count": null,
            "_view_module_version": "1.2.0",
            "_model_module": "@jupyter-widgets/controls"
          }
        },
        "8a67cb9e4ae34ebfb03f28100235904a": {
          "model_module": "@jupyter-widgets/base",
          "model_name": "LayoutModel",
          "model_module_version": "1.2.0",
          "state": {
            "_view_name": "LayoutView",
            "grid_template_rows": null,
            "right": null,
            "justify_content": null,
            "_view_module": "@jupyter-widgets/base",
            "overflow": null,
            "_model_module_version": "1.2.0",
            "_view_count": null,
            "flex_flow": null,
            "width": null,
            "min_width": null,
            "border": null,
            "align_items": null,
            "bottom": null,
            "_model_module": "@jupyter-widgets/base",
            "top": null,
            "grid_column": null,
            "overflow_y": null,
            "overflow_x": null,
            "grid_auto_flow": null,
            "grid_area": null,
            "grid_template_columns": null,
            "flex": null,
            "_model_name": "LayoutModel",
            "justify_items": null,
            "grid_row": null,
            "max_height": null,
            "align_content": null,
            "visibility": null,
            "align_self": null,
            "height": null,
            "min_height": null,
            "padding": null,
            "grid_auto_rows": null,
            "grid_gap": null,
            "max_width": null,
            "order": null,
            "_view_module_version": "1.2.0",
            "grid_template_areas": null,
            "object_position": null,
            "object_fit": null,
            "grid_auto_columns": null,
            "margin": null,
            "display": null,
            "left": null
          }
        },
        "c3b339b8820c49d29ee506ac256badf4": {
          "model_module": "@jupyter-widgets/controls",
          "model_name": "HBoxModel",
          "model_module_version": "1.5.0",
          "state": {
            "_view_name": "HBoxView",
            "_dom_classes": [],
            "_model_name": "HBoxModel",
            "_view_module": "@jupyter-widgets/controls",
            "_model_module_version": "1.5.0",
            "_view_count": null,
            "_view_module_version": "1.5.0",
            "box_style": "",
            "layout": "IPY_MODEL_243c9b47594c48cf9048c4ee8388789d",
            "_model_module": "@jupyter-widgets/controls",
            "children": [
              "IPY_MODEL_10abaf4f03a44f83a8d482966e5bcbc9",
              "IPY_MODEL_10f034e1144340ce85bd91beffe648f7",
              "IPY_MODEL_da20678952134d55938cc8c9c811364f"
            ]
          }
        },
        "243c9b47594c48cf9048c4ee8388789d": {
          "model_module": "@jupyter-widgets/base",
          "model_name": "LayoutModel",
          "model_module_version": "1.2.0",
          "state": {
            "_view_name": "LayoutView",
            "grid_template_rows": null,
            "right": null,
            "justify_content": null,
            "_view_module": "@jupyter-widgets/base",
            "overflow": null,
            "_model_module_version": "1.2.0",
            "_view_count": null,
            "flex_flow": null,
            "width": null,
            "min_width": null,
            "border": null,
            "align_items": null,
            "bottom": null,
            "_model_module": "@jupyter-widgets/base",
            "top": null,
            "grid_column": null,
            "overflow_y": null,
            "overflow_x": null,
            "grid_auto_flow": null,
            "grid_area": null,
            "grid_template_columns": null,
            "flex": null,
            "_model_name": "LayoutModel",
            "justify_items": null,
            "grid_row": null,
            "max_height": null,
            "align_content": null,
            "visibility": null,
            "align_self": null,
            "height": null,
            "min_height": null,
            "padding": null,
            "grid_auto_rows": null,
            "grid_gap": null,
            "max_width": null,
            "order": null,
            "_view_module_version": "1.2.0",
            "grid_template_areas": null,
            "object_position": null,
            "object_fit": null,
            "grid_auto_columns": null,
            "margin": null,
            "display": null,
            "left": null
          }
        },
        "10abaf4f03a44f83a8d482966e5bcbc9": {
          "model_module": "@jupyter-widgets/controls",
          "model_name": "HTMLModel",
          "model_module_version": "1.5.0",
          "state": {
            "_view_name": "HTMLView",
            "style": "IPY_MODEL_d3355c35dbfe4fb3bc9b4d224e9e6875",
            "_dom_classes": [],
            "description": "",
            "_model_name": "HTMLModel",
            "placeholder": "​",
            "_view_module": "@jupyter-widgets/controls",
            "_model_module_version": "1.5.0",
            "value": "100%",
            "_view_count": null,
            "_view_module_version": "1.5.0",
            "description_tooltip": null,
            "_model_module": "@jupyter-widgets/controls",
            "layout": "IPY_MODEL_a2c6be85130b4c05b093d24dda29d012"
          }
        },
        "10f034e1144340ce85bd91beffe648f7": {
          "model_module": "@jupyter-widgets/controls",
          "model_name": "FloatProgressModel",
          "model_module_version": "1.5.0",
          "state": {
            "_view_name": "ProgressView",
            "style": "IPY_MODEL_99affa40f46c45cd929a6b654496192a",
            "_dom_classes": [],
            "description": "",
            "_model_name": "FloatProgressModel",
            "bar_style": "danger",
            "max": 10000,
            "_view_module": "@jupyter-widgets/controls",
            "_model_module_version": "1.5.0",
            "value": 9999,
            "_view_count": null,
            "_view_module_version": "1.5.0",
            "orientation": "horizontal",
            "min": 0,
            "description_tooltip": null,
            "_model_module": "@jupyter-widgets/controls",
            "layout": "IPY_MODEL_59caf3f6bf104a21883b6f92616925c6"
          }
        },
        "da20678952134d55938cc8c9c811364f": {
          "model_module": "@jupyter-widgets/controls",
          "model_name": "HTMLModel",
          "model_module_version": "1.5.0",
          "state": {
            "_view_name": "HTMLView",
            "style": "IPY_MODEL_7f02830faf6b4eb0ae897a70fa512609",
            "_dom_classes": [],
            "description": "",
            "_model_name": "HTMLModel",
            "placeholder": "​",
            "_view_module": "@jupyter-widgets/controls",
            "_model_module_version": "1.5.0",
            "value": " 9999/10000 [00:00&lt;00:00, 97917.25 examples/s]",
            "_view_count": null,
            "_view_module_version": "1.5.0",
            "description_tooltip": null,
            "_model_module": "@jupyter-widgets/controls",
            "layout": "IPY_MODEL_9c2617ce039144ae8da46ba6c4d7ae74"
          }
        },
        "d3355c35dbfe4fb3bc9b4d224e9e6875": {
          "model_module": "@jupyter-widgets/controls",
          "model_name": "DescriptionStyleModel",
          "model_module_version": "1.5.0",
          "state": {
            "_view_name": "StyleView",
            "_model_name": "DescriptionStyleModel",
            "description_width": "",
            "_view_module": "@jupyter-widgets/base",
            "_model_module_version": "1.5.0",
            "_view_count": null,
            "_view_module_version": "1.2.0",
            "_model_module": "@jupyter-widgets/controls"
          }
        },
        "a2c6be85130b4c05b093d24dda29d012": {
          "model_module": "@jupyter-widgets/base",
          "model_name": "LayoutModel",
          "model_module_version": "1.2.0",
          "state": {
            "_view_name": "LayoutView",
            "grid_template_rows": null,
            "right": null,
            "justify_content": null,
            "_view_module": "@jupyter-widgets/base",
            "overflow": null,
            "_model_module_version": "1.2.0",
            "_view_count": null,
            "flex_flow": null,
            "width": null,
            "min_width": null,
            "border": null,
            "align_items": null,
            "bottom": null,
            "_model_module": "@jupyter-widgets/base",
            "top": null,
            "grid_column": null,
            "overflow_y": null,
            "overflow_x": null,
            "grid_auto_flow": null,
            "grid_area": null,
            "grid_template_columns": null,
            "flex": null,
            "_model_name": "LayoutModel",
            "justify_items": null,
            "grid_row": null,
            "max_height": null,
            "align_content": null,
            "visibility": null,
            "align_self": null,
            "height": null,
            "min_height": null,
            "padding": null,
            "grid_auto_rows": null,
            "grid_gap": null,
            "max_width": null,
            "order": null,
            "_view_module_version": "1.2.0",
            "grid_template_areas": null,
            "object_position": null,
            "object_fit": null,
            "grid_auto_columns": null,
            "margin": null,
            "display": null,
            "left": null
          }
        },
        "99affa40f46c45cd929a6b654496192a": {
          "model_module": "@jupyter-widgets/controls",
          "model_name": "ProgressStyleModel",
          "model_module_version": "1.5.0",
          "state": {
            "_view_name": "StyleView",
            "_model_name": "ProgressStyleModel",
            "description_width": "",
            "_view_module": "@jupyter-widgets/base",
            "_model_module_version": "1.5.0",
            "_view_count": null,
            "_view_module_version": "1.2.0",
            "bar_color": null,
            "_model_module": "@jupyter-widgets/controls"
          }
        },
        "59caf3f6bf104a21883b6f92616925c6": {
          "model_module": "@jupyter-widgets/base",
          "model_name": "LayoutModel",
          "model_module_version": "1.2.0",
          "state": {
            "_view_name": "LayoutView",
            "grid_template_rows": null,
            "right": null,
            "justify_content": null,
            "_view_module": "@jupyter-widgets/base",
            "overflow": null,
            "_model_module_version": "1.2.0",
            "_view_count": null,
            "flex_flow": null,
            "width": null,
            "min_width": null,
            "border": null,
            "align_items": null,
            "bottom": null,
            "_model_module": "@jupyter-widgets/base",
            "top": null,
            "grid_column": null,
            "overflow_y": null,
            "overflow_x": null,
            "grid_auto_flow": null,
            "grid_area": null,
            "grid_template_columns": null,
            "flex": null,
            "_model_name": "LayoutModel",
            "justify_items": null,
            "grid_row": null,
            "max_height": null,
            "align_content": null,
            "visibility": null,
            "align_self": null,
            "height": null,
            "min_height": null,
            "padding": null,
            "grid_auto_rows": null,
            "grid_gap": null,
            "max_width": null,
            "order": null,
            "_view_module_version": "1.2.0",
            "grid_template_areas": null,
            "object_position": null,
            "object_fit": null,
            "grid_auto_columns": null,
            "margin": null,
            "display": null,
            "left": null
          }
        },
        "7f02830faf6b4eb0ae897a70fa512609": {
          "model_module": "@jupyter-widgets/controls",
          "model_name": "DescriptionStyleModel",
          "model_module_version": "1.5.0",
          "state": {
            "_view_name": "StyleView",
            "_model_name": "DescriptionStyleModel",
            "description_width": "",
            "_view_module": "@jupyter-widgets/base",
            "_model_module_version": "1.5.0",
            "_view_count": null,
            "_view_module_version": "1.2.0",
            "_model_module": "@jupyter-widgets/controls"
          }
        },
        "9c2617ce039144ae8da46ba6c4d7ae74": {
          "model_module": "@jupyter-widgets/base",
          "model_name": "LayoutModel",
          "model_module_version": "1.2.0",
          "state": {
            "_view_name": "LayoutView",
            "grid_template_rows": null,
            "right": null,
            "justify_content": null,
            "_view_module": "@jupyter-widgets/base",
            "overflow": null,
            "_model_module_version": "1.2.0",
            "_view_count": null,
            "flex_flow": null,
            "width": null,
            "min_width": null,
            "border": null,
            "align_items": null,
            "bottom": null,
            "_model_module": "@jupyter-widgets/base",
            "top": null,
            "grid_column": null,
            "overflow_y": null,
            "overflow_x": null,
            "grid_auto_flow": null,
            "grid_area": null,
            "grid_template_columns": null,
            "flex": null,
            "_model_name": "LayoutModel",
            "justify_items": null,
            "grid_row": null,
            "max_height": null,
            "align_content": null,
            "visibility": null,
            "align_self": null,
            "height": null,
            "min_height": null,
            "padding": null,
            "grid_auto_rows": null,
            "grid_gap": null,
            "max_width": null,
            "order": null,
            "_view_module_version": "1.2.0",
            "grid_template_areas": null,
            "object_position": null,
            "object_fit": null,
            "grid_auto_columns": null,
            "margin": null,
            "display": null,
            "left": null
          }
        }
      }
    },
    "accelerator": "GPU"
  },
  "cells": [
    {
      "cell_type": "code",
      "metadata": {
        "id": "GbLtX7i9eP3G"
      },
      "source": [
        "import tensorflow as tf\n",
        "import tensorflow_datasets as tfds\n",
        "import os"
      ],
      "execution_count": 1,
      "outputs": []
    },
    {
      "cell_type": "markdown",
      "metadata": {
        "id": "0UoliFHLeUx8"
      },
      "source": [
        "# **Preparing the Data**\n",
        "The CIFAR-10 and CIFAR-100 datasets are famous classification datasets. The first version contains 60,000 `32x32` images from 10 different classes, and the second contains 60,000 `32x32` images from 100 different classes. In this notebook and the next ones for this chapter, we will build and train models to deal with CIFAR-100"
      ]
    },
    {
      "cell_type": "markdown",
      "metadata": {
        "id": "05mcM94QfG1L"
      },
      "source": [
        "Listing the datasets available"
      ]
    },
    {
      "cell_type": "code",
      "metadata": {
        "colab": {
          "base_uri": "https://localhost:8080/"
        },
        "id": "wSX82VFzeTV6",
        "outputId": "94f3fae0-94be-499b-a5c9-90b11e7eaa99"
      },
      "source": [
        "print(tfds.list_builders())"
      ],
      "execution_count": 2,
      "outputs": [
        {
          "output_type": "stream",
          "text": [
            "['abstract_reasoning', 'accentdb', 'aeslc', 'aflw2k3d', 'ag_news_subset', 'ai2_arc', 'ai2_arc_with_ir', 'amazon_us_reviews', 'anli', 'arc', 'bair_robot_pushing_small', 'bccd', 'beans', 'big_patent', 'bigearthnet', 'billsum', 'binarized_mnist', 'binary_alpha_digits', 'blimp', 'bool_q', 'c4', 'caltech101', 'caltech_birds2010', 'caltech_birds2011', 'cars196', 'cassava', 'cats_vs_dogs', 'celeb_a', 'celeb_a_hq', 'cfq', 'chexpert', 'cifar10', 'cifar100', 'cifar10_1', 'cifar10_corrupted', 'citrus_leaves', 'cityscapes', 'civil_comments', 'clevr', 'clic', 'clinc_oos', 'cmaterdb', 'cnn_dailymail', 'coco', 'coco_captions', 'coil100', 'colorectal_histology', 'colorectal_histology_large', 'common_voice', 'coqa', 'cos_e', 'cosmos_qa', 'covid19sum', 'crema_d', 'curated_breast_imaging_ddsm', 'cycle_gan', 'deep_weeds', 'definite_pronoun_resolution', 'dementiabank', 'diabetic_retinopathy_detection', 'div2k', 'dmlab', 'downsampled_imagenet', 'dsprites', 'dtd', 'duke_ultrasound', 'emnist', 'eraser_multi_rc', 'esnli', 'eurosat', 'fashion_mnist', 'flic', 'flores', 'food101', 'forest_fires', 'fuss', 'gap', 'geirhos_conflict_stimuli', 'genomics_ood', 'german_credit_numeric', 'gigaword', 'glue', 'goemotions', 'gpt3', 'groove', 'gtzan', 'gtzan_music_speech', 'hellaswag', 'higgs', 'horses_or_humans', 'i_naturalist2017', 'imagenet2012', 'imagenet2012_corrupted', 'imagenet2012_real', 'imagenet2012_subset', 'imagenet_a', 'imagenet_r', 'imagenet_resized', 'imagenet_v2', 'imagenette', 'imagewang', 'imdb_reviews', 'irc_disentanglement', 'iris', 'kitti', 'kmnist', 'lfw', 'librispeech', 'librispeech_lm', 'libritts', 'ljspeech', 'lm1b', 'lost_and_found', 'lsun', 'malaria', 'math_dataset', 'mctaco', 'mnist', 'mnist_corrupted', 'movie_lens', 'movie_rationales', 'movielens', 'moving_mnist', 'multi_news', 'multi_nli', 'multi_nli_mismatch', 'natural_questions', 'natural_questions_open', 'newsroom', 'nsynth', 'nyu_depth_v2', 'omniglot', 'open_images_challenge2019_detection', 'open_images_v4', 'openbookqa', 'opinion_abstracts', 'opinosis', 'opus', 'oxford_flowers102', 'oxford_iiit_pet', 'para_crawl', 'patch_camelyon', 'paws_wiki', 'paws_x_wiki', 'pet_finder', 'pg19', 'places365_small', 'plant_leaves', 'plant_village', 'plantae_k', 'qa4mre', 'qasc', 'quickdraw_bitmap', 'radon', 'reddit', 'reddit_disentanglement', 'reddit_tifu', 'resisc45', 'robonet', 'rock_paper_scissors', 'rock_you', 'salient_span_wikipedia', 'samsum', 'savee', 'scan', 'scene_parse150', 'scicite', 'scientific_papers', 'sentiment140', 'shapes3d', 'smallnorb', 'snli', 'so2sat', 'speech_commands', 'spoken_digit', 'squad', 'stanford_dogs', 'stanford_online_products', 'starcraft_video', 'stl10', 'sun397', 'super_glue', 'svhn_cropped', 'ted_hrlr_translate', 'ted_multi_translate', 'tedlium', 'tf_flowers', 'the300w_lp', 'tiny_shakespeare', 'titanic', 'trec', 'trivia_qa', 'tydi_qa', 'uc_merced', 'ucf101', 'vctk', 'vgg_face2', 'visual_domain_decathlon', 'voc', 'voxceleb', 'voxforge', 'waymo_open_dataset', 'web_questions', 'wider_face', 'wiki40b', 'wikihow', 'wikipedia', 'wikipedia_toxicity_subtypes', 'wine_quality', 'winogrande', 'wmt14_translate', 'wmt15_translate', 'wmt16_translate', 'wmt17_translate', 'wmt18_translate', 'wmt19_translate', 'wmt_t2t_translate', 'wmt_translate', 'wordnet', 'xnli', 'xquad', 'xsum', 'yelp_polarity_reviews', 'yes_no']\n"
          ],
          "name": "stdout"
        }
      ]
    },
    {
      "cell_type": "markdown",
      "metadata": {
        "id": "E6aGlm2UfVWY"
      },
      "source": [
        "We select \"cifar100\" dataset, let the module download it, and display its meta-information"
      ]
    },
    {
      "cell_type": "code",
      "metadata": {
        "id": "WExGgm2nfLPe",
        "colab": {
          "base_uri": "https://localhost:8080/",
          "height": 333,
          "referenced_widgets": [
            "49cc3d7e2fcf48f9afa83edd381a8938",
            "69b10c63b1bd4e2a9c6463aac3363bc2",
            "03857ae4298443f7945ac82abecd9e16",
            "e7534ccf0b0c4756a291d264ace836bb",
            "c2945ea4d8454a898ef6040ea4d0a778",
            "b64e180462964c6ca47dc848c9b34728",
            "40eeb560c23a426eb0531ce0ab9587d3",
            "071a15c69cca45d8b0dc2413d7cba9ce",
            "eb3fe0a46a24454f8d13479df4c45efb",
            "6f34924b33da4680a1dcd13b39f688a7",
            "fa677ad0d47b4061bd587a40339457ec",
            "a3188348c5034684a19a75b68dcfffd1",
            "ff4764badd0b48b19b31be5f59d5eaf5",
            "b69b359722bd4f57b2e8cc710dadddbc",
            "2e82f4c140ef4892bbdb8f662221209a",
            "41bfedf65cc64d0495535826a5418839",
            "c15dcebf7d6943ffbc882c3e1f4da19a",
            "eeb8878ebce44a39836062c47cd2ec63",
            "e05f331bc301468ba02d00d355cccab7",
            "3b20eb1c48c34f50842104d32a7fd839",
            "7000a05ec2d4445da987e00718dc965a",
            "1c24c4f4dd444aec84ee7c1659393578",
            "6e2fc7b32bb940fc80f1a7ecc7b6ceb4",
            "2f43fdabeba6407fbbaa0fd7ef23444f",
            "708e2441515245c0be0606a74b85c2bf",
            "28fefa43c72845d7aee407eee96565b4",
            "48c2f723a18047efa6a8f0fb31718c3a",
            "1dc9deac19fd40e59ca4b8a3ad39c552",
            "e46fe354e5d24679802e5b242f1a1161",
            "0d27918334ed4a24bea02baef547a8ee",
            "2de39b68f1d14e2d8cd9c2d9f3f71c0f",
            "58b17a7e3a1e45f3aa32b0596c7e3687",
            "987bf42e208a43e48a4f476eeb3d6d7c",
            "d6d88eef944f4275841b14d69d01e844",
            "04d40d5322924ced9a1e536b86a3b95b",
            "b764383fe8f44f33a0c198ee49649fc0",
            "ee912e18472b4ba9a56eaa6575c0f1dd",
            "7b341d193cac456cbec3ad8ac73cd379",
            "04a5fc279d9a41e7bc191e8baa0b9017",
            "c4f4059a27b74dcca7e24c98bdbb82ec",
            "c1cc56f04fc7429aa50962bac2842c5c",
            "23f86cbc84f04f13818a006e635ae97e",
            "1fe5c8ce6bf6430e9f71b2dc2ca19c5d",
            "9ec80c98903d412b95903845e47748c2",
            "cd8cefc942b54dd2861ef2778994d4f2",
            "5db9d89f7e834a4a87dfc0cb978b018b",
            "5b46c620628b4cde919cf20ca9596060",
            "92450e0dea1446bb90a29c0007c4687c",
            "ce92c22843a84f299fa4afb943f683d4",
            "9bd7c551d8b046dcb1b26267553ca53a",
            "5f8656e86e5142ae9ed0ae019dd360e8",
            "23cb1133c68d478da94657eaea6d0e88",
            "ceeae8e34b3c4ad083856ce487ef13a7",
            "fbb8af7586a349749a34b298e8a3d60d",
            "f07210ef9d804d7a9bf6da86dfbce25d",
            "9ee1ea43c13340319b4b4960df62d939",
            "96cda02ecddf4ae1aa1d4ce92386f60c",
            "2cc3d08ed7604ad7ad66b9ccaf47c496",
            "3d90cf0733ad4cefae40f83540120062",
            "b10b8791a6714e768c91d1dd874c8ba9",
            "811c38cafb5c4d3cad18467ee198d976",
            "fe6e2845ceba4112a33192fe784a7c58",
            "4ce466338930455b8d3b7859f2df7795",
            "76942c4c664349b0aeb09d1dc4ea24c4",
            "20593bb3899943749fe2d62e8175be0e",
            "8a67cb9e4ae34ebfb03f28100235904a",
            "c3b339b8820c49d29ee506ac256badf4",
            "243c9b47594c48cf9048c4ee8388789d",
            "10abaf4f03a44f83a8d482966e5bcbc9",
            "10f034e1144340ce85bd91beffe648f7",
            "da20678952134d55938cc8c9c811364f",
            "d3355c35dbfe4fb3bc9b4d224e9e6875",
            "a2c6be85130b4c05b093d24dda29d012",
            "99affa40f46c45cd929a6b654496192a",
            "59caf3f6bf104a21883b6f92616925c6",
            "7f02830faf6b4eb0ae897a70fa512609",
            "9c2617ce039144ae8da46ba6c4d7ae74"
          ]
        },
        "outputId": "d2ee024f-a5c6-41a0-f813-043ea71f6af7"
      },
      "source": [
        "cifar100_builder = tfds.builder('cifar100')\n",
        "cifar100_builder.download_and_prepare()\n",
        "print(cifar100_builder)"
      ],
      "execution_count": 3,
      "outputs": [
        {
          "output_type": "stream",
          "text": [
            "\u001b[1mDownloading and preparing dataset cifar100/3.0.2 (download: 160.71 MiB, generated: 132.03 MiB, total: 292.74 MiB) to /root/tensorflow_datasets/cifar100/3.0.2...\u001b[0m\n"
          ],
          "name": "stdout"
        },
        {
          "output_type": "display_data",
          "data": {
            "application/vnd.jupyter.widget-view+json": {
              "model_id": "49cc3d7e2fcf48f9afa83edd381a8938",
              "version_minor": 0,
              "version_major": 2
            },
            "text/plain": [
              "Dl Completed...: 0 url [00:00, ? url/s]"
            ]
          },
          "metadata": {}
        },
        {
          "output_type": "display_data",
          "data": {
            "application/vnd.jupyter.widget-view+json": {
              "model_id": "a3188348c5034684a19a75b68dcfffd1",
              "version_minor": 0,
              "version_major": 2
            },
            "text/plain": [
              "Dl Size...: 0 MiB [00:00, ? MiB/s]"
            ]
          },
          "metadata": {}
        },
        {
          "output_type": "display_data",
          "data": {
            "application/vnd.jupyter.widget-view+json": {
              "model_id": "6e2fc7b32bb940fc80f1a7ecc7b6ceb4",
              "version_minor": 0,
              "version_major": 2
            },
            "text/plain": [
              "Extraction completed...: 0 file [00:00, ? file/s]"
            ]
          },
          "metadata": {}
        },
        {
          "output_type": "stream",
          "text": [
            "\n",
            "\n",
            "\n"
          ],
          "name": "stdout"
        },
        {
          "output_type": "display_data",
          "data": {
            "application/vnd.jupyter.widget-view+json": {
              "model_id": "d6d88eef944f4275841b14d69d01e844",
              "version_minor": 0,
              "version_major": 2
            },
            "text/plain": [
              "0 examples [00:00, ? examples/s]"
            ]
          },
          "metadata": {}
        },
        {
          "output_type": "stream",
          "text": [
            "Shuffling and writing examples to /root/tensorflow_datasets/cifar100/3.0.2.incompleteBHHVY1/cifar100-train.tfrecord\n"
          ],
          "name": "stdout"
        },
        {
          "output_type": "display_data",
          "data": {
            "application/vnd.jupyter.widget-view+json": {
              "model_id": "cd8cefc942b54dd2861ef2778994d4f2",
              "version_minor": 0,
              "version_major": 2
            },
            "text/plain": [
              "  0%|          | 0/50000 [00:00<?, ? examples/s]"
            ]
          },
          "metadata": {}
        },
        {
          "output_type": "display_data",
          "data": {
            "application/vnd.jupyter.widget-view+json": {
              "model_id": "9ee1ea43c13340319b4b4960df62d939",
              "version_minor": 0,
              "version_major": 2
            },
            "text/plain": [
              "0 examples [00:00, ? examples/s]"
            ]
          },
          "metadata": {}
        },
        {
          "output_type": "stream",
          "text": [
            "Shuffling and writing examples to /root/tensorflow_datasets/cifar100/3.0.2.incompleteBHHVY1/cifar100-test.tfrecord\n"
          ],
          "name": "stdout"
        },
        {
          "output_type": "display_data",
          "data": {
            "application/vnd.jupyter.widget-view+json": {
              "model_id": "c3b339b8820c49d29ee506ac256badf4",
              "version_minor": 0,
              "version_major": 2
            },
            "text/plain": [
              "  0%|          | 0/10000 [00:00<?, ? examples/s]"
            ]
          },
          "metadata": {}
        },
        {
          "output_type": "stream",
          "text": [
            "\u001b[1mDataset cifar100 downloaded and prepared to /root/tensorflow_datasets/cifar100/3.0.2. Subsequent calls will reuse this data.\u001b[0m\n",
            "<tensorflow_datasets.image_classification.cifar.Cifar100 object at 0x7f0c52b111d0>\n"
          ],
          "name": "stdout"
        }
      ]
    },
    {
      "cell_type": "code",
      "metadata": {
        "id": "hWg3aLoJiZnW",
        "colab": {
          "base_uri": "https://localhost:8080/"
        },
        "outputId": "9df0b063-307e-4237-d51b-11c889ab3cf0"
      },
      "source": [
        "cifar100_builder.info"
      ],
      "execution_count": 4,
      "outputs": [
        {
          "output_type": "execute_result",
          "data": {
            "text/plain": [
              "tfds.core.DatasetInfo(\n",
              "    name='cifar100',\n",
              "    version=3.0.2,\n",
              "    description='This dataset is just like the CIFAR-10, except it has 100 classes containing 600 images each. There are 500 training images and 100 testing images per class. The 100 classes in the CIFAR-100 are grouped into 20 superclasses. Each image comes with a \"fine\" label (the class to which it belongs) and a \"coarse\" label (the superclass to which it belongs).',\n",
              "    homepage='https://www.cs.toronto.edu/~kriz/cifar.html',\n",
              "    features=FeaturesDict({\n",
              "        'coarse_label': ClassLabel(shape=(), dtype=tf.int64, num_classes=20),\n",
              "        'id': Text(shape=(), dtype=tf.string),\n",
              "        'image': Image(shape=(32, 32, 3), dtype=tf.uint8),\n",
              "        'label': ClassLabel(shape=(), dtype=tf.int64, num_classes=100),\n",
              "    }),\n",
              "    total_num_examples=60000,\n",
              "    splits={\n",
              "        'test': 10000,\n",
              "        'train': 50000,\n",
              "    },\n",
              "    supervised_keys=('image', 'label'),\n",
              "    citation=\"\"\"@TECHREPORT{Krizhevsky09learningmultiple,\n",
              "        author = {Alex Krizhevsky},\n",
              "        title = {Learning multiple layers of features from tiny images},\n",
              "        institution = {},\n",
              "        year = {2009}\n",
              "    }\"\"\",\n",
              "    redistribution_info=,\n",
              ")"
            ]
          },
          "metadata": {},
          "execution_count": 4
        }
      ]
    },
    {
      "cell_type": "markdown",
      "metadata": {
        "id": "ONioLwjmhPc2"
      },
      "source": [
        "Access the class names"
      ]
    },
    {
      "cell_type": "code",
      "metadata": {
        "id": "L1p4PcWHgRn5",
        "colab": {
          "base_uri": "https://localhost:8080/"
        },
        "outputId": "5a68dd49-f443-4ace-d53b-4b9ead97a21f"
      },
      "source": [
        "print(cifar100_builder.info.features['label'].names)"
      ],
      "execution_count": 5,
      "outputs": [
        {
          "output_type": "stream",
          "text": [
            "['apple', 'aquarium_fish', 'baby', 'bear', 'beaver', 'bed', 'bee', 'beetle', 'bicycle', 'bottle', 'bowl', 'boy', 'bridge', 'bus', 'butterfly', 'camel', 'can', 'castle', 'caterpillar', 'cattle', 'chair', 'chimpanzee', 'clock', 'cloud', 'cockroach', 'couch', 'crab', 'crocodile', 'cup', 'dinosaur', 'dolphin', 'elephant', 'flatfish', 'forest', 'fox', 'girl', 'hamster', 'house', 'kangaroo', 'keyboard', 'lamp', 'lawn_mower', 'leopard', 'lion', 'lizard', 'lobster', 'man', 'maple_tree', 'motorcycle', 'mountain', 'mouse', 'mushroom', 'oak_tree', 'orange', 'orchid', 'otter', 'palm_tree', 'pear', 'pickup_truck', 'pine_tree', 'plain', 'plate', 'poppy', 'porcupine', 'possum', 'rabbit', 'raccoon', 'ray', 'road', 'rocket', 'rose', 'sea', 'seal', 'shark', 'shrew', 'skunk', 'skyscraper', 'snail', 'snake', 'spider', 'squirrel', 'streetcar', 'sunflower', 'sweet_pepper', 'table', 'tank', 'telephone', 'television', 'tiger', 'tractor', 'train', 'trout', 'tulip', 'turtle', 'wardrobe', 'whale', 'willow_tree', 'wolf', 'woman', 'worm']\n"
          ],
          "name": "stdout"
        }
      ]
    },
    {
      "cell_type": "markdown",
      "metadata": {
        "id": "pk6vupoph4CW"
      },
      "source": [
        "CIFAR-100 images can also be classified among 20 coarser classes"
      ]
    },
    {
      "cell_type": "code",
      "metadata": {
        "id": "mG9ek5d2hUGC",
        "colab": {
          "base_uri": "https://localhost:8080/"
        },
        "outputId": "e456ac97-56ec-41be-a6b1-89f70cb42aee"
      },
      "source": [
        "print(cifar100_builder.info.features['coarse_label'].names)"
      ],
      "execution_count": 6,
      "outputs": [
        {
          "output_type": "stream",
          "text": [
            "['aquatic_mammals', 'fish', 'flowers', 'food_containers', 'fruit_and_vegetables', 'household_electrical_devices', 'household_furniture', 'insects', 'large_carnivores', 'large_man-made_outdoor_things', 'large_natural_outdoor_scenes', 'large_omnivores_and_herbivores', 'medium_mammals', 'non-insect_invertebrates', 'people', 'reptiles', 'small_mammals', 'trees', 'vehicles_1', 'vehicles_2']\n"
          ],
          "name": "stdout"
        }
      ]
    },
    {
      "cell_type": "markdown",
      "metadata": {
        "id": "Mfe-vgRDi9NJ"
      },
      "source": [
        "## **Input Pipeline Preparation**\n",
        "\n",
        "We have our training and testing dataset availabel. We can now explicitly define the input pipeline for the models we will train:"
      ]
    },
    {
      "cell_type": "code",
      "metadata": {
        "id": "zX3VCkU-hyRc"
      },
      "source": [
        "import math\n",
        "\n",
        "# Some hyper-parameters:\n",
        "input_shape = [224, 224, 3]  # we will resize the input images to this shape\n",
        "batch_size = 64  # images per batch (reduce/increase according to the machine's capability)\n",
        "num_epochs = 10  # max number of training epochs\n",
        "\n",
        "# Train/val datasets:\n",
        "train_cifar_dataset = cifar100_builder.as_dataset('train')\n",
        "val_cifar_dataset = cifar100_builder.as_dataset('test')\n",
        "\n",
        "# Num of classes:\n",
        "num_classes = cifar100_builder.info.features['label'].num_classes\n",
        "\n",
        "# Num of images:\n",
        "num_train_imgs = cifar100_builder.info.splits['train'].num_examples\n",
        "num_val_imgs = cifar100_builder.info.splits['test'].num_examples"
      ],
      "execution_count": 7,
      "outputs": []
    },
    {
      "cell_type": "code",
      "metadata": {
        "id": "oAQl47hJjuUA",
        "colab": {
          "base_uri": "https://localhost:8080/"
        },
        "outputId": "10a78950-5118-4e70-fb57-a989ff70fdd3"
      },
      "source": [
        "print('Training dataset instance: {}'.format(train_cifar_dataset))"
      ],
      "execution_count": 8,
      "outputs": [
        {
          "output_type": "stream",
          "text": [
            "Training dataset instance: <PrefetchDataset shapes: {coarse_label: (), id: (), image: (32, 32, 3), label: ()}, types: {coarse_label: tf.int64, id: tf.string, image: tf.uint8, label: tf.int64}>\n"
          ],
          "name": "stdout"
        }
      ]
    },
    {
      "cell_type": "markdown",
      "metadata": {
        "id": "eiFkoahpQCFz"
      },
      "source": [
        "Iterate over the samples epochs times and to shuffle them before returning them:"
      ]
    },
    {
      "cell_type": "code",
      "metadata": {
        "id": "DJiC1B67jv92"
      },
      "source": [
        "train_cifar_dataset = train_cifar_dataset.repeat(num_epochs).shuffle(10000)"
      ],
      "execution_count": 9,
      "outputs": []
    },
    {
      "cell_type": "markdown",
      "metadata": {
        "id": "A8vZum9RRAq4"
      },
      "source": [
        "We also wanna pre-process the data itself, resizing the images, ignoring the coarser labels, and optionally applying some radom *augmentations* to the images.\n",
        "\n",
        "We thus implement a function pre-processing the samples accordingly, and passed it to the `tf.data.Dataset` instance:"
      ]
    },
    {
      "cell_type": "code",
      "metadata": {
        "id": "0AygcXk-P6BL"
      },
      "source": [
        "def _prepare_data_fn(features, input_shape, augment): \n",
        "  \"\"\"\n",
        "  Resize image to expected dimensions, and opt. apply some random transformations.\n",
        "  Args:\n",
        "    features: Data\n",
        "    input_shape: Shape expected by the models (image will be resized accordingly)\n",
        "    augment: Flag to apply some random augmentations to the images.\n",
        "  :return: Augmented images, labels\n",
        "  \"\"\"\n",
        "  inptu_shape = tf.convert_to_tensor(input_shape)\n",
        "\n",
        "  # Tensorflow-Dataset returns batches as feature dictionaries, expected by Estimators.\n",
        "  # To train Keras models, it is more straightforward to return the batch content as tuples:\n",
        "  image = features['image']\n",
        "  label = features['label']\n",
        "  # Convert the images to float type, also scaling their values from [0, 255] to [0., 1.]:\n",
        "  image = tf.image.convert_image_dtype(image, dtype=tf.float32)\n",
        "\n",
        "  if augment:\n",
        "    # Randomly applied horizontal flip:\n",
        "    image = tf.image.random_flip_left_right(image)\n",
        "\n",
        "    # Random B/S changes:\n",
        "    image = tf.image.random_brightness(image, max_delta=0.1)\n",
        "    image = tf.image.random_saturation(image, lower=0.5, upper=1.5)\n",
        "\n",
        "    # Keeping pixel values in check\n",
        "    image = tf.clip_by_value(t=image, clip_value_min=0.0, clip_value_max=1.0)\n",
        "\n",
        "    # Random resize and random crop back to expected size:\n",
        "    random_scale_factor = tf.random.uniform([], minval=1., maxval=1.4, dtype=tf.float32)\n",
        "    scaled_height = tf.cast(tf.cast(input_shape[0], tf.float32) * random_scale_factor,\n",
        "                            tf.int32)\n",
        "    scaled_width = tf.cast(tf.cast(input_shape[1], tf.float32) * random_scale_factor,\n",
        "                           tf.int32)\n",
        "    scaled_shape = tf.stack([scaled_height, scaled_width])\n",
        "    image = tf.image.resize(image, scaled_shape)\n",
        "    image = tf.image.random_crop(image, input_shape)\n",
        "  else:\n",
        "    image = tf.image.resize(image, input_shape[:2])\n",
        "\n",
        "  return image, label"
      ],
      "execution_count": 10,
      "outputs": []
    },
    {
      "cell_type": "code",
      "metadata": {
        "id": "cQvHuggFbN8F"
      },
      "source": [
        "import functools \n",
        "\n",
        "# Setting fixed args for function\n",
        "prepare_data_fn_for_train = functools.partial(_prepare_data_fn, input_shape=input_shape,\n",
        "                                              augment=True)\n",
        "train_cifar_dataset = train_cifar_dataset.map(prepare_data_fn_for_train, num_parallel_calls=4)\n",
        "# We also ask the dataset to batch the samples:\n",
        "train_cifar_dataset = train_cifar_dataset.batch(batch_size)\n",
        "\n",
        "# Improve time performance\n",
        "train_cifar_dataset = train_cifar_dataset.prefetch(1)"
      ],
      "execution_count": 11,
      "outputs": []
    },
    {
      "cell_type": "markdown",
      "metadata": {
        "id": "92r6rsTbd60O"
      },
      "source": [
        "Similarly, we further prepare the validation dataset (though not shuffling or augment it):"
      ]
    },
    {
      "cell_type": "code",
      "metadata": {
        "id": "Am4eoIVRrKk9"
      },
      "source": [
        "prepare_data_fn_for_val = functools.partial(_prepare_data_fn, input_shape=input_shape,\n",
        "                                            augment=False)\n",
        "val_cifar_dataset = (val_cifar_dataset.repeat()\n",
        "                                      .map(prepare_data_fn_for_val, num_parallel_calls=4)\n",
        "                                      .batch(batch_size)\n",
        "                                      .prefetch(1))\n",
        "                                      \n",
        "                                      \n",
        "                                      "
      ],
      "execution_count": 12,
      "outputs": []
    },
    {
      "cell_type": "markdown",
      "metadata": {
        "id": "0-wVQ6EKfzK_"
      },
      "source": [
        "We now have our datasets ready to be iterated over for training.\n",
        "\n",
        "These objects are indeed compatible with Keras methods such as `model.fit()`. However, to work properly together, we need to specify to Keras how many batches per epoch such Dataset objects have (when calling `model.fit()`, with the parameters `steps_per_epoch` for the number of training batches, and `validation_steps` for the validation ones):"
      ]
    },
    {
      "cell_type": "code",
      "metadata": {
        "id": "Se2PuolRffwE"
      },
      "source": [
        "# `math.ceil()` rounds a number UP to the nearest integer'\n",
        "train_steps_per_epoch = math.ceil(num_train_imgs / batch_size)\n",
        "val_steps_per_epoch = math.ceil(num_val_imgs / batch_size)"
      ],
      "execution_count": 13,
      "outputs": []
    },
    {
      "cell_type": "markdown",
      "metadata": {
        "id": "0y2TeRHZaTCW"
      },
      "source": [
        "# **Implementing ResNet with Keras**\n",
        "\n",
        "We will opt for the Keras API to speed up the implementation. By the end of this section, we will have a *ResNet builder* tool, able to instantiate any of the usual residual networks (ResNet-18, ResNet-34, ResNet-50, ResNet-101, ResNet-102, etc.)\n",
        "\n",
        "**Note**: We will use Keras Functional API to implement the model. This API can also be used in a more *object-oriented* manner. In the Appendix of this notebook, we propose a second implementation of ResNet from scratch, following this paradigm. "
      ]
    },
    {
      "cell_type": "code",
      "metadata": {
        "id": "VZQV5XDRgto6"
      },
      "source": [
        "from tensorflow.keras.models import Model\n",
        "from tensorflow.keras.layers import (Input, Activation, Dense, Flatten, Conv2D,\n",
        "                                     MaxPooling2D, GlobalAveragePooling2D, \n",
        "                                     BatchNormalization, add, AveragePooling2D)\n",
        "import tensorflow.keras.regularizers as regularizers"
      ],
      "execution_count": 14,
      "outputs": []
    },
    {
      "cell_type": "markdown",
      "metadata": {
        "id": "6Wmke5GCciyZ"
      },
      "source": [
        "## **Implementing the Residual Blocks**\n",
        "\n",
        "In order to implement such a model-builder function, able to generate networks of various sizes, we need to make the TesNet implementation modular. Therefore, we will implement the ResNet main components, the residual blocks, in a modular way, so that we can chain them indefinitely.\n",
        "\n",
        "The residual blocks are composed of:\n",
        "\n",
        "* One *residual* branch, applying a 3x3 convolution to the input, followed by batch normalization and ReLu activation.\n",
        "\n",
        "* One *shortcut* branch, directly forwarding the input without modification, or only applying a 1x1 convolution to adapt the input volume in case it changed in the other branch.\n",
        "\n",
        "* One *merge* operation, performing an element-wise addition between the results of the two branches.\n",
        "\n",
        "We will now implement each of this sub-modules. First, let us wrap the conv-batchnorm-relu stack of layers into a single function we could reuse at will:"
      ]
    },
    {
      "cell_type": "code",
      "metadata": {
        "id": "EZFIvOyQcfvo"
      },
      "source": [
        "def _res_conv(filters, kernel_size=3, padding='same', strides=1, use_relu=True,\n",
        "              use_bias=False, name='cbr', kernel_initializer='he_normal',\n",
        "              kernel_regularizer=regularizers.l2(1e-4)):\n",
        "  \"\"\"\n",
        "  Return a layer block chaining conv, batchnorm and relu activation.\n",
        "  Args:\n",
        "    filters: Num of filters.\n",
        "    kernel_size: Kernel size.\n",
        "    padding: Convolution padding.\n",
        "    strides: Convolution strides.\n",
        "    use_relu: Flag to apply ReLy activation at the end.\n",
        "    use_bias: Flag to use bias or not in Conv layer.\n",
        "    name: Name suffix for the layers.\n",
        "    kernel_initializer: Kernel initialization method name.\n",
        "    kernal_regularizer: Kernel regularizer.\n",
        "  :return: Callable layer block.\n",
        "  \"\"\"\n",
        "\n",
        "  def layer_fn(x):\n",
        "    conv = Conv2D(filters=filters, kernel_size=kernel_size, strides=strides,\n",
        "                  padding=padding, use_bias=use_bias, name=name + '_c',\n",
        "                  kernel_initializer=kernel_initializer,\n",
        "                  kernel_regularizer=kernel_regularizer)(x)\n",
        "    res = BatchNormalization(axis=-1, name=name + '_bn')(conv)\n",
        "    if use_relu:\n",
        "      res = Activation('relu', name=name + '_r')(res)\n",
        "    return res\n",
        "    \n",
        "  return layer_fn"
      ],
      "execution_count": 15,
      "outputs": []
    },
    {
      "cell_type": "markdown",
      "metadata": {
        "id": "Jgn4Gui0j6RG"
      },
      "source": [
        "Thanks to this function, we can add this stack of 3 layers to our network simply with ```x = _conv_batchnorm_relu(**params)(x)```. We are therefore almost done convering the implementation of the 1st branch in the residual blocks.\n",
        "\n",
        "Now we will deal with the *shortcut* branch. For simplicity, we will wrap its operation along with the following *merge* operation since. Indeed, this function already needs to receive as parameters both the input tensor and the result of the *residual* branch to the *shortcut* one, so that it can compare the tensors's shapes to check if the dimensions were changed. If so, a 1x1 convolution is applied to resize the input tensor accordingly before the *merge*. Otherwise, the input tensor is left untouched. And since the function has both the *residual* and the *shortcut* results, it is a matter of a single line to do the *merge* right away:"
      ]
    },
    {
      "cell_type": "code",
      "metadata": {
        "id": "2f5macnHjCqe"
      },
      "source": [
        "def _merge_with_shortcut(kernel_initializer='he_normal', \n",
        "                         kernel_regularizer=regularizers.l2(1e-4), name='block'):\n",
        "  \"\"\"\n",
        "  Return a layer block which merge an input tensor and the corresponding residual\n",
        "  ouput tensor from another branch.\n",
        "  Args:\n",
        "    kernel_initializer: Kernal initialization method name.\n",
        "    kernel_regularizer: Kernel regularizer.\n",
        "    name: Name suffix for the layers.\n",
        "  :return: Callable layer block.\n",
        "  \"\"\"\n",
        "  \n",
        "  def layer_fn(x, x_residual):\n",
        "    # We check if `x_residual` was scaled down. If so, we scale `x` accordingly \n",
        "    # with a 1x1 conv:\n",
        "    x_shape = tf.keras.backend.int_shape(x)\n",
        "    x_residual_shape = tf.keras.backend.int_shape(x_residual)\n",
        "\n",
        "    if x_shape == x_residual_shape:\n",
        "        x_shortcut = x\n",
        "    else:\n",
        "      strides = (\n",
        "          int(round(x_shape[1] / x_residual_shape[1])),  # vertical stride\n",
        "          int(round(x_shape[2] / x_residual_shape[2]))  # horizontal stride\n",
        "      )\n",
        "      x_residual_channels = x_residual_shape[3]\n",
        "      x_shortcut = Conv2D(filters=x_residual_channels, kernel_size=1, strides=strides,\n",
        "                 padding='valid', name=name + '_shortcut', \n",
        "                 kernel_initializer=kernel_initializer,\n",
        "                 kernel_regularizer=kernel_regularizer)(x)\n",
        "\n",
        "    merge = add([x_shortcut, x_residual])\n",
        "\n",
        "    return merge\n",
        "\n",
        "  return layer_fn"
      ],
      "execution_count": 16,
      "outputs": []
    },
    {
      "cell_type": "markdown",
      "metadata": {
        "id": "oPIOTbHgnjaj"
      },
      "source": [
        "We now have everything to create complete residual blocks:"
      ]
    },
    {
      "cell_type": "code",
      "metadata": {
        "id": "g41iqDlxnhWs"
      },
      "source": [
        "def _residual_block_basic(filters, kernel_size=3, strides=1, use_bias=False, \n",
        "                          kernel_initializer='he_normal', name='res_basic',\n",
        "                          kernel_regularizer=regularizers.l2(1e-4)):\n",
        "  \"\"\"\n",
        "  Return a basic residual layer block.\n",
        "  Args:\n",
        "    filters: Num of filters.\n",
        "    kernel_size: Kernel size.\n",
        "    strides: Convolution strides.\n",
        "    use_bias: Flag to use bias or not in Conv layer.\n",
        "    kernel_initializer: Kernel initialization method name.\n",
        "    kernel_regularizer: Kernel regularizer.\n",
        "    name: Name suffix for the layers.\n",
        "  :return: Callable layer block.\n",
        "  \"\"\"\n",
        "\n",
        "  def layer_fn(x):\n",
        "    conv1 = _res_conv(filters=filters, kernel_size=kernel_size, strides=strides,\n",
        "                   padding='same', use_bias=use_bias, name=name + 'cbr_1',\n",
        "                   kernel_initializer=kernel_initializer, use_relu=True,\n",
        "                   kernel_regularizer=kernel_regularizer)(x)\n",
        "    x_residual = _res_conv(filters=filters, kernel_size=kernel_size, strides=1,\n",
        "                   padding='same', use_bias=use_bias, name=name + 'cbr_2',\n",
        "                   kernel_initializer=kernel_initializer, use_relu=False,\n",
        "                   kernel_regularizer=kernel_regularizer)(conv1)\n",
        "    merge = _merge_with_shortcut(kernel_initializer=kernel_initializer,\n",
        "                                 kernel_regularizer=kernel_regularizer,\n",
        "                                 name=name)(x, x_residual)\n",
        "    merge = Activation('relu')(merge)\n",
        "\n",
        "    return merge\n",
        "\n",
        "  return layer_fn"
      ],
      "execution_count": 17,
      "outputs": []
    },
    {
      "cell_type": "markdown",
      "metadata": {
        "id": "8-iFwTuesTts"
      },
      "source": [
        "With this implementation, we can easily chain residual blocks, e.g.:\n",
        "\n",
        "```\n",
        "# x = previous layer\n",
        "x = _residual_block_basic(filters=64, strides=2)(x)\n",
        "x = _residual_block_basic(filters=64, strides=1)(x)\n",
        "# ...\n",
        "```\n",
        "\n",
        "Before building our complete model, we will however implement a different type of residual blocks. Indeed, this basic block becomes quit costly in terms of computations the deeper the networks goes. In their paper introducing ResNet, He et al. proposed a second type of blocks to replace the basic ones for deeper architectures. To keep in check the number of computations, those blocks make use of the *bottleneck* technique we presented with the Inception models. The two 3x3 convolutions are replaced by a 3x3 convolution surrounded by 1x1 ones as follow:\n",
        "\n",
        "\n"
      ]
    },
    {
      "cell_type": "code",
      "metadata": {
        "id": "fhWXJrevsMh-"
      },
      "source": [
        "def _residual_block_botteneck(filters, kernel_size=3, strides=1, use_bias=False,\n",
        "                              kernel_initializer='he_normal', name='res_bottleneck',\n",
        "                              kernel_regularizer=regularizers.l2(1e-4)):\n",
        "  \"\"\"\n",
        "  Return a residual layer block with bottleneck, recommended for deep ResNet (depth > 34).\n",
        "  Args:\n",
        "    filters: Num of filters.\n",
        "    kernel_size: Kernel size.\n",
        "    strides: Convolution strides.\n",
        "    use_bias: Flag to use bias or not in Conv layer.\n",
        "    kernel_initializer: Kernel initialization method name.\n",
        "    kernel_regularizer: Kernel regularizer.\n",
        "    name: Name suffix for the layers.\n",
        "  :return: Callable layer block.\n",
        "  \"\"\"\n",
        "\n",
        "  def layer_fn(x):\n",
        "    x_bottleneck = _res_conv(filters=filters, kernel_size=1, strides=strides,\n",
        "                             padding='valid', use_bias=use_bias, name=name + 'cbr_1',\n",
        "                             kernel_initializer=kernel_initializer, use_relu=True,\n",
        "                             kernel_regularizer=kernel_regularizer)(x)\n",
        "    x_conv = _res_conv(filters=filters, kernel_size=kernel_size, strides=1,\n",
        "                       padding='same', use_bias=use_bias, name=name + 'cbr_2',\n",
        "                       kernel_initializer=kernel_initializer, use_relu=True,\n",
        "                       kernel_regularizer=kernel_regularizer)(x_bottleneck)\n",
        "    x_residual = _res_conv(filters=filters * 4, kernel_size=1, strides=1,\n",
        "                           padding='valid', use_bias=use_bias, name=name + 'cbr_3',\n",
        "                           kernel_initializer=kernel_initializer, use_relu=False,\n",
        "                           kernel_regularizer=kernel_regularizer)(x_conv)\n",
        "    merge = _merge_with_shortcut(kernel_regularizer=kernel_regularizer,\n",
        "                                 kernel_initializer=kernel_initializer,\n",
        "                                 name=name)(x, x_residual)\n",
        "    merge = Activation('relu')(merge)\n",
        "\n",
        "    return merge\n",
        "\n",
        "  return layer_fn"
      ],
      "execution_count": 18,
      "outputs": []
    },
    {
      "cell_type": "markdown",
      "metadata": {
        "id": "L7FzPHVmjOky"
      },
      "source": [
        "## **Chaining Blocks into Modular Networks**\n",
        "\n",
        "We saw that residual blocks in usual ResNet models are chained according to a specify pattern. Every `b` blocks, we find a residual block with `strides = 2` reducing the spatial dimensionality (followed by `b - 1` blocks with `strides = 1`). It will make the rest of the implementation much easier if we wrap the instantiation of these `b` blocks togerther:"
      ]
    },
    {
      "cell_type": "code",
      "metadata": {
        "id": "qxs3OMkgv_iO"
      },
      "source": [
        "def _residual_macroblock(block_fn, filters, repetitions=2, kernel_size=3, \n",
        "                         strides_1st_block=2, use_bias=False, name='res_macroblock',\n",
        "                         kernel_initializer='he_normal', \n",
        "                         kernel_regularizer=regularizers.l2(1e-4)):\n",
        "  \"\"\"\n",
        "  Return a layer block, composed of a repetition of `N` residual blocks.\n",
        "  Args:\n",
        "    block_fn: Block layer method to be used.\n",
        "    repetitions: Number of times the block should be repeated inside.\n",
        "    filters: Number of filters.\n",
        "    kernel_size: Kernel size.\n",
        "    strides_1st_block: Convolution strides for the 1st block.\n",
        "    use_bias: Flag to use bias or not in Conv layer.\n",
        "    kernel_initializer: Kernel initialization method name.\n",
        "    kernal_regularizer: Kernel regularizer.\n",
        "    name: Name suffix for the layer\n",
        "  :return: Callable layer block.\n",
        "  \"\"\"\n",
        "\n",
        "  def layer_fn(x):\n",
        "    for repet in range(repetitions):\n",
        "      strides = strides_1st_block if repet == 0 else 1\n",
        "      block_name = '{}_{}'.format(name, repet)\n",
        "      x = block_fn(filters=filters, kernel_size=kernel_size, strides=strides,\n",
        "                       use_bias=use_bias, kernel_initializer=kernel_initializer,\n",
        "                       kernel_regularizer=kernel_regularizer, name = block_name)(x)\n",
        "    \n",
        "    return x\n",
        "\n",
        "  return layer_fn"
      ],
      "execution_count": 19,
      "outputs": []
    },
    {
      "cell_type": "markdown",
      "metadata": {
        "id": "K3f6dV4JmpfQ"
      },
      "source": [
        "As before, the function we just wrote makes it possible to easily chain these macro-blocks together into a network as deep as we wish! It is now just matter of adding the 3 layers preceeding the residual blocks (a 7x7 convolution and a max-pooling) as well as the final layers leading to the predictions (avg-pooling and FC):"
      ]
    },
    {
      "cell_type": "code",
      "metadata": {
        "id": "A8wL-e2QmJk9"
      },
      "source": [
        "def ResNet(input_shape, num_classes=1000, block_fn=_residual_block_basic,\n",
        "           repetitions=(2, 2, 2, 2), use_bias=False, \n",
        "           kernel_initializer='he_normal',\n",
        "           kernel_regularizer=regularizers.l2(1e-4)):\n",
        "  \"\"\"\n",
        "  Build a ResNet model for classification.\n",
        "  Args:\n",
        "    input_shape: Input shape (e.g. (224, 224, 3)).\n",
        "    num_classes: Number of classes to predict.\n",
        "    block_fn: Block layer method to be used.\n",
        "    repetitions: List of repetitions for each macro-blocks the network should contain.\n",
        "    use_bias: Flag to use bias or not in Conv layer.\n",
        "    kernel_initializer: Kernel initialization method name.\n",
        "    kernel_regularizer: Kernel regularizer.\n",
        "  :return: ResNet model.\n",
        "  \"\"\"\n",
        "\n",
        "  # Input and 1st layers:\n",
        "  input = Input(shape=input_shape)\n",
        "  conv = _res_conv(filters=64, kernel_size=7, strides=2, use_relu=True, \n",
        "                   use_bias=use_bias, kernel_initializer=kernel_initializer,\n",
        "                   kernel_regularizer=kernel_regularizer)(input)\n",
        "  maxpool = MaxPooling2D(pool_size=3, strides=2, padding='same')(conv)\n",
        "\n",
        "  # Chain of residual blocks:\n",
        "  filters = 64\n",
        "  strides = 2\n",
        "  res_block = maxpool\n",
        "  for i, repet in enumerate(repetitions):\n",
        "    # We dont further reduce the input size for the 1st block (max-pool applied just before):\n",
        "    block_name = 'block_{}'.format(i)\n",
        "    block_strides = strides if i != 0 else 1\n",
        "    res_block = _residual_macroblock(block_fn, filters, repetitions=repet,\n",
        "                                     strides_1st_block=block_strides, \n",
        "                                     use_bias=use_bias, name=block_name,\n",
        "                                     kernel_initializer=kernel_initializer,\n",
        "                                     kernel_regularizer=kernel_regularizer)(res_block)\n",
        "    filters = min(filters * 2, 1024)  # we limit to 1024 filters max\n",
        "\n",
        "  # Final layers for prediction:\n",
        "  res_spatial_dim = tf.keras.backend.int_shape(res_block)[1:3]\n",
        "  avg_pool = AveragePooling2D(pool_size=res_spatial_dim, strides=1)(res_block)\n",
        "  flatten = Flatten()(avg_pool)\n",
        "  predictions = Dense(units=num_classes, kernel_initializer=kernel_initializer,\n",
        "                      activation='softmax')(flatten)\n",
        "\n",
        "  # Model:\n",
        "  model = Model(inputs=input, outputs=predictions)\n",
        "\n",
        "  return model"
      ],
      "execution_count": 20,
      "outputs": []
    },
    {
      "cell_type": "markdown",
      "metadata": {
        "id": "l2_YaWITsacW"
      },
      "source": [
        "We have our ResNet-builder function! Playing with the `repetitions` parameter, we can now spawn networks as deep as we want.\n",
        "\n",
        "With this, we can easily define the classic ResNet models:"
      ]
    },
    {
      "cell_type": "code",
      "metadata": {
        "id": "uFSnNkQmsYEt"
      },
      "source": [
        "def ResNet18(input_shape, num_classes=1000, use_bias=True, \n",
        "             kernel_initializer='he_normal', kernel_regularizer=None):\n",
        "  return ResNet(input_shape=input_shape, num_classes=num_classes, use_bias=use_bias,\n",
        "                block_fn=_residual_block_basic, repetitions=(2, 2, 2, 2),\n",
        "                kernel_initializer=kernel_initializer, kernel_regularizer=kernel_regularizer)\n",
        "              \n",
        "\n",
        "def ResNet34(input_shape, num_classes=1000, use_bias=True,\n",
        "             kernel_initializer='he_normal', kernel_regularizer=None):\n",
        "  return ResNet(input_shape=input_shape, num_classes=num_classes, use_bias=use_bias,\n",
        "                block_fn=_residual_block_basic, repetitions=(3, 4, 6, 3),\n",
        "                kernel_initializer=kernel_initializer, kernel_regularizer=kernel_regularizer)\n",
        "  \n",
        "\n",
        "def ResNet50(input_shape, num_classes=1000, use_bias=True,\n",
        "             kernel_initializer='he_normal', kernel_regularizer=None):\n",
        "  # Note: ResNet50 is similar to ResNet34, with the basic blocks replaced by\n",
        "  # bottleneck ones\n",
        "  return ResNet(input_shape=input_shape, num_classes=num_classes, use_bias=use_bias,\n",
        "                block_fn=_residual_block_botteneck, repetitions=(3, 4, 6, 3),\n",
        "                kernel_initializer=kernel_initializer, kernel_regularizer=kernel_regularizer)\n",
        "    \n",
        "\n",
        "def ResNet101(input_shape, num_classes=1000, use_bias=True,\n",
        "              kernel_initializer='he_normal', kernel_regularizer=None):\n",
        "  return ResNet(input_shape=input_shape, num_classes=num_classes, use_bias=use_bias,\n",
        "                block_fn=_residual_block_bottleneck, repetitions=(3, 4, 23, 3),\n",
        "                kernel_initializer=kernel_initializer, kernel_regularizer=kernel_regularizer)\n",
        "  \n",
        "def ResNet152(input_shape, num_classes=1000, use_bias=True,\n",
        "              kernel_initializer='he_normal', kernel_regularizer=None):\n",
        "  return ResNet(input_shape=input_shape, num_classes=num_classes, use_bias=use_bias,\n",
        "                block_fn=_residual_block_botteneck, repetitions=(3, 8, 36, 3),\n",
        "                kernel_initializer=kernel_initializer, kernel_regularizer=kernel_regularizer)"
      ],
      "execution_count": 21,
      "outputs": []
    },
    {
      "cell_type": "markdown",
      "metadata": {
        "id": "w6jllVMHwhab"
      },
      "source": [
        "## **Demonstrating with ResNet50**\n",
        "\n",
        "For the rest of this notebook, we will opt. for ResNet50.\n",
        "\n",
        "Note that for their ImageNet experiments, the ResNet authors used 224x224 images as input. In order to have a similar network, we will consider the same input dimensions (adding a proper scaling operation to our input pipeline, to resize the Tiny-ImageNet samples from 64x64 to 224x224):"
      ]
    },
    {
      "cell_type": "code",
      "metadata": {
        "id": "ea5gXJLZwf2j",
        "colab": {
          "base_uri": "https://localhost:8080/"
        },
        "outputId": "cbdc7acb-8a7c-4051-9ba7-66802f9bb3a1"
      },
      "source": [
        "resnet50 = ResNet50(input_shape=input_shape, num_classes=num_classes)\n",
        "resnet50.summary()"
      ],
      "execution_count": 22,
      "outputs": [
        {
          "output_type": "stream",
          "text": [
            "Model: \"model\"\n",
            "__________________________________________________________________________________________________\n",
            "Layer (type)                    Output Shape         Param #     Connected to                     \n",
            "==================================================================================================\n",
            "input_1 (InputLayer)            [(None, 224, 224, 3) 0                                            \n",
            "__________________________________________________________________________________________________\n",
            "cbr_c (Conv2D)                  (None, 112, 112, 64) 9472        input_1[0][0]                    \n",
            "__________________________________________________________________________________________________\n",
            "cbr_bn (BatchNormalization)     (None, 112, 112, 64) 256         cbr_c[0][0]                      \n",
            "__________________________________________________________________________________________________\n",
            "cbr_r (Activation)              (None, 112, 112, 64) 0           cbr_bn[0][0]                     \n",
            "__________________________________________________________________________________________________\n",
            "max_pooling2d (MaxPooling2D)    (None, 56, 56, 64)   0           cbr_r[0][0]                      \n",
            "__________________________________________________________________________________________________\n",
            "block_0_0cbr_1_c (Conv2D)       (None, 56, 56, 64)   4160        max_pooling2d[0][0]              \n",
            "__________________________________________________________________________________________________\n",
            "block_0_0cbr_1_bn (BatchNormali (None, 56, 56, 64)   256         block_0_0cbr_1_c[0][0]           \n",
            "__________________________________________________________________________________________________\n",
            "block_0_0cbr_1_r (Activation)   (None, 56, 56, 64)   0           block_0_0cbr_1_bn[0][0]          \n",
            "__________________________________________________________________________________________________\n",
            "block_0_0cbr_2_c (Conv2D)       (None, 56, 56, 64)   36928       block_0_0cbr_1_r[0][0]           \n",
            "__________________________________________________________________________________________________\n",
            "block_0_0cbr_2_bn (BatchNormali (None, 56, 56, 64)   256         block_0_0cbr_2_c[0][0]           \n",
            "__________________________________________________________________________________________________\n",
            "block_0_0cbr_2_r (Activation)   (None, 56, 56, 64)   0           block_0_0cbr_2_bn[0][0]          \n",
            "__________________________________________________________________________________________________\n",
            "block_0_0cbr_3_c (Conv2D)       (None, 56, 56, 256)  16640       block_0_0cbr_2_r[0][0]           \n",
            "__________________________________________________________________________________________________\n",
            "block_0_0_shortcut (Conv2D)     (None, 56, 56, 256)  16640       max_pooling2d[0][0]              \n",
            "__________________________________________________________________________________________________\n",
            "block_0_0cbr_3_bn (BatchNormali (None, 56, 56, 256)  1024        block_0_0cbr_3_c[0][0]           \n",
            "__________________________________________________________________________________________________\n",
            "add (Add)                       (None, 56, 56, 256)  0           block_0_0_shortcut[0][0]         \n",
            "                                                                 block_0_0cbr_3_bn[0][0]          \n",
            "__________________________________________________________________________________________________\n",
            "activation (Activation)         (None, 56, 56, 256)  0           add[0][0]                        \n",
            "__________________________________________________________________________________________________\n",
            "block_0_1cbr_1_c (Conv2D)       (None, 56, 56, 64)   16448       activation[0][0]                 \n",
            "__________________________________________________________________________________________________\n",
            "block_0_1cbr_1_bn (BatchNormali (None, 56, 56, 64)   256         block_0_1cbr_1_c[0][0]           \n",
            "__________________________________________________________________________________________________\n",
            "block_0_1cbr_1_r (Activation)   (None, 56, 56, 64)   0           block_0_1cbr_1_bn[0][0]          \n",
            "__________________________________________________________________________________________________\n",
            "block_0_1cbr_2_c (Conv2D)       (None, 56, 56, 64)   36928       block_0_1cbr_1_r[0][0]           \n",
            "__________________________________________________________________________________________________\n",
            "block_0_1cbr_2_bn (BatchNormali (None, 56, 56, 64)   256         block_0_1cbr_2_c[0][0]           \n",
            "__________________________________________________________________________________________________\n",
            "block_0_1cbr_2_r (Activation)   (None, 56, 56, 64)   0           block_0_1cbr_2_bn[0][0]          \n",
            "__________________________________________________________________________________________________\n",
            "block_0_1cbr_3_c (Conv2D)       (None, 56, 56, 256)  16640       block_0_1cbr_2_r[0][0]           \n",
            "__________________________________________________________________________________________________\n",
            "block_0_1cbr_3_bn (BatchNormali (None, 56, 56, 256)  1024        block_0_1cbr_3_c[0][0]           \n",
            "__________________________________________________________________________________________________\n",
            "add_1 (Add)                     (None, 56, 56, 256)  0           activation[0][0]                 \n",
            "                                                                 block_0_1cbr_3_bn[0][0]          \n",
            "__________________________________________________________________________________________________\n",
            "activation_1 (Activation)       (None, 56, 56, 256)  0           add_1[0][0]                      \n",
            "__________________________________________________________________________________________________\n",
            "block_0_2cbr_1_c (Conv2D)       (None, 56, 56, 64)   16448       activation_1[0][0]               \n",
            "__________________________________________________________________________________________________\n",
            "block_0_2cbr_1_bn (BatchNormali (None, 56, 56, 64)   256         block_0_2cbr_1_c[0][0]           \n",
            "__________________________________________________________________________________________________\n",
            "block_0_2cbr_1_r (Activation)   (None, 56, 56, 64)   0           block_0_2cbr_1_bn[0][0]          \n",
            "__________________________________________________________________________________________________\n",
            "block_0_2cbr_2_c (Conv2D)       (None, 56, 56, 64)   36928       block_0_2cbr_1_r[0][0]           \n",
            "__________________________________________________________________________________________________\n",
            "block_0_2cbr_2_bn (BatchNormali (None, 56, 56, 64)   256         block_0_2cbr_2_c[0][0]           \n",
            "__________________________________________________________________________________________________\n",
            "block_0_2cbr_2_r (Activation)   (None, 56, 56, 64)   0           block_0_2cbr_2_bn[0][0]          \n",
            "__________________________________________________________________________________________________\n",
            "block_0_2cbr_3_c (Conv2D)       (None, 56, 56, 256)  16640       block_0_2cbr_2_r[0][0]           \n",
            "__________________________________________________________________________________________________\n",
            "block_0_2cbr_3_bn (BatchNormali (None, 56, 56, 256)  1024        block_0_2cbr_3_c[0][0]           \n",
            "__________________________________________________________________________________________________\n",
            "add_2 (Add)                     (None, 56, 56, 256)  0           activation_1[0][0]               \n",
            "                                                                 block_0_2cbr_3_bn[0][0]          \n",
            "__________________________________________________________________________________________________\n",
            "activation_2 (Activation)       (None, 56, 56, 256)  0           add_2[0][0]                      \n",
            "__________________________________________________________________________________________________\n",
            "block_1_0cbr_1_c (Conv2D)       (None, 28, 28, 128)  32896       activation_2[0][0]               \n",
            "__________________________________________________________________________________________________\n",
            "block_1_0cbr_1_bn (BatchNormali (None, 28, 28, 128)  512         block_1_0cbr_1_c[0][0]           \n",
            "__________________________________________________________________________________________________\n",
            "block_1_0cbr_1_r (Activation)   (None, 28, 28, 128)  0           block_1_0cbr_1_bn[0][0]          \n",
            "__________________________________________________________________________________________________\n",
            "block_1_0cbr_2_c (Conv2D)       (None, 28, 28, 128)  147584      block_1_0cbr_1_r[0][0]           \n",
            "__________________________________________________________________________________________________\n",
            "block_1_0cbr_2_bn (BatchNormali (None, 28, 28, 128)  512         block_1_0cbr_2_c[0][0]           \n",
            "__________________________________________________________________________________________________\n",
            "block_1_0cbr_2_r (Activation)   (None, 28, 28, 128)  0           block_1_0cbr_2_bn[0][0]          \n",
            "__________________________________________________________________________________________________\n",
            "block_1_0cbr_3_c (Conv2D)       (None, 28, 28, 512)  66048       block_1_0cbr_2_r[0][0]           \n",
            "__________________________________________________________________________________________________\n",
            "block_1_0_shortcut (Conv2D)     (None, 28, 28, 512)  131584      activation_2[0][0]               \n",
            "__________________________________________________________________________________________________\n",
            "block_1_0cbr_3_bn (BatchNormali (None, 28, 28, 512)  2048        block_1_0cbr_3_c[0][0]           \n",
            "__________________________________________________________________________________________________\n",
            "add_3 (Add)                     (None, 28, 28, 512)  0           block_1_0_shortcut[0][0]         \n",
            "                                                                 block_1_0cbr_3_bn[0][0]          \n",
            "__________________________________________________________________________________________________\n",
            "activation_3 (Activation)       (None, 28, 28, 512)  0           add_3[0][0]                      \n",
            "__________________________________________________________________________________________________\n",
            "block_1_1cbr_1_c (Conv2D)       (None, 28, 28, 128)  65664       activation_3[0][0]               \n",
            "__________________________________________________________________________________________________\n",
            "block_1_1cbr_1_bn (BatchNormali (None, 28, 28, 128)  512         block_1_1cbr_1_c[0][0]           \n",
            "__________________________________________________________________________________________________\n",
            "block_1_1cbr_1_r (Activation)   (None, 28, 28, 128)  0           block_1_1cbr_1_bn[0][0]          \n",
            "__________________________________________________________________________________________________\n",
            "block_1_1cbr_2_c (Conv2D)       (None, 28, 28, 128)  147584      block_1_1cbr_1_r[0][0]           \n",
            "__________________________________________________________________________________________________\n",
            "block_1_1cbr_2_bn (BatchNormali (None, 28, 28, 128)  512         block_1_1cbr_2_c[0][0]           \n",
            "__________________________________________________________________________________________________\n",
            "block_1_1cbr_2_r (Activation)   (None, 28, 28, 128)  0           block_1_1cbr_2_bn[0][0]          \n",
            "__________________________________________________________________________________________________\n",
            "block_1_1cbr_3_c (Conv2D)       (None, 28, 28, 512)  66048       block_1_1cbr_2_r[0][0]           \n",
            "__________________________________________________________________________________________________\n",
            "block_1_1cbr_3_bn (BatchNormali (None, 28, 28, 512)  2048        block_1_1cbr_3_c[0][0]           \n",
            "__________________________________________________________________________________________________\n",
            "add_4 (Add)                     (None, 28, 28, 512)  0           activation_3[0][0]               \n",
            "                                                                 block_1_1cbr_3_bn[0][0]          \n",
            "__________________________________________________________________________________________________\n",
            "activation_4 (Activation)       (None, 28, 28, 512)  0           add_4[0][0]                      \n",
            "__________________________________________________________________________________________________\n",
            "block_1_2cbr_1_c (Conv2D)       (None, 28, 28, 128)  65664       activation_4[0][0]               \n",
            "__________________________________________________________________________________________________\n",
            "block_1_2cbr_1_bn (BatchNormali (None, 28, 28, 128)  512         block_1_2cbr_1_c[0][0]           \n",
            "__________________________________________________________________________________________________\n",
            "block_1_2cbr_1_r (Activation)   (None, 28, 28, 128)  0           block_1_2cbr_1_bn[0][0]          \n",
            "__________________________________________________________________________________________________\n",
            "block_1_2cbr_2_c (Conv2D)       (None, 28, 28, 128)  147584      block_1_2cbr_1_r[0][0]           \n",
            "__________________________________________________________________________________________________\n",
            "block_1_2cbr_2_bn (BatchNormali (None, 28, 28, 128)  512         block_1_2cbr_2_c[0][0]           \n",
            "__________________________________________________________________________________________________\n",
            "block_1_2cbr_2_r (Activation)   (None, 28, 28, 128)  0           block_1_2cbr_2_bn[0][0]          \n",
            "__________________________________________________________________________________________________\n",
            "block_1_2cbr_3_c (Conv2D)       (None, 28, 28, 512)  66048       block_1_2cbr_2_r[0][0]           \n",
            "__________________________________________________________________________________________________\n",
            "block_1_2cbr_3_bn (BatchNormali (None, 28, 28, 512)  2048        block_1_2cbr_3_c[0][0]           \n",
            "__________________________________________________________________________________________________\n",
            "add_5 (Add)                     (None, 28, 28, 512)  0           activation_4[0][0]               \n",
            "                                                                 block_1_2cbr_3_bn[0][0]          \n",
            "__________________________________________________________________________________________________\n",
            "activation_5 (Activation)       (None, 28, 28, 512)  0           add_5[0][0]                      \n",
            "__________________________________________________________________________________________________\n",
            "block_1_3cbr_1_c (Conv2D)       (None, 28, 28, 128)  65664       activation_5[0][0]               \n",
            "__________________________________________________________________________________________________\n",
            "block_1_3cbr_1_bn (BatchNormali (None, 28, 28, 128)  512         block_1_3cbr_1_c[0][0]           \n",
            "__________________________________________________________________________________________________\n",
            "block_1_3cbr_1_r (Activation)   (None, 28, 28, 128)  0           block_1_3cbr_1_bn[0][0]          \n",
            "__________________________________________________________________________________________________\n",
            "block_1_3cbr_2_c (Conv2D)       (None, 28, 28, 128)  147584      block_1_3cbr_1_r[0][0]           \n",
            "__________________________________________________________________________________________________\n",
            "block_1_3cbr_2_bn (BatchNormali (None, 28, 28, 128)  512         block_1_3cbr_2_c[0][0]           \n",
            "__________________________________________________________________________________________________\n",
            "block_1_3cbr_2_r (Activation)   (None, 28, 28, 128)  0           block_1_3cbr_2_bn[0][0]          \n",
            "__________________________________________________________________________________________________\n",
            "block_1_3cbr_3_c (Conv2D)       (None, 28, 28, 512)  66048       block_1_3cbr_2_r[0][0]           \n",
            "__________________________________________________________________________________________________\n",
            "block_1_3cbr_3_bn (BatchNormali (None, 28, 28, 512)  2048        block_1_3cbr_3_c[0][0]           \n",
            "__________________________________________________________________________________________________\n",
            "add_6 (Add)                     (None, 28, 28, 512)  0           activation_5[0][0]               \n",
            "                                                                 block_1_3cbr_3_bn[0][0]          \n",
            "__________________________________________________________________________________________________\n",
            "activation_6 (Activation)       (None, 28, 28, 512)  0           add_6[0][0]                      \n",
            "__________________________________________________________________________________________________\n",
            "block_2_0cbr_1_c (Conv2D)       (None, 14, 14, 256)  131328      activation_6[0][0]               \n",
            "__________________________________________________________________________________________________\n",
            "block_2_0cbr_1_bn (BatchNormali (None, 14, 14, 256)  1024        block_2_0cbr_1_c[0][0]           \n",
            "__________________________________________________________________________________________________\n",
            "block_2_0cbr_1_r (Activation)   (None, 14, 14, 256)  0           block_2_0cbr_1_bn[0][0]          \n",
            "__________________________________________________________________________________________________\n",
            "block_2_0cbr_2_c (Conv2D)       (None, 14, 14, 256)  590080      block_2_0cbr_1_r[0][0]           \n",
            "__________________________________________________________________________________________________\n",
            "block_2_0cbr_2_bn (BatchNormali (None, 14, 14, 256)  1024        block_2_0cbr_2_c[0][0]           \n",
            "__________________________________________________________________________________________________\n",
            "block_2_0cbr_2_r (Activation)   (None, 14, 14, 256)  0           block_2_0cbr_2_bn[0][0]          \n",
            "__________________________________________________________________________________________________\n",
            "block_2_0cbr_3_c (Conv2D)       (None, 14, 14, 1024) 263168      block_2_0cbr_2_r[0][0]           \n",
            "__________________________________________________________________________________________________\n",
            "block_2_0_shortcut (Conv2D)     (None, 14, 14, 1024) 525312      activation_6[0][0]               \n",
            "__________________________________________________________________________________________________\n",
            "block_2_0cbr_3_bn (BatchNormali (None, 14, 14, 1024) 4096        block_2_0cbr_3_c[0][0]           \n",
            "__________________________________________________________________________________________________\n",
            "add_7 (Add)                     (None, 14, 14, 1024) 0           block_2_0_shortcut[0][0]         \n",
            "                                                                 block_2_0cbr_3_bn[0][0]          \n",
            "__________________________________________________________________________________________________\n",
            "activation_7 (Activation)       (None, 14, 14, 1024) 0           add_7[0][0]                      \n",
            "__________________________________________________________________________________________________\n",
            "block_2_1cbr_1_c (Conv2D)       (None, 14, 14, 256)  262400      activation_7[0][0]               \n",
            "__________________________________________________________________________________________________\n",
            "block_2_1cbr_1_bn (BatchNormali (None, 14, 14, 256)  1024        block_2_1cbr_1_c[0][0]           \n",
            "__________________________________________________________________________________________________\n",
            "block_2_1cbr_1_r (Activation)   (None, 14, 14, 256)  0           block_2_1cbr_1_bn[0][0]          \n",
            "__________________________________________________________________________________________________\n",
            "block_2_1cbr_2_c (Conv2D)       (None, 14, 14, 256)  590080      block_2_1cbr_1_r[0][0]           \n",
            "__________________________________________________________________________________________________\n",
            "block_2_1cbr_2_bn (BatchNormali (None, 14, 14, 256)  1024        block_2_1cbr_2_c[0][0]           \n",
            "__________________________________________________________________________________________________\n",
            "block_2_1cbr_2_r (Activation)   (None, 14, 14, 256)  0           block_2_1cbr_2_bn[0][0]          \n",
            "__________________________________________________________________________________________________\n",
            "block_2_1cbr_3_c (Conv2D)       (None, 14, 14, 1024) 263168      block_2_1cbr_2_r[0][0]           \n",
            "__________________________________________________________________________________________________\n",
            "block_2_1cbr_3_bn (BatchNormali (None, 14, 14, 1024) 4096        block_2_1cbr_3_c[0][0]           \n",
            "__________________________________________________________________________________________________\n",
            "add_8 (Add)                     (None, 14, 14, 1024) 0           activation_7[0][0]               \n",
            "                                                                 block_2_1cbr_3_bn[0][0]          \n",
            "__________________________________________________________________________________________________\n",
            "activation_8 (Activation)       (None, 14, 14, 1024) 0           add_8[0][0]                      \n",
            "__________________________________________________________________________________________________\n",
            "block_2_2cbr_1_c (Conv2D)       (None, 14, 14, 256)  262400      activation_8[0][0]               \n",
            "__________________________________________________________________________________________________\n",
            "block_2_2cbr_1_bn (BatchNormali (None, 14, 14, 256)  1024        block_2_2cbr_1_c[0][0]           \n",
            "__________________________________________________________________________________________________\n",
            "block_2_2cbr_1_r (Activation)   (None, 14, 14, 256)  0           block_2_2cbr_1_bn[0][0]          \n",
            "__________________________________________________________________________________________________\n",
            "block_2_2cbr_2_c (Conv2D)       (None, 14, 14, 256)  590080      block_2_2cbr_1_r[0][0]           \n",
            "__________________________________________________________________________________________________\n",
            "block_2_2cbr_2_bn (BatchNormali (None, 14, 14, 256)  1024        block_2_2cbr_2_c[0][0]           \n",
            "__________________________________________________________________________________________________\n",
            "block_2_2cbr_2_r (Activation)   (None, 14, 14, 256)  0           block_2_2cbr_2_bn[0][0]          \n",
            "__________________________________________________________________________________________________\n",
            "block_2_2cbr_3_c (Conv2D)       (None, 14, 14, 1024) 263168      block_2_2cbr_2_r[0][0]           \n",
            "__________________________________________________________________________________________________\n",
            "block_2_2cbr_3_bn (BatchNormali (None, 14, 14, 1024) 4096        block_2_2cbr_3_c[0][0]           \n",
            "__________________________________________________________________________________________________\n",
            "add_9 (Add)                     (None, 14, 14, 1024) 0           activation_8[0][0]               \n",
            "                                                                 block_2_2cbr_3_bn[0][0]          \n",
            "__________________________________________________________________________________________________\n",
            "activation_9 (Activation)       (None, 14, 14, 1024) 0           add_9[0][0]                      \n",
            "__________________________________________________________________________________________________\n",
            "block_2_3cbr_1_c (Conv2D)       (None, 14, 14, 256)  262400      activation_9[0][0]               \n",
            "__________________________________________________________________________________________________\n",
            "block_2_3cbr_1_bn (BatchNormali (None, 14, 14, 256)  1024        block_2_3cbr_1_c[0][0]           \n",
            "__________________________________________________________________________________________________\n",
            "block_2_3cbr_1_r (Activation)   (None, 14, 14, 256)  0           block_2_3cbr_1_bn[0][0]          \n",
            "__________________________________________________________________________________________________\n",
            "block_2_3cbr_2_c (Conv2D)       (None, 14, 14, 256)  590080      block_2_3cbr_1_r[0][0]           \n",
            "__________________________________________________________________________________________________\n",
            "block_2_3cbr_2_bn (BatchNormali (None, 14, 14, 256)  1024        block_2_3cbr_2_c[0][0]           \n",
            "__________________________________________________________________________________________________\n",
            "block_2_3cbr_2_r (Activation)   (None, 14, 14, 256)  0           block_2_3cbr_2_bn[0][0]          \n",
            "__________________________________________________________________________________________________\n",
            "block_2_3cbr_3_c (Conv2D)       (None, 14, 14, 1024) 263168      block_2_3cbr_2_r[0][0]           \n",
            "__________________________________________________________________________________________________\n",
            "block_2_3cbr_3_bn (BatchNormali (None, 14, 14, 1024) 4096        block_2_3cbr_3_c[0][0]           \n",
            "__________________________________________________________________________________________________\n",
            "add_10 (Add)                    (None, 14, 14, 1024) 0           activation_9[0][0]               \n",
            "                                                                 block_2_3cbr_3_bn[0][0]          \n",
            "__________________________________________________________________________________________________\n",
            "activation_10 (Activation)      (None, 14, 14, 1024) 0           add_10[0][0]                     \n",
            "__________________________________________________________________________________________________\n",
            "block_2_4cbr_1_c (Conv2D)       (None, 14, 14, 256)  262400      activation_10[0][0]              \n",
            "__________________________________________________________________________________________________\n",
            "block_2_4cbr_1_bn (BatchNormali (None, 14, 14, 256)  1024        block_2_4cbr_1_c[0][0]           \n",
            "__________________________________________________________________________________________________\n",
            "block_2_4cbr_1_r (Activation)   (None, 14, 14, 256)  0           block_2_4cbr_1_bn[0][0]          \n",
            "__________________________________________________________________________________________________\n",
            "block_2_4cbr_2_c (Conv2D)       (None, 14, 14, 256)  590080      block_2_4cbr_1_r[0][0]           \n",
            "__________________________________________________________________________________________________\n",
            "block_2_4cbr_2_bn (BatchNormali (None, 14, 14, 256)  1024        block_2_4cbr_2_c[0][0]           \n",
            "__________________________________________________________________________________________________\n",
            "block_2_4cbr_2_r (Activation)   (None, 14, 14, 256)  0           block_2_4cbr_2_bn[0][0]          \n",
            "__________________________________________________________________________________________________\n",
            "block_2_4cbr_3_c (Conv2D)       (None, 14, 14, 1024) 263168      block_2_4cbr_2_r[0][0]           \n",
            "__________________________________________________________________________________________________\n",
            "block_2_4cbr_3_bn (BatchNormali (None, 14, 14, 1024) 4096        block_2_4cbr_3_c[0][0]           \n",
            "__________________________________________________________________________________________________\n",
            "add_11 (Add)                    (None, 14, 14, 1024) 0           activation_10[0][0]              \n",
            "                                                                 block_2_4cbr_3_bn[0][0]          \n",
            "__________________________________________________________________________________________________\n",
            "activation_11 (Activation)      (None, 14, 14, 1024) 0           add_11[0][0]                     \n",
            "__________________________________________________________________________________________________\n",
            "block_2_5cbr_1_c (Conv2D)       (None, 14, 14, 256)  262400      activation_11[0][0]              \n",
            "__________________________________________________________________________________________________\n",
            "block_2_5cbr_1_bn (BatchNormali (None, 14, 14, 256)  1024        block_2_5cbr_1_c[0][0]           \n",
            "__________________________________________________________________________________________________\n",
            "block_2_5cbr_1_r (Activation)   (None, 14, 14, 256)  0           block_2_5cbr_1_bn[0][0]          \n",
            "__________________________________________________________________________________________________\n",
            "block_2_5cbr_2_c (Conv2D)       (None, 14, 14, 256)  590080      block_2_5cbr_1_r[0][0]           \n",
            "__________________________________________________________________________________________________\n",
            "block_2_5cbr_2_bn (BatchNormali (None, 14, 14, 256)  1024        block_2_5cbr_2_c[0][0]           \n",
            "__________________________________________________________________________________________________\n",
            "block_2_5cbr_2_r (Activation)   (None, 14, 14, 256)  0           block_2_5cbr_2_bn[0][0]          \n",
            "__________________________________________________________________________________________________\n",
            "block_2_5cbr_3_c (Conv2D)       (None, 14, 14, 1024) 263168      block_2_5cbr_2_r[0][0]           \n",
            "__________________________________________________________________________________________________\n",
            "block_2_5cbr_3_bn (BatchNormali (None, 14, 14, 1024) 4096        block_2_5cbr_3_c[0][0]           \n",
            "__________________________________________________________________________________________________\n",
            "add_12 (Add)                    (None, 14, 14, 1024) 0           activation_11[0][0]              \n",
            "                                                                 block_2_5cbr_3_bn[0][0]          \n",
            "__________________________________________________________________________________________________\n",
            "activation_12 (Activation)      (None, 14, 14, 1024) 0           add_12[0][0]                     \n",
            "__________________________________________________________________________________________________\n",
            "block_3_0cbr_1_c (Conv2D)       (None, 7, 7, 512)    524800      activation_12[0][0]              \n",
            "__________________________________________________________________________________________________\n",
            "block_3_0cbr_1_bn (BatchNormali (None, 7, 7, 512)    2048        block_3_0cbr_1_c[0][0]           \n",
            "__________________________________________________________________________________________________\n",
            "block_3_0cbr_1_r (Activation)   (None, 7, 7, 512)    0           block_3_0cbr_1_bn[0][0]          \n",
            "__________________________________________________________________________________________________\n",
            "block_3_0cbr_2_c (Conv2D)       (None, 7, 7, 512)    2359808     block_3_0cbr_1_r[0][0]           \n",
            "__________________________________________________________________________________________________\n",
            "block_3_0cbr_2_bn (BatchNormali (None, 7, 7, 512)    2048        block_3_0cbr_2_c[0][0]           \n",
            "__________________________________________________________________________________________________\n",
            "block_3_0cbr_2_r (Activation)   (None, 7, 7, 512)    0           block_3_0cbr_2_bn[0][0]          \n",
            "__________________________________________________________________________________________________\n",
            "block_3_0cbr_3_c (Conv2D)       (None, 7, 7, 2048)   1050624     block_3_0cbr_2_r[0][0]           \n",
            "__________________________________________________________________________________________________\n",
            "block_3_0_shortcut (Conv2D)     (None, 7, 7, 2048)   2099200     activation_12[0][0]              \n",
            "__________________________________________________________________________________________________\n",
            "block_3_0cbr_3_bn (BatchNormali (None, 7, 7, 2048)   8192        block_3_0cbr_3_c[0][0]           \n",
            "__________________________________________________________________________________________________\n",
            "add_13 (Add)                    (None, 7, 7, 2048)   0           block_3_0_shortcut[0][0]         \n",
            "                                                                 block_3_0cbr_3_bn[0][0]          \n",
            "__________________________________________________________________________________________________\n",
            "activation_13 (Activation)      (None, 7, 7, 2048)   0           add_13[0][0]                     \n",
            "__________________________________________________________________________________________________\n",
            "block_3_1cbr_1_c (Conv2D)       (None, 7, 7, 512)    1049088     activation_13[0][0]              \n",
            "__________________________________________________________________________________________________\n",
            "block_3_1cbr_1_bn (BatchNormali (None, 7, 7, 512)    2048        block_3_1cbr_1_c[0][0]           \n",
            "__________________________________________________________________________________________________\n",
            "block_3_1cbr_1_r (Activation)   (None, 7, 7, 512)    0           block_3_1cbr_1_bn[0][0]          \n",
            "__________________________________________________________________________________________________\n",
            "block_3_1cbr_2_c (Conv2D)       (None, 7, 7, 512)    2359808     block_3_1cbr_1_r[0][0]           \n",
            "__________________________________________________________________________________________________\n",
            "block_3_1cbr_2_bn (BatchNormali (None, 7, 7, 512)    2048        block_3_1cbr_2_c[0][0]           \n",
            "__________________________________________________________________________________________________\n",
            "block_3_1cbr_2_r (Activation)   (None, 7, 7, 512)    0           block_3_1cbr_2_bn[0][0]          \n",
            "__________________________________________________________________________________________________\n",
            "block_3_1cbr_3_c (Conv2D)       (None, 7, 7, 2048)   1050624     block_3_1cbr_2_r[0][0]           \n",
            "__________________________________________________________________________________________________\n",
            "block_3_1cbr_3_bn (BatchNormali (None, 7, 7, 2048)   8192        block_3_1cbr_3_c[0][0]           \n",
            "__________________________________________________________________________________________________\n",
            "add_14 (Add)                    (None, 7, 7, 2048)   0           activation_13[0][0]              \n",
            "                                                                 block_3_1cbr_3_bn[0][0]          \n",
            "__________________________________________________________________________________________________\n",
            "activation_14 (Activation)      (None, 7, 7, 2048)   0           add_14[0][0]                     \n",
            "__________________________________________________________________________________________________\n",
            "block_3_2cbr_1_c (Conv2D)       (None, 7, 7, 512)    1049088     activation_14[0][0]              \n",
            "__________________________________________________________________________________________________\n",
            "block_3_2cbr_1_bn (BatchNormali (None, 7, 7, 512)    2048        block_3_2cbr_1_c[0][0]           \n",
            "__________________________________________________________________________________________________\n",
            "block_3_2cbr_1_r (Activation)   (None, 7, 7, 512)    0           block_3_2cbr_1_bn[0][0]          \n",
            "__________________________________________________________________________________________________\n",
            "block_3_2cbr_2_c (Conv2D)       (None, 7, 7, 512)    2359808     block_3_2cbr_1_r[0][0]           \n",
            "__________________________________________________________________________________________________\n",
            "block_3_2cbr_2_bn (BatchNormali (None, 7, 7, 512)    2048        block_3_2cbr_2_c[0][0]           \n",
            "__________________________________________________________________________________________________\n",
            "block_3_2cbr_2_r (Activation)   (None, 7, 7, 512)    0           block_3_2cbr_2_bn[0][0]          \n",
            "__________________________________________________________________________________________________\n",
            "block_3_2cbr_3_c (Conv2D)       (None, 7, 7, 2048)   1050624     block_3_2cbr_2_r[0][0]           \n",
            "__________________________________________________________________________________________________\n",
            "block_3_2cbr_3_bn (BatchNormali (None, 7, 7, 2048)   8192        block_3_2cbr_3_c[0][0]           \n",
            "__________________________________________________________________________________________________\n",
            "add_15 (Add)                    (None, 7, 7, 2048)   0           activation_14[0][0]              \n",
            "                                                                 block_3_2cbr_3_bn[0][0]          \n",
            "__________________________________________________________________________________________________\n",
            "activation_15 (Activation)      (None, 7, 7, 2048)   0           add_15[0][0]                     \n",
            "__________________________________________________________________________________________________\n",
            "average_pooling2d (AveragePooli (None, 1, 1, 2048)   0           activation_15[0][0]              \n",
            "__________________________________________________________________________________________________\n",
            "flatten (Flatten)               (None, 2048)         0           average_pooling2d[0][0]          \n",
            "__________________________________________________________________________________________________\n",
            "dense (Dense)                   (None, 100)          204900      flatten[0][0]                    \n",
            "==================================================================================================\n",
            "Total params: 23,777,252\n",
            "Trainable params: 23,731,812\n",
            "Non-trainable params: 45,440\n",
            "__________________________________________________________________________________________________\n"
          ],
          "name": "stdout"
        }
      ]
    },
    {
      "cell_type": "markdown",
      "metadata": {
        "id": "7izYM1WICnZH"
      },
      "source": [
        "# **Classifying Images with ResNet**\n",
        "\n",
        "We will now apply our ResNet50 model to the classification of the CIFAR-100 pictures."
      ]
    },
    {
      "cell_type": "markdown",
      "metadata": {
        "id": "r48-kznhCzu9"
      },
      "source": [
        "## **Training the Network**\n",
        "\n",
        "To imitate the ImageNet experiments, we will add the top-5 accuracy metrics. Conveniently, TensorFlow and Keras already provides multiple predefined losses and metrics:"
      ]
    },
    {
      "cell_type": "code",
      "metadata": {
        "id": "zqQC-fmKYnr7"
      },
      "source": [
        "optimizer = tf.keras.optimizers.Adam()\n",
        "\n",
        "accuracy_metric = tf.metrics.SparseCategoricalAccuracy(name='acc')\n",
        "top_5_accuracy_metric = tf.metrics.SparseTopKCategoricalAccuracy(k=5, name='top5_acc')\n",
        "resnet50.compile(optimizer=optimizer, loss='sparse_categorical_crossentropy', \n",
        "                 metrics=[accuracy_metric, top_5_accuracy_metric])"
      ],
      "execution_count": 23,
      "outputs": []
    },
    {
      "cell_type": "markdown",
      "metadata": {
        "id": "DyYR27u6EfLP"
      },
      "source": [
        "We have been using various pre-defined callbacks. This time, we will implement our own, inheriting from the abstract `Callback` class. This class defines an interface composed of several methods which will be called by Keras along the training (before each epoch, befor each batch iteration, after each batch iteration, etc.).\n",
        "\n",
        "For demonstration and to have more concise logs (since this notebook is quite long already), we will implement a callback printing some results only every `log_frequency` epochs, with some fancier styling:"
      ]
    },
    {
      "cell_type": "code",
      "metadata": {
        "id": "zQlfw5P3I1Ka"
      },
      "source": [
        "# Setting some variable to format the logs\n",
        "log_begin_red, log_begin_blue, log_begin_green = '\\033[91m', '\\033[94m', '\\033[92m'\n",
        "log_begin_bold, log_begin_underline = '\\033[1m', '\\033[4m'\n",
        "log_end_format = '\\033[0m'\n",
        "\n",
        "class SimpleLogCallback(tf.keras.callbacks.Callback):\n",
        "  \"\"\"\n",
        "  Keras callback for simple, denser console logs.\n",
        "  \"\"\"\n",
        "\n",
        "  def __init__(self, metrics_dict, num_epochs, log_frequency=1, \n",
        "               metric_string_template='{0}[[name]]{2} = {1}{[[value]]:.4f}{2}'):\n",
        "    \"\"\"\n",
        "    Initialize the Callback.\n",
        "    Args:\n",
        "      metrics_dict: Dictionary containing mappings for metrics names/keys \n",
        "                    e.g. {\"accuracy\": \"acc\", \"val. accuracy\": \"val_acc\"}\n",
        "      num_epochs: Number of training epochs.\n",
        "      log_frequency: Log frequency (in epochs).\n",
        "      metric_string_template: (opt.) String template to print each metric.\n",
        "    \"\"\"\n",
        "\n",
        "    super().__init__()\n",
        "    self.metrics_dict = collections.OrderedDict(metrics_dict)\n",
        "    self.num_epochs = num_epochs\n",
        "    self.log_frequency = log_frequency\n",
        "\n",
        "    # We build a format string later print the metrics, \n",
        "    # (e.g. \"Epoch 0/9: loss = 1.00; val-loss = 2.00\")\n",
        "    log_string_template = 'Epoch {3:2}/{4}: '\n",
        "    separator = '; '\n",
        "\n",
        "    i = 5\n",
        "    for metric_name in self.metrics_dict:\n",
        "      temp = metric_string_template.replace('[[name]]', metric_name) \\\n",
        "                                   .replace('[[value]]', str(i))\n",
        "      log_string_template += temp + separator\n",
        "      i += 1\n",
        "\n",
        "    # Remove the \"; \" after the last element:\n",
        "    log_string_template = log_string_template[:-len(separator)]\n",
        "    self.log_string_template = log_string_template\n",
        "\n",
        "  def on_train_begin(self, logs=None):\n",
        "    print('Training: {}start{}'.format(log_begin_red, log_end_format))\n",
        "\n",
        "  def on_train_end(self, logs=None):\n",
        "    print('Training: {}end{}'.format(log_begin_green, log_end_format))\n",
        "\n",
        "  def on_epoch_end(self, epoch, logs={}):\n",
        "    if (epoch - 1) % self.log_frequency == 0 or epoch == self.num_epochs:\n",
        "      values = [logs[self.metrics_dict[metric_name]] for metric_name in self.metrics_dict]\n",
        "      print(self.log_string_template.format(log_begin_bold, log_begin_blue,\n",
        "                                            log_end_format, epoch, self.num_epochs,\n",
        "                                            *values))"
      ],
      "execution_count": 32,
      "outputs": []
    },
    {
      "cell_type": "markdown",
      "metadata": {
        "id": "OIGgDoCQJg8e"
      },
      "source": [
        "***Note***: This callback function is added to `keras_custom_callbacks.py`, so we can reuse it in the next notebooks.\n",
        "\n",
        "We now instantiate and prepare all the callbacks we want to apply to our training:"
      ]
    },
    {
      "cell_type": "code",
      "metadata": {
        "id": "2Bv7DW5mJZJ2"
      },
      "source": [
        "import collections\n",
        "\n",
        "# Callback to simply log metrics at the end of each epoch (saving space compared to verbose=1):\n",
        "metrics_to_print = collections.OrderedDict([(\"loss\", \"loss\"), (\"v-loss\", \"val_loss\"),\n",
        "                                            (\"acc\", \"acc\"), (\"v-acc\", \"val_acc\"),\n",
        "                                            (\"top5-acc\", \"top5_acc\"), (\"v-top5-acc\", \"val_top5_acc\")])\n",
        "\n",
        "callback_simple_log = SimpleLogCallback(metrics_to_print, num_epochs=num_epochs,\n",
        "                                        log_frequency=2)"
      ],
      "execution_count": 33,
      "outputs": []
    },
    {
      "cell_type": "code",
      "metadata": {
        "id": "xKqxWAoyVokM",
        "colab": {
          "base_uri": "https://localhost:8080/"
        },
        "outputId": "2a4d26da-8fd5-4b59-957d-c4b01ed689c7"
      },
      "source": [
        "model_dir = './models/resnet_from_scratch'\n",
        "model_file = 'weights-epoch{epoch:02d}-loss{val_loss:.2f}.h5'\n",
        "callbacks = [tf.keras.callbacks.EarlyStopping(patience=8, monitor='val_acc', \n",
        "                                              restore_best_weights=True),\n",
        "             tf.keras.callbacks.ModelCheckpoint(os.path.join(model_dir, model_file),\n",
        "                                                period=5),\n",
        "             # Log callback:\n",
        "             callback_simple_log]"
      ],
      "execution_count": 34,
      "outputs": [
        {
          "output_type": "stream",
          "text": [
            "WARNING:tensorflow:`period` argument is deprecated. Please use `save_freq` to specify the frequency in number of batches seen.\n"
          ],
          "name": "stdout"
        },
        {
          "output_type": "stream",
          "text": [
            "WARNING:tensorflow:`period` argument is deprecated. Please use `save_freq` to specify the frequency in number of batches seen.\n"
          ],
          "name": "stderr"
        }
      ]
    },
    {
      "cell_type": "markdown",
      "metadata": {
        "id": "OxwR-YLMYiWz"
      },
      "source": [
        "We can now compile our model with a classification loss and the desired metrics, before launching the training:"
      ]
    },
    {
      "cell_type": "code",
      "metadata": {
        "id": "d263Oa7wYpl2",
        "colab": {
          "base_uri": "https://localhost:8080/"
        },
        "outputId": "4eacc0db-993f-4cc6-be16-4b7171f62817"
      },
      "source": [
        "history = resnet50.fit(train_cifar_dataset, epochs=num_epochs, \n",
        "                       steps_per_epoch=train_steps_per_epoch,\n",
        "                       validation_data=(val_cifar_dataset), \n",
        "                       validation_steps=val_steps_per_epoch, verbose=0, \n",
        "                       callbacks=callbacks)"
      ],
      "execution_count": 35,
      "outputs": [
        {
          "output_type": "stream",
          "text": [
            "Training: \u001b[91mstart\u001b[0m\n",
            "Epoch  1/10: \u001b[1mloss\u001b[0m = \u001b[94m2.1632\u001b[0m; \u001b[1mv-loss\u001b[0m = \u001b[94m2.1743\u001b[0m; \u001b[1macc\u001b[0m = \u001b[94m0.4244\u001b[0m; \u001b[1mv-acc\u001b[0m = \u001b[94m0.4260\u001b[0m; \u001b[1mtop5-acc\u001b[0m = \u001b[94m0.7425\u001b[0m; \u001b[1mv-top5-acc\u001b[0m = \u001b[94m0.7332\u001b[0m\n",
            "Epoch  3/10: \u001b[1mloss\u001b[0m = \u001b[94m1.7924\u001b[0m; \u001b[1mv-loss\u001b[0m = \u001b[94m1.9658\u001b[0m; \u001b[1macc\u001b[0m = \u001b[94m0.5104\u001b[0m; \u001b[1mv-acc\u001b[0m = \u001b[94m0.4867\u001b[0m; \u001b[1mtop5-acc\u001b[0m = \u001b[94m0.8106\u001b[0m; \u001b[1mv-top5-acc\u001b[0m = \u001b[94m0.7823\u001b[0m\n"
          ],
          "name": "stdout"
        },
        {
          "output_type": "stream",
          "text": [
            "/usr/local/lib/python3.7/dist-packages/keras/utils/generic_utils.py:497: CustomMaskWarning: Custom mask layers require a config and must override get_config. When loading, the custom mask layer must be passed to the custom_objects argument.\n",
            "  category=CustomMaskWarning)\n"
          ],
          "name": "stderr"
        },
        {
          "output_type": "stream",
          "text": [
            "Epoch  5/10: \u001b[1mloss\u001b[0m = \u001b[94m1.5073\u001b[0m; \u001b[1mv-loss\u001b[0m = \u001b[94m1.5664\u001b[0m; \u001b[1macc\u001b[0m = \u001b[94m0.5767\u001b[0m; \u001b[1mv-acc\u001b[0m = \u001b[94m0.5689\u001b[0m; \u001b[1mtop5-acc\u001b[0m = \u001b[94m0.8593\u001b[0m; \u001b[1mv-top5-acc\u001b[0m = \u001b[94m0.8399\u001b[0m\n",
            "Epoch  7/10: \u001b[1mloss\u001b[0m = \u001b[94m1.2856\u001b[0m; \u001b[1mv-loss\u001b[0m = \u001b[94m1.5477\u001b[0m; \u001b[1macc\u001b[0m = \u001b[94m0.6327\u001b[0m; \u001b[1mv-acc\u001b[0m = \u001b[94m0.5781\u001b[0m; \u001b[1mtop5-acc\u001b[0m = \u001b[94m0.8923\u001b[0m; \u001b[1mv-top5-acc\u001b[0m = \u001b[94m0.8465\u001b[0m\n",
            "WARNING:tensorflow:Your input ran out of data; interrupting training. Make sure that your dataset or generator can generate at least `steps_per_epoch * epochs` batches (in this case, 7820 batches). You may need to use the repeat() function when building your dataset.\n"
          ],
          "name": "stdout"
        },
        {
          "output_type": "stream",
          "text": [
            "WARNING:tensorflow:Your input ran out of data; interrupting training. Make sure that your dataset or generator can generate at least `steps_per_epoch * epochs` batches (in this case, 7820 batches). You may need to use the repeat() function when building your dataset.\n"
          ],
          "name": "stderr"
        },
        {
          "output_type": "stream",
          "text": [
            "Epoch  9/10: \u001b[1mloss\u001b[0m = \u001b[94m1.1202\u001b[0m; \u001b[1mv-loss\u001b[0m = \u001b[94m1.4345\u001b[0m; \u001b[1macc\u001b[0m = \u001b[94m0.6746\u001b[0m; \u001b[1mv-acc\u001b[0m = \u001b[94m0.6058\u001b[0m; \u001b[1mtop5-acc\u001b[0m = \u001b[94m0.9165\u001b[0m; \u001b[1mv-top5-acc\u001b[0m = \u001b[94m0.8711\u001b[0m\n",
            "Training: \u001b[92mend\u001b[0m\n"
          ],
          "name": "stdout"
        }
      ]
    },
    {
      "cell_type": "markdown",
      "metadata": {
        "id": "u5ERCWxTZHgj"
      },
      "source": [
        "Note that the `history` object returned by `model.fit()` can also be used to plot some of the training metrics:"
      ]
    },
    {
      "cell_type": "code",
      "metadata": {
        "id": "us7TUzz8Zc0D",
        "colab": {
          "base_uri": "https://localhost:8080/",
          "height": 624
        },
        "outputId": "1cd3f5ba-3475-4241-90e1-9055a1d45086"
      },
      "source": [
        "import matplotlib.pyplot as plt\n",
        "\n",
        "fig, axs = plt.subplots(3, 2, figsize=(15, 10), sharex='col')  # add parameter `sharey='row'` for a more direct comparison\n",
        "axs[0, 0].set_title('loss')\n",
        "axs[0, 1].set_title('val-loss')\n",
        "axs[1, 0].set_title('acc')\n",
        "axs[1, 1].set_title('val-acc')\n",
        "axs[2, 0].set_title('top5-acc')\n",
        "axs[2, 1].set_title('val-top5-acc')\n",
        "\n",
        "axs[0, 0].plot(history.history['loss'])\n",
        "axs[0, 1].plot(history.history['val_loss'])\n",
        "axs[1, 0].plot(history.history['acc'])\n",
        "axs[1, 1].plot(history.history['val_acc'])\n",
        "axs[2, 0].plot(history.history['top5_acc'])\n",
        "axs[2, 1].plot(history.history['val_top5_acc'])"
      ],
      "execution_count": 36,
      "outputs": [
        {
          "output_type": "execute_result",
          "data": {
            "text/plain": [
              "[<matplotlib.lines.Line2D at 0x7f0bb23c1dd0>]"
            ]
          },
          "metadata": {},
          "execution_count": 36
        },
        {
          "output_type": "display_data",
          "data": {
            "image/png": "[encoded data removed]",
            "text/plain": [
              "<Figure size 1080x720 with 6 Axes>"
            ]
          },
          "metadata": {
            "needs_background": "light"
          }
        }
      ]
    },
    {
      "cell_type": "code",
      "metadata": {
        "id": "haL2Vgv4aq1N",
        "colab": {
          "base_uri": "https://localhost:8080/"
        },
        "outputId": "7f854a83-a8a0-4a98-f69f-eccef626f985"
      },
      "source": [
        "best_val_acc = max(history.history['val_acc']) * 100\n",
        "best_val_top5 = max(history.history['val_top5_acc']) * 100\n",
        "\n",
        "print('Best val acc: {:2.2f}%'.format(best_val_acc))\n",
        "print('Best val top5: {:2.2f}%'.format(best_val_top5))"
      ],
      "execution_count": 37,
      "outputs": [
        {
          "output_type": "stream",
          "text": [
            "Best val acc: 60.58%\n",
            "Best val top5: 87.11%\n"
          ],
          "name": "stdout"
        }
      ]
    },
    {
      "cell_type": "markdown",
      "metadata": {
        "id": "yHbbua1mwet7"
      },
      "source": [
        "## **Predicting with the Network**\n",
        "\n",
        "Since we know have a complex model, fully implemented and trained by ourselves, we cannot conclude this notebook without at least testing it once on some unseen images.\n",
        "\n",
        "For that purpose, we first implement some utility functions to load test images (simply as `numpy` arrays), to get the top-t predictions and corresponding labels from the model's outputs, and finally to plot the results:"
      ]
    },
    {
      "cell_type": "code",
      "metadata": {
        "id": "zi0qZYUnxdSa"
      },
      "source": [
        "from tensorflow.keras.preprocessing.image import img_to_array, load_img\n",
        "import os\n",
        "import numpy as np\n",
        "import glob\n",
        "import matplotlib.pyplot as plt\n",
        "import matplotlib.gridspec as gridspec\n",
        "\n",
        "def load_images(img_path, size):\n",
        "  \"\"\"\n",
        "  Load an image ad Numpy array.\n",
        "  Args:\n",
        "    img_path: Path of the image.\n",
        "    size: Target size.\n",
        "  :return: Image array, normalized between 0 and 1.\n",
        "  \"\"\"\n",
        "\n",
        "  img = img_to_array(load_img(img_path, target_size=size)) / 255.\n",
        "  return img\n",
        "\n",
        "def process_predictions(class_probabilities, class_readable_labels, k=5):\n",
        "  \"\"\"\n",
        "  Process a batch of predictions from our estimator.\n",
        "  Args:\n",
        "    class_probabilities: Prediction results returned by the Keras classifier for \n",
        "                          a batch of data.\n",
        "    class_readable_labels: List of readable-class labels, for display.\n",
        "    k: Number or top predictions to consider.\n",
        "  :return: Readable labels and probabilities for the predicted classes.\n",
        "  \"\"\"\n",
        "\n",
        "  topk_labels, topk_probabilities = [], []\n",
        "  for i in range(len(class_probabilities)):\n",
        "    # Getting the top-k predictions:\n",
        "    topk_classes = sorted(np.argpartition(class_probabilities[i], -k)[-k:])\n",
        "\n",
        "    # Getting the corresponding labels and probabilities:\n",
        "    topk_labels.append([class_readable_labels[predicted] for predicted in topk_classes])\n",
        "    topk_probabilities.append(class_probabilities[i][topk_classes])\n",
        "\n",
        "  return topk_labels, topk_probabilities\n",
        "\n",
        "def display_predictions(images, topk_labels, topk_probabilities):\n",
        "  \"\"\"\n",
        "  Plot a batch of predictions.\n",
        "  Args:\n",
        "    images: Batch of input images.\n",
        "    topk_labels: String labels of predicted classes.\n",
        "    topk_probabilities: Probabilities for each class.\n",
        "  \"\"\"\n",
        "\n",
        "  num_images = len(images)\n",
        "  num_images_sqrt = np.sqrt(num_images)\n",
        "  plot_cols = plot_rows = int(np.ceil(num_images_sqrt))\n",
        "\n",
        "  figure = plt.figure(figsize=(13, 10))\n",
        "  grid_spec = gridspec.GridSpec(plot_cols, plot_rows)\n",
        "\n",
        "  for i in range(num_images):\n",
        "    img, pred_labels, pred_proba = images[i], topk_labels[i], topk_probabilities[i]\n",
        "    # Shortening the labels to better fit in the plot:\n",
        "    pred_labels = [label.split(',')[0][:20] for label in pred_labels]\n",
        "\n",
        "    grid_spec_i = gridspec.GridSpecFromSubplotSpec(3, 1, subplot_spec=grid_spec[i],\n",
        "                                                   hspace=0.1)\n",
        "    \n",
        "    # Drawing the input images:\n",
        "    ax_img = figure.add_subplot(grid_spec_i[:2])\n",
        "    ax_img.axis('off')\n",
        "    ax_img.imshow(img)\n",
        "    ax_img.autoscale(tight=True)\n",
        "\n",
        "    # Plotting a bar chart for the predictions:\n",
        "    ax_pred = figure.add_subplot(grid_spec_i[2])\n",
        "    ax_pred.spines['top'].set_visible(False)\n",
        "    ax_pred.spines['right'].set_visible(False)\n",
        "    ax_pred.spines['bottom'].set_visible(False)\n",
        "    ax_pred.spines['left'].set_visible(False)\n",
        "    y_pos = np.arange(len(pred_labels))\n",
        "    ax_pred.barh(y_pos, pred_proba, align='center')\n",
        "    ax_pred.set_yticks(y_pos)\n",
        "    ax_pred.set_yticklabels(pred_labels)\n",
        "    ax_pred.invert_yaxis()\n",
        "\n",
        "  plt.tight_layout()\n",
        "  plt.show()"
      ],
      "execution_count": 60,
      "outputs": []
    },
    {
      "cell_type": "markdown",
      "metadata": {
        "id": "mLwL2Jia3fNE"
      },
      "source": [
        "***Note***: This utility functions are added to `classification_utils.py` for later use.\n",
        "\n",
        "We made available several pictures. Let us see how our model fares on these real images!\n",
        "\n",
        "First we load them:"
      ]
    },
    {
      "cell_type": "code",
      "metadata": {
        "id": "bSf9hkCY3aVS",
        "colab": {
          "base_uri": "https://localhost:8080/"
        },
        "outputId": "ab736d68-a728-4990-9e16-fb643c4ff513"
      },
      "source": [
        "test_filenames = glob.glob(os.path.join('drive/MyDrive/res', '*'))\n",
        "test_images = np.asarray([load_images(file, size=input_shape[:2]) for file\n",
        "                          in test_filenames])\n",
        "print('Test images: {}'.format(test_images.shape))"
      ],
      "execution_count": 61,
      "outputs": [
        {
          "output_type": "stream",
          "text": [
            "Test images: (16, 224, 224, 3)\n"
          ],
          "name": "stdout"
        }
      ]
    },
    {
      "cell_type": "markdown",
      "metadata": {
        "id": "KnMgfKqc4VLz"
      },
      "source": [
        "Finally, we can use our model to predict image per image or batch per batch, and we can use the utility functions we just implemented to display the results:"
      ]
    },
    {
      "cell_type": "code",
      "metadata": {
        "id": "YXxx_P7i4UaN",
        "colab": {
          "base_uri": "https://localhost:8080/",
          "height": 746
        },
        "outputId": "a3a60c5f-b393-45d5-ddc2-2e33cc01ddf9"
      },
      "source": [
        "image_batch = test_images[:16]\n",
        "\n",
        "# Our model was trained on CIFAR images, which originally are 32x32px. We scale\n",
        "# them up to 224x224px to train our model on, but this means the resulting images\n",
        "# had important artifacts/low quality.\n",
        "# Top test on images of same quality, we first resize them to 32x32px, then to the\n",
        "# expected input size (i.e., 224x224px):\n",
        "cifar_original_image_size = cifar100_builder.info.features['image'].shape[:2]\n",
        "image_batch_low_quality = tf.image.resize(image_batch, cifar_original_image_size)\n",
        "image_batch_low_quality = tf.image.resize(image_batch_low_quality, input_shape[:2])\n",
        "\n",
        "predictions = resnet50.predict_on_batch(image_batch_low_quality)\n",
        "print('Predicted class probabilities: {}'.format(predictions.shape))\n",
        "\n",
        "class_readable_labels = cifar100_builder.info.features['label'].names\n",
        "top5_labels, top5_probabilities = process_predictions(predictions, class_readable_labels)\n",
        "\n",
        "display_predictions(image_batch, top5_labels, top5_probabilities)"
      ],
      "execution_count": 62,
      "outputs": [
        {
          "output_type": "stream",
          "text": [
            "Predicted class probabilities: (16, 100)\n"
          ],
          "name": "stdout"
        },
        {
          "output_type": "display_data",
          "data": {
            "image/png": "[encoded data removed]",
            "text/plain": [
              "<Figure size 936x720 with 32 Axes>"
            ]
          },
          "metadata": {
            "needs_background": "light"
          }
        }
      ]
    },
    {
      "cell_type": "markdown",
      "metadata": {
        "id": "NNFNgp_g82Xn"
      },
      "source": [
        "# **Appendix - Object-Oriented Model Implementation**\n",
        "\n",
        "In this appendix, we propose a different re-implementation of `ResNet`, following a more `object-oriented` approach.\n",
        "\n",
        "We rewrite each of the functions to generate layers and blocks as classes, still using Keras Functional API:"
      ]
    },
    {
      "cell_type": "code",
      "metadata": {
        "id": "nUv9-dwp5yM7"
      },
      "source": [
        "class ConvWithBatchNorm(tf.keras.layers.Conv2D):\n",
        "  \"\"\"\n",
        "  Convolutional layer with batch normalization\n",
        "  \"\"\"\n",
        "\n",
        "  def __init__(self, activation='relu', name='convbn', **kwargs):\n",
        "    \"\"\"\n",
        "    Initialize the layer.\n",
        "    Args:\n",
        "      activation: Activation function (name or callable).\n",
        "      name: Name suffix for the sub-layers.\n",
        "      kwargs: Mandatory and optional parameters of tf.keras.layers.Conv2D.\n",
        "    \"\"\"\n",
        "\n",
        "    self.activation = Activation(activation, \n",
        "                                 name=name + '_act') if activation is not None else None\n",
        "    super().__init__(activation=None, name=name + '_c', **kwargs)\n",
        "    self.batch_norm = BatchNormalization(axis=-1, name=name + '_bn')\n",
        "\n",
        "  def call(self, inputs, training=None):\n",
        "    \"\"\"\n",
        "    Call the layer.\n",
        "    Args:\n",
        "      inputs: Input tensor to process.\n",
        "      training: Flag to let TF knows if it is a training iteration or not (this\n",
        "                will affect the behavior of BatchNorm)\n",
        "    :return: Convolved tensor\n",
        "    \"\"\"\n",
        "\n",
        "    x = super().call(inputs)\n",
        "    x = self.batch_norm(x, training=training)\n",
        "    if self.activation is not None:\n",
        "      x = self.activation(x)\n",
        "    return x"
      ],
      "execution_count": 63,
      "outputs": []
    },
    {
      "cell_type": "code",
      "metadata": {
        "id": "iZfSPtWa-wEq"
      },
      "source": [
        "import functools\n",
        "\n",
        "class ResidualMerge(tf.keras.layers.Layer):\n",
        "  \"\"\"\n",
        "  Layer to merge the original tensor and the residual one in residual blocks\n",
        "  \"\"\"\n",
        "\n",
        "  def __init__(self, name='block', **kwargs):\n",
        "    \"\"\"\n",
        "    Initialize the layer\n",
        "    Args:\n",
        "      name: Name suffix for the sub-layers.\n",
        "      kwargs: Optional parameters of tf.keras.layers.Conv2D\n",
        "    \"\"\"\n",
        "\n",
        "    super().__init__(name=name)\n",
        "    self.shortcut = None\n",
        "    self.kwargs = kwargs\n",
        "\n",
        "  def build(self, input_shape):\n",
        "    x_shape = input_shape[0]\n",
        "    x_residual_shape = input_shape[1]\n",
        "    if x_shape[1] == x_residual_shape[1] and \\\n",
        "       x_shape[2] == x_residual_shape[2] and \\\n",
        "       x_shape[3] == x_residual_shape[3]:\n",
        "       self.shortcut = functools.partial(tf.identity, name=self.name + '_shortcut')\n",
        "    else:\n",
        "        strides = (\n",
        "            int(round(x_shape[1] / x_residual_shape[1])),  # vertial stride\n",
        "            int(round(x_shape[2] / x_residual_shape[2]))  # horizontal stride\n",
        "        )\n",
        "        x_residual_channels = x_residual_shape[3]\n",
        "        self.shortcut = ConvWithBatchNorm(\n",
        "            filters=x_residual_channels, kernel_size=(1, 1), strides=strides,\n",
        "            activation=None, name=self.name + '_shortcut', **self.kwargs\n",
        "        )\n",
        "\n",
        "  def call(self, inputs):\n",
        "    \"\"\"\n",
        "    Call the layer.\n",
        "    Args:\n",
        "      inputs: Tuples of two input tensor to merge\n",
        "    :return: Merged tensor\n",
        "    \"\"\"\n",
        "\n",
        "    x, x_residual = inputs\n",
        "    x_shortcut = self.shortcut(x)\n",
        "    x_merge = add([x_shortcut, x_residual])\n",
        "    return x_merge"
      ],
      "execution_count": 64,
      "outputs": []
    },
    {
      "cell_type": "code",
      "metadata": {
        "id": "vtDZAQbMA4fZ"
      },
      "source": [
        "class BasicResidualBlock(tf.keras.Model):\n",
        "  \"\"\"\n",
        "  Basic residual block.\n",
        "  \"\"\"\n",
        "\n",
        "  def __init__(self, filters=16, kernel_size=1, strides=1, activation='relu',\n",
        "               kernel_initializer='he_normal', kernel_regularizer=regularizers.l2(1e-4),\n",
        "               name='res_basic', **kwargs):\n",
        "    \"\"\"\n",
        "    Initialize the layer.\n",
        "    Args:\n",
        "      filters: Number of filters.\n",
        "      kernel_size: Kernel size.\n",
        "      strides: Convolution strides.\n",
        "      activation: Activation funciton (name or callable).\n",
        "      kernel_initializer: Kernel initialization.\n",
        "      kernel_regularizer: Kernel regularizer.\n",
        "      name: Name suffix for the sub-layers.\n",
        "      kwargs: Optional parameters of tf.keras.layers.Conv2D.\n",
        "    \"\"\"\n",
        "\n",
        "    super().__init__(name=name)\n",
        "\n",
        "    self.conv_1 = ConvWithBatchNorm(filters=filters, kernel_size=kernel_size,\n",
        "                                    activation=activation, padding='same', \n",
        "                                    kernel_initializer=kernel_initializer,\n",
        "                                    kernel_regularizer=kernel_regularizer,\n",
        "                                    strides=strides, name=name + '_cb_1', **kwargs)\n",
        "    \n",
        "    self.conv_2 = ConvWithBatchNorm(filters=filters, kernel_size=kernel_size,\n",
        "                                    activation=None, padding='same', \n",
        "                                    kernel_initializer=kernel_initializer,\n",
        "                                    kernel_regularier=kernel_regularizer,\n",
        "                                    strides=1, name=name + '_cb_2', **kwargs)\n",
        "    \n",
        "    self.merge = ResidualMerge(kernel_initializer=kernel_initializer,\n",
        "                               kernel_regularizer=kernel_regularizer, name=name)\n",
        "    \n",
        "    self.activation = Activation(activation, name=name + '_act')\n",
        "\n",
        "  def call(self, inputs, training=None):\n",
        "    \"\"\"\n",
        "    Call the block.\n",
        "    Args:\n",
        "      inputs: Input tensor to process.\n",
        "      training: Flag to let TF knows if it is a training iteration or not (this \n",
        "                will affect the behavior of BatchNorm)\n",
        "    :return: Block ouput tensor\n",
        "    \"\"\"\n",
        "\n",
        "    x = inputs\n",
        "    # Residual path:\n",
        "    x_residual = self.conv_1(x, training=training)\n",
        "    x_residual = self.conv_2(x_residual, training=training)\n",
        "\n",
        "    # Merge residual result with original tensor:\n",
        "    x_merge = self.merge([x, x_residual])\n",
        "    x_merge = self.activation(x_merge)\n",
        "    return x_merge"
      ],
      "execution_count": 65,
      "outputs": []
    },
    {
      "cell_type": "code",
      "metadata": {
        "id": "j_uycS5LDz1m"
      },
      "source": [
        "class ResidualBlockWithBottleneck(tf.keras.Model):\n",
        "  \"\"\"\n",
        "  Residual block with bottleneck, recommended for deep ResNets (depth > 34)\n",
        "  \"\"\"\n",
        "\n",
        "  def __init__(self, filters=16, kernel_size=1, strides=1, activation='relu',\n",
        "               kernel_initializer='he_normal', kernel_regularizer=regularizers.l2(1e-4),\n",
        "               name='res_bottleneck', **kwargs):\n",
        "    \"\"\"\n",
        "    Initialize the block.\n",
        "    Args:\n",
        "      filters: Number of filters.\n",
        "      kernel_size: Kernel size.\n",
        "      strides: Convolution strides.\n",
        "      activation: Activation function (name or callable).\n",
        "      kernel_initializer: Kernel initialization method name.\n",
        "      kernel_regularizer: Kernel regularizer.\n",
        "      name: Name suffix for the sub-layers.\n",
        "      kwargs: Optional parameters of tf.keras.layers.Conv2D.\n",
        "    \"\"\"\n",
        "\n",
        "    super().__init__(name=name)\n",
        "\n",
        "    self.conv_0 = ConvWithBatchNorm(filters=filters, kernel_size=1, \n",
        "                                    activation=activation, padding='valid',\n",
        "                                    kernel_initializer=kernel_initializer,\n",
        "                                    kernel_regularizer=kernel_regularizer, \n",
        "                                    strides=strides, name=name + '_cb_0', **kwargs)\n",
        "    \n",
        "    self.conv_1 = ConvWithBatchNorm(filters=filters, kernel_size=kernel_size,\n",
        "                                    activation=activation, padding='same', \n",
        "                                    kernel_initializer=kernel_initializer,\n",
        "                                    kernel_regularizer=kernel_regularizer,\n",
        "                                    strides=1, name=name + '_cb_1', **kwargs)\n",
        "    \n",
        "    self.conv_2 = ConvWithBatchNorm(filters=filters * 4, kernel_size=1, \n",
        "                                    activation=None, padding='valid',\n",
        "                                    kernel_initializer=kernel_initializer,\n",
        "                                    kernel_regularizer=kernel_regularizer,\n",
        "                                    strides=1, name=name + '_cb_2', **kwargs)\n",
        "    \n",
        "    self.merge = ResidualMerge(kernel_initializer=kernel_initializer, \n",
        "                               kernel_regularizer=kernel_regularizer, name=name)\n",
        "    \n",
        "    self.activation = Activation(activation, name=name + '_act')\n",
        "\n",
        "  def call(self, inputs, training=None):\n",
        "    \"\"\"\n",
        "    Call the layer.\n",
        "    Args:\n",
        "      inputs: Input tensor to process.\n",
        "      training: Flag to let TF knows if it is a training iteration or not (this\n",
        "                will affect the behavior of BatchNorm)\n",
        "    :return: Block output tensor\n",
        "    \"\"\"\n",
        "\n",
        "    x = inputs\n",
        "    # Residual path:\n",
        "    x_residual = self.conv_0(x, training=training)\n",
        "    x_residual = self.conv_1(x_residual, training=training)\n",
        "    x_residual = self.conv_2(x_residual, training=training)\n",
        "\n",
        "    # Merge residual result with original tensor:\n",
        "    x_merge = self.merge([x, x_residual])\n",
        "    x_merge = self.activation(x_merge)\n",
        "    return x_merge"
      ],
      "execution_count": 88,
      "outputs": []
    },
    {
      "cell_type": "code",
      "metadata": {
        "id": "Ka1C_2R9HxJn"
      },
      "source": [
        "class ResidualMacroBlock(tf.keras.models.Sequential):\n",
        "  \"\"\"\n",
        "  Macro-block, chaining multiple residual blocks (as a Sequential model)\n",
        "  \"\"\"\n",
        "\n",
        "  def __init__(self, block_class=ResidualBlockWithBottleneck, repetitions=3, \n",
        "               filters=16, kernel_size=1, strides=1, activation='relu', \n",
        "               kernel_initializer='he_normal', kernel_regularizer=regularizers.l2(1e-4),\n",
        "               name='res_macroblock', **kwargs):\n",
        "    \"\"\"\n",
        "    Initialize the block.\n",
        "    Args:\n",
        "      block_class: Block class to be used.\n",
        "      repetitions: Number of times the block should be repeated inside.\n",
        "      filters: Number of filters.\n",
        "      kernel_size: Kernel size.\n",
        "      strides: Convolution strides.\n",
        "      activation: Activation function (name or callable).\n",
        "      kernel_initializer: Kernel initialization method name.\n",
        "      kernel_regularizer: Kernel regularizer.\n",
        "      name: Name suffix for the sub-layers.\n",
        "      kwargs: Optional parameters of tf.keras.layers.Conv2D.\n",
        "    \"\"\"\n",
        "\n",
        "    super().__init__([block_class(filters=filters, kernel_size=kernel_size, \n",
        "                                  activation=activation, strides=strides if i == 0 else 1,\n",
        "                                  name='{}_{}'.format(name, i), \n",
        "                                  kernel_initializer=kernel_initializer,\n",
        "                                  kernel_regularizer=kernel_regularizer) for i in range (repetitions)],\n",
        "                     name=name)"
      ],
      "execution_count": 80,
      "outputs": []
    },
    {
      "cell_type": "code",
      "metadata": {
        "id": "JeDdFeKGJ6Ls"
      },
      "source": [
        "class ResNet(tf.keras.models.Sequential):\n",
        "  \"\"\"\n",
        "  ResNet model for classification\n",
        "  \"\"\"\n",
        "\n",
        "  def __init__(self, input_shape, num_classes=1000, \n",
        "               block_class=ResidualBlockWithBottleneck, repetitions=(2, 2, 2, 2),\n",
        "               kernel_initializer='he_normal', kernel_regularizer=regularizers.l2(1e-4),\n",
        "               name='resnet'):\n",
        "    \"\"\"\n",
        "    Initialize a ResNet model for classification.\n",
        "    Args:\n",
        "      input_shape: Input shape (e.g. (224, 224, 3)).\n",
        "      num_classes: Number or classes to predict.\n",
        "      block_classes: Block class to be used.\n",
        "      repetitions: List of repetitions for each macro-blocks the network should contain.\n",
        "      kernel_initializer: Kernel initialization method name.\n",
        "      kernel_regularizer: Kernel regularizer.\n",
        "      name: Model's name.\n",
        "    :return: ResNet model.\n",
        "    \"\"\"\n",
        "\n",
        "    filters = 64\n",
        "    strides = 2\n",
        "\n",
        "    super().__init__(\n",
        "        # Initial conv + max_pool layers:\n",
        "        [Input(shape=input_shape, name='input'),\n",
        "         ConvWithBatchNorm(filters=filters, kernel_size=7, activation='relu', \n",
        "                           padding='same', strides=strides, \n",
        "                           kernel_initializer=kernel_initializer,\n",
        "                           kernel_regularizer=kernel_regularizer, name='conv'),\n",
        "         MaxPooling2D(pool_size=3, strides=strides, padding='same', \n",
        "                      name='max_pool')] + \\\n",
        "        # Residual blocks:\n",
        "        [ResidualMacroBlock(\n",
        "            block_class=block_class, repetitions=repet, \n",
        "            filters=min(filters * (2 ** i), 1024), kernel_size=3, activation='relu',\n",
        "            strides=strides if i != 0 else 1, name='block_{}'.format(i),\n",
        "            kernel_initializer=kernel_initializer, kernel_regularizer=kernel_regularizer\n",
        "        ) for i, repet in enumerate(repetitions)] + \\\n",
        "        # Final layers leading to classification output:\n",
        "        [GlobalAveragePooling2D(name='avg_pool'), \n",
        "         Dense(units=num_classes, kernel_initializer=kernel_initializer, activation='softmax')],\n",
        "    name=name)"
      ],
      "execution_count": 85,
      "outputs": []
    },
    {
      "cell_type": "code",
      "metadata": {
        "id": "t2qOQSGWM_cp"
      },
      "source": [
        "# Standard ResNet versions:\n",
        "class ResNet18(ResNet):\n",
        "  def __init__(self, input_shape, num_classes=1000, name='resnet18', \n",
        "               kernel_initializer='he_normal', kernel_regularizer=regularizers.l2(1e-4)):\n",
        "    super().__init__(input_shape, num_classes, block_class=BasicResidualBlock,\n",
        "                     repetitions=(2, 2, 2, 2), kernel_initializer=kernel_initializer,\n",
        "                     kernel_regularizer=kernel_regularizer)\n",
        "    \n",
        "\n",
        "class ResNet34(ResNet):\n",
        "  def __init__(self, input_shape, num_classes=1000, name='resnet34', \n",
        "               kernel_initializer='he_normal', kernel_regularizer=regularizers.l2(1e-4)):\n",
        "    super().__init__(input_shape, num_classes, block_class=BasicResidualBlock, \n",
        "                     repetitions=(3, 4, 6, 3), kernel_initializer=kernel_initializer,\n",
        "                     kernel_regularizer=kernel_regularizer)\n",
        "    \n",
        "\n",
        "class ResNet50(ResNet):\n",
        "  def __init__(self, input_shape, num_classes=1000, name='resnet50',\n",
        "               kernel_initializer='he_normal', kernel_regularizer=regularizers.l2(1e-4)):\n",
        "    super().__init__(input_shape, num_classes, block_class=ResidualBlockWithBottleneck,\n",
        "                     repetitions=(3, 4, 6, 3), kernel_initializer=kernel_initializer,\n",
        "                     kernel_regularizer=kernel_regularizer)\n",
        "    \n",
        "\n",
        "class ResNet101(ResNet):\n",
        "  def __init__(self, input_shape, num_classes=1000, name='resnet101',\n",
        "               kernel_initializer='he_normal', kernel_regularizer=regularizers.l2(1e-4)):\n",
        "    super().__init__(input_shape, num_classes, block_class=ResidualBlockWithBottleneck,\n",
        "                     repetitions=(3, 4, 23, 3), kernel_initializer=kernel_initializer,\n",
        "                     kernel_regularizer=kernel_regularizer)\n",
        "    \n",
        "\n",
        "def ResNet152(ResNet):\n",
        "  def __init__(self, input_shape, num_classes=1000, name='resnet152',\n",
        "               kernel_initializer='he_normal', kernel_regularizer=regularizers.l2(1e-4)):\n",
        "    super().__init__(input_shape, num_classes, block_class=ResidualBlockWithBottleneck,\n",
        "                     repetitions=(3, 8, 36, 3), kernel_initializer=kernel_initializer,\n",
        "                     kernel_regularizer=kernel_regularizer)"
      ],
      "execution_count": 86,
      "outputs": []
    },
    {
      "cell_type": "markdown",
      "metadata": {
        "id": "m_xyPVL8QI7M"
      },
      "source": [
        "Let instantiate a network and have a look at its structure:"
      ]
    },
    {
      "cell_type": "code",
      "metadata": {
        "id": "9Pcpn50_QCed",
        "colab": {
          "base_uri": "https://localhost:8080/"
        },
        "outputId": "1da3d135-2644-4ff5-8a8f-6a4564eb9fdb"
      },
      "source": [
        "model = ResNet50(input_shape, num_classes)\n",
        "model.summary(line_length=80, positions=[.5, .85, 1.])"
      ],
      "execution_count": 87,
      "outputs": [
        {
          "output_type": "stream",
          "text": [
            "Model: \"resnet\"\n",
            "________________________________________________________________________________\n",
            "Layer (type)                            Output Shape                Param #     \n",
            "================================================================================\n",
            "conv_c (ConvWithBatchNorm)              (None, 112, 112, 64)        9728        \n",
            "________________________________________________________________________________\n",
            "max_pool (MaxPooling2D)                 (None, 56, 56, 64)          0           \n",
            "________________________________________________________________________________\n",
            "block_0 (ResidualMacroBlock)            (None, 56, 56, 256)         220032      \n",
            "________________________________________________________________________________\n",
            "block_1 (ResidualMacroBlock)            (None, 28, 28, 512)         1230336     \n",
            "________________________________________________________________________________\n",
            "block_2 (ResidualMacroBlock)            (None, 14, 14, 1024)        7129088     \n",
            "________________________________________________________________________________\n",
            "block_3 (ResidualMacroBlock)            (None, 7, 7, 2048)          14998528    \n",
            "________________________________________________________________________________\n",
            "avg_pool (GlobalAveragePooling2D)       (None, 2048)                0           \n",
            "________________________________________________________________________________\n",
            "dense_3 (Dense)                         (None, 100)                 204900      \n",
            "================================================================================\n",
            "Total params: 23,792,612\n",
            "Trainable params: 23,739,492\n",
            "Non-trainable params: 53,120\n",
            "________________________________________________________________________________\n"
          ],
          "name": "stdout"
        }
      ]
    },
    {
      "cell_type": "markdown",
      "metadata": {
        "id": "txNdAFopQYST"
      },
      "source": [
        "That is a much more concise summary as the one we printed earlier in the notebook. It may not be as informative though... But since our residual blocks are also `Model` instances, we can check their own summary to obtain as much detail as we wish:"
      ]
    },
    {
      "cell_type": "code",
      "metadata": {
        "id": "aWsg9hrCQW7v",
        "colab": {
          "base_uri": "https://localhost:8080/"
        },
        "outputId": "275f0ffe-614a-442f-b378-8e6f1195425d"
      },
      "source": [
        "# Summary of the last macro-block:\n",
        "model.layers[-3].summary(line_length=80, positions=[.5, .85, 1.])"
      ],
      "execution_count": 76,
      "outputs": [
        {
          "output_type": "stream",
          "text": [
            "Model: \"block_3\"\n",
            "________________________________________________________________________________\n",
            "Layer (type)                            Output Shape                Param #     \n",
            "================================================================================\n",
            "block_3_0 (ResidualBlockWithBottleneck) (None, 7, 7, 2048)          6054912     \n",
            "________________________________________________________________________________\n",
            "block_3_1 (ResidualBlockWithBottleneck) (None, 7, 7, 2048)          4471808     \n",
            "________________________________________________________________________________\n",
            "block_3_2 (ResidualBlockWithBottleneck) (None, 7, 7, 2048)          4471808     \n",
            "================================================================================\n",
            "Total params: 14,998,528\n",
            "Trainable params: 14,976,000\n",
            "Non-trainable params: 22,528\n",
            "________________________________________________________________________________\n"
          ],
          "name": "stdout"
        }
      ]
    },
    {
      "cell_type": "code",
      "metadata": {
        "id": "w6QFL1hFQzLR",
        "colab": {
          "base_uri": "https://localhost:8080/"
        },
        "outputId": "c775b164-974b-49a1-86cf-ef4dbfdd2ad5"
      },
      "source": [
        "# Summary of the last block of the last macro-block:\n",
        "model.layers[-3].layers[-1].summary(line_length=80, positions=[.5, .85, 1.])"
      ],
      "execution_count": 77,
      "outputs": [
        {
          "output_type": "stream",
          "text": [
            "Model: \"block_3_2\"\n",
            "________________________________________________________________________________\n",
            "Layer (type)                            Output Shape                Param #     \n",
            "================================================================================\n",
            "block_3_2_cb_0_c (ConvWithBatchNorm)    multiple                    1051136     \n",
            "________________________________________________________________________________\n",
            "block_3_2_cb_1_c (ConvWithBatchNorm)    multiple                    2361856     \n",
            "________________________________________________________________________________\n",
            "block_3_2_cb_2_c (ConvWithBatchNorm)    multiple                    1058816     \n",
            "________________________________________________________________________________\n",
            "block_3_2 (ResidualMerge)               multiple                    0           \n",
            "________________________________________________________________________________\n",
            "block_3_2_act (Activation)              multiple                    0           \n",
            "================================================================================\n",
            "Total params: 4,471,808\n",
            "Trainable params: 4,465,664\n",
            "Non-trainable params: 6,144\n",
            "________________________________________________________________________________\n"
          ],
          "name": "stdout"
        }
      ]
    },
    {
      "cell_type": "markdown",
      "metadata": {
        "id": "wtLPuM77Q-or"
      },
      "source": [
        "Both approaches to the Keras Functional API have their own pros and cons."
      ]
    },
    {
      "cell_type": "code",
      "metadata": {
        "id": "mHCS4y9zQ9_L"
      },
      "source": [
        ""
      ],
      "execution_count": null,
      "outputs": []
    }
  ]
}